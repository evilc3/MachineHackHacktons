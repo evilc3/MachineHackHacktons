{
 "cells": [
  {
   "cell_type": "code",
   "execution_count": 19,
   "metadata": {},
   "outputs": [
    {
     "data": {
      "text/plain": [
       "Index(['grade_A_Component_1', 'grade_A_Component_2', 'max_luminosity',\n",
       "       'thickness', 'xmin', 'xmax', 'ymin', 'ymax', 'pixel_area', 'log_area',\n",
       "       'x_component_1', 'x_component_2', 'x_component_3', 'x_component_4',\n",
       "       'x_component_5', 'Component', 'class'],\n",
       "      dtype='object')"
      ]
     },
     "execution_count": 19,
     "metadata": {},
     "output_type": "execute_result"
    }
   ],
   "source": [
    "import pandas as pd\n",
    "import numpy as np\n",
    "import matplotlib.pyplot as plt\n",
    "import seaborn as sns\n",
    "\n",
    "import xgboost as xgb \n",
    "from xgboost.sklearn import XGBClassifier\n",
    "from sklearn.metrics import log_loss\n",
    "from sklearn.model_selection import KFold\n",
    "\n",
    "from imblearn.over_sampling import SMOTE,SVMSMOTE\n",
    "from imblearn.under_sampling import RandomUnderSampler\n",
    "from imblearn.pipeline import Pipeline\n",
    "from collections import Counter\n",
    "\n",
    "\n",
    "train_data = pd.read_csv('Train.csv')\n",
    "test_data = pd.read_csv('Test.csv')\n",
    "\n",
    "\n",
    "train_data.columns"
   ]
  },
  {
   "cell_type": "code",
   "execution_count": 2,
   "metadata": {},
   "outputs": [
    {
     "name": "stdout",
     "output_type": "stream",
     "text": [
      "no of features 15\n"
     ]
    }
   ],
   "source": [
    "print('no of features',len(train_data.columns) - 1)"
   ]
  },
  {
   "cell_type": "code",
   "execution_count": 3,
   "metadata": {},
   "outputs": [
    {
     "data": {
      "text/html": [
       "<div>\n",
       "<style scoped>\n",
       "    .dataframe tbody tr th:only-of-type {\n",
       "        vertical-align: middle;\n",
       "    }\n",
       "\n",
       "    .dataframe tbody tr th {\n",
       "        vertical-align: top;\n",
       "    }\n",
       "\n",
       "    .dataframe thead th {\n",
       "        text-align: right;\n",
       "    }\n",
       "</style>\n",
       "<table border=\"1\" class=\"dataframe\">\n",
       "  <thead>\n",
       "    <tr style=\"text-align: right;\">\n",
       "      <th></th>\n",
       "      <th>grade_A_Component_1</th>\n",
       "      <th>grade_A_Component_2</th>\n",
       "      <th>max_luminosity</th>\n",
       "      <th>thickness</th>\n",
       "      <th>xmin</th>\n",
       "      <th>xmax</th>\n",
       "      <th>ymin</th>\n",
       "      <th>ymax</th>\n",
       "      <th>pixel_area</th>\n",
       "      <th>log_area</th>\n",
       "      <th>x_component_1</th>\n",
       "      <th>x_component_2</th>\n",
       "      <th>x_component_3</th>\n",
       "      <th>x_component_4</th>\n",
       "      <th>x_component_5</th>\n",
       "      <th>class</th>\n",
       "    </tr>\n",
       "  </thead>\n",
       "  <tbody>\n",
       "    <tr>\n",
       "      <th>0</th>\n",
       "      <td>0</td>\n",
       "      <td>1</td>\n",
       "      <td>150</td>\n",
       "      <td>36</td>\n",
       "      <td>144</td>\n",
       "      <td>172</td>\n",
       "      <td>947225</td>\n",
       "      <td>947332</td>\n",
       "      <td>439</td>\n",
       "      <td>439.099273</td>\n",
       "      <td>0</td>\n",
       "      <td>0</td>\n",
       "      <td>1</td>\n",
       "      <td>0</td>\n",
       "      <td>0</td>\n",
       "      <td>1</td>\n",
       "    </tr>\n",
       "    <tr>\n",
       "      <th>1</th>\n",
       "      <td>1</td>\n",
       "      <td>0</td>\n",
       "      <td>134</td>\n",
       "      <td>55</td>\n",
       "      <td>1144</td>\n",
       "      <td>1152</td>\n",
       "      <td>2379058</td>\n",
       "      <td>2379624</td>\n",
       "      <td>329</td>\n",
       "      <td>329.205616</td>\n",
       "      <td>1</td>\n",
       "      <td>0</td>\n",
       "      <td>0</td>\n",
       "      <td>0</td>\n",
       "      <td>0</td>\n",
       "      <td>1</td>\n",
       "    </tr>\n",
       "    <tr>\n",
       "      <th>2</th>\n",
       "      <td>1</td>\n",
       "      <td>0</td>\n",
       "      <td>135</td>\n",
       "      <td>65</td>\n",
       "      <td>950</td>\n",
       "      <td>974</td>\n",
       "      <td>1038442</td>\n",
       "      <td>1036754</td>\n",
       "      <td>300</td>\n",
       "      <td>300.120598</td>\n",
       "      <td>0</td>\n",
       "      <td>0</td>\n",
       "      <td>0</td>\n",
       "      <td>0</td>\n",
       "      <td>0</td>\n",
       "      <td>2</td>\n",
       "    </tr>\n",
       "    <tr>\n",
       "      <th>3</th>\n",
       "      <td>0</td>\n",
       "      <td>1</td>\n",
       "      <td>123</td>\n",
       "      <td>35</td>\n",
       "      <td>41</td>\n",
       "      <td>220</td>\n",
       "      <td>1705580</td>\n",
       "      <td>1705604</td>\n",
       "      <td>6803</td>\n",
       "      <td>6803.778622</td>\n",
       "      <td>0</td>\n",
       "      <td>0</td>\n",
       "      <td>1</td>\n",
       "      <td>0</td>\n",
       "      <td>0</td>\n",
       "      <td>1</td>\n",
       "    </tr>\n",
       "    <tr>\n",
       "      <th>4</th>\n",
       "      <td>1</td>\n",
       "      <td>0</td>\n",
       "      <td>138</td>\n",
       "      <td>69</td>\n",
       "      <td>462</td>\n",
       "      <td>466</td>\n",
       "      <td>1088124</td>\n",
       "      <td>1086579</td>\n",
       "      <td>251</td>\n",
       "      <td>251.401943</td>\n",
       "      <td>0</td>\n",
       "      <td>0</td>\n",
       "      <td>0</td>\n",
       "      <td>0</td>\n",
       "      <td>0</td>\n",
       "      <td>2</td>\n",
       "    </tr>\n",
       "    <tr>\n",
       "      <th>5</th>\n",
       "      <td>1</td>\n",
       "      <td>0</td>\n",
       "      <td>127</td>\n",
       "      <td>72</td>\n",
       "      <td>246</td>\n",
       "      <td>256</td>\n",
       "      <td>1137516</td>\n",
       "      <td>1136929</td>\n",
       "      <td>177</td>\n",
       "      <td>177.184821</td>\n",
       "      <td>0</td>\n",
       "      <td>1</td>\n",
       "      <td>0</td>\n",
       "      <td>0</td>\n",
       "      <td>0</td>\n",
       "      <td>1</td>\n",
       "    </tr>\n",
       "    <tr>\n",
       "      <th>6</th>\n",
       "      <td>0</td>\n",
       "      <td>1</td>\n",
       "      <td>99</td>\n",
       "      <td>39</td>\n",
       "      <td>242</td>\n",
       "      <td>359</td>\n",
       "      <td>87212</td>\n",
       "      <td>87169</td>\n",
       "      <td>3369</td>\n",
       "      <td>3369.037497</td>\n",
       "      <td>0</td>\n",
       "      <td>0</td>\n",
       "      <td>1</td>\n",
       "      <td>0</td>\n",
       "      <td>0</td>\n",
       "      <td>1</td>\n",
       "    </tr>\n",
       "    <tr>\n",
       "      <th>7</th>\n",
       "      <td>0</td>\n",
       "      <td>1</td>\n",
       "      <td>136</td>\n",
       "      <td>38</td>\n",
       "      <td>48</td>\n",
       "      <td>202</td>\n",
       "      <td>697615</td>\n",
       "      <td>696534</td>\n",
       "      <td>6159</td>\n",
       "      <td>6159.902918</td>\n",
       "      <td>0</td>\n",
       "      <td>0</td>\n",
       "      <td>1</td>\n",
       "      <td>0</td>\n",
       "      <td>0</td>\n",
       "      <td>1</td>\n",
       "    </tr>\n",
       "    <tr>\n",
       "      <th>8</th>\n",
       "      <td>0</td>\n",
       "      <td>1</td>\n",
       "      <td>121</td>\n",
       "      <td>43</td>\n",
       "      <td>42</td>\n",
       "      <td>214</td>\n",
       "      <td>4401789</td>\n",
       "      <td>4401986</td>\n",
       "      <td>5667</td>\n",
       "      <td>5667.675157</td>\n",
       "      <td>0</td>\n",
       "      <td>0</td>\n",
       "      <td>1</td>\n",
       "      <td>0</td>\n",
       "      <td>0</td>\n",
       "      <td>1</td>\n",
       "    </tr>\n",
       "    <tr>\n",
       "      <th>9</th>\n",
       "      <td>1</td>\n",
       "      <td>0</td>\n",
       "      <td>115</td>\n",
       "      <td>99</td>\n",
       "      <td>1289</td>\n",
       "      <td>1304</td>\n",
       "      <td>1005611</td>\n",
       "      <td>1006124</td>\n",
       "      <td>281</td>\n",
       "      <td>281.072866</td>\n",
       "      <td>1</td>\n",
       "      <td>0</td>\n",
       "      <td>0</td>\n",
       "      <td>0</td>\n",
       "      <td>0</td>\n",
       "      <td>1</td>\n",
       "    </tr>\n",
       "  </tbody>\n",
       "</table>\n",
       "</div>"
      ],
      "text/plain": [
       "   grade_A_Component_1  grade_A_Component_2  max_luminosity  thickness  xmin  \\\n",
       "0                    0                    1             150         36   144   \n",
       "1                    1                    0             134         55  1144   \n",
       "2                    1                    0             135         65   950   \n",
       "3                    0                    1             123         35    41   \n",
       "4                    1                    0             138         69   462   \n",
       "5                    1                    0             127         72   246   \n",
       "6                    0                    1              99         39   242   \n",
       "7                    0                    1             136         38    48   \n",
       "8                    0                    1             121         43    42   \n",
       "9                    1                    0             115         99  1289   \n",
       "\n",
       "   xmax     ymin     ymax  pixel_area     log_area  x_component_1  \\\n",
       "0   172   947225   947332         439   439.099273              0   \n",
       "1  1152  2379058  2379624         329   329.205616              1   \n",
       "2   974  1038442  1036754         300   300.120598              0   \n",
       "3   220  1705580  1705604        6803  6803.778622              0   \n",
       "4   466  1088124  1086579         251   251.401943              0   \n",
       "5   256  1137516  1136929         177   177.184821              0   \n",
       "6   359    87212    87169        3369  3369.037497              0   \n",
       "7   202   697615   696534        6159  6159.902918              0   \n",
       "8   214  4401789  4401986        5667  5667.675157              0   \n",
       "9  1304  1005611  1006124         281   281.072866              1   \n",
       "\n",
       "   x_component_2  x_component_3  x_component_4  x_component_5  class  \n",
       "0              0              1              0              0      1  \n",
       "1              0              0              0              0      1  \n",
       "2              0              0              0              0      2  \n",
       "3              0              1              0              0      1  \n",
       "4              0              0              0              0      2  \n",
       "5              1              0              0              0      1  \n",
       "6              0              1              0              0      1  \n",
       "7              0              1              0              0      1  \n",
       "8              0              1              0              0      1  \n",
       "9              0              0              0              0      1  "
      ]
     },
     "execution_count": 3,
     "metadata": {},
     "output_type": "execute_result"
    }
   ],
   "source": [
    "train_data.head(10)"
   ]
  },
  {
   "cell_type": "markdown",
   "metadata": {},
   "source": [
    "# Missing Values"
   ]
  },
  {
   "cell_type": "code",
   "execution_count": 4,
   "metadata": {},
   "outputs": [
    {
     "name": "stdout",
     "output_type": "stream",
     "text": [
      "<class 'pandas.core.frame.DataFrame'>\n",
      "RangeIndex: 1358 entries, 0 to 1357\n",
      "Data columns (total 16 columns):\n",
      " #   Column               Non-Null Count  Dtype  \n",
      "---  ------               --------------  -----  \n",
      " 0   grade_A_Component_1  1358 non-null   int64  \n",
      " 1   grade_A_Component_2  1358 non-null   int64  \n",
      " 2   max_luminosity       1358 non-null   int64  \n",
      " 3   thickness            1358 non-null   int64  \n",
      " 4   xmin                 1358 non-null   int64  \n",
      " 5   xmax                 1358 non-null   int64  \n",
      " 6   ymin                 1358 non-null   int64  \n",
      " 7   ymax                 1358 non-null   int64  \n",
      " 8   pixel_area           1358 non-null   int64  \n",
      " 9   log_area             1358 non-null   float64\n",
      " 10  x_component_1        1358 non-null   int64  \n",
      " 11  x_component_2        1358 non-null   int64  \n",
      " 12  x_component_3        1358 non-null   int64  \n",
      " 13  x_component_4        1358 non-null   int64  \n",
      " 14  x_component_5        1358 non-null   int64  \n",
      " 15  class                1358 non-null   int64  \n",
      "dtypes: float64(1), int64(15)\n",
      "memory usage: 169.9 KB\n"
     ]
    }
   ],
   "source": [
    "train_data.info()"
   ]
  },
  {
   "cell_type": "code",
   "execution_count": null,
   "metadata": {},
   "outputs": [],
   "source": []
  },
  {
   "cell_type": "code",
   "execution_count": 5,
   "metadata": {},
   "outputs": [
    {
     "data": {
      "text/html": [
       "<div>\n",
       "<style scoped>\n",
       "    .dataframe tbody tr th:only-of-type {\n",
       "        vertical-align: middle;\n",
       "    }\n",
       "\n",
       "    .dataframe tbody tr th {\n",
       "        vertical-align: top;\n",
       "    }\n",
       "\n",
       "    .dataframe thead th {\n",
       "        text-align: right;\n",
       "    }\n",
       "</style>\n",
       "<table border=\"1\" class=\"dataframe\">\n",
       "  <thead>\n",
       "    <tr style=\"text-align: right;\">\n",
       "      <th></th>\n",
       "      <th>grade_A_Component_1</th>\n",
       "      <th>grade_A_Component_2</th>\n",
       "      <th>max_luminosity</th>\n",
       "      <th>thickness</th>\n",
       "      <th>xmin</th>\n",
       "      <th>xmax</th>\n",
       "      <th>ymin</th>\n",
       "      <th>ymax</th>\n",
       "      <th>pixel_area</th>\n",
       "      <th>log_area</th>\n",
       "      <th>x_component_1</th>\n",
       "      <th>x_component_2</th>\n",
       "      <th>x_component_3</th>\n",
       "      <th>x_component_4</th>\n",
       "      <th>x_component_5</th>\n",
       "      <th>class</th>\n",
       "    </tr>\n",
       "  </thead>\n",
       "  <tbody>\n",
       "    <tr>\n",
       "      <th>count</th>\n",
       "      <td>1358.000000</td>\n",
       "      <td>1358.000000</td>\n",
       "      <td>1358.000000</td>\n",
       "      <td>1358.000000</td>\n",
       "      <td>1358.000000</td>\n",
       "      <td>1358.000000</td>\n",
       "      <td>1.358000e+03</td>\n",
       "      <td>1.358000e+03</td>\n",
       "      <td>1358.000000</td>\n",
       "      <td>1358.000000</td>\n",
       "      <td>1358.000000</td>\n",
       "      <td>1358.000000</td>\n",
       "      <td>1358.000000</td>\n",
       "      <td>1358.000000</td>\n",
       "      <td>1358.000000</td>\n",
       "      <td>1358.000000</td>\n",
       "    </tr>\n",
       "    <tr>\n",
       "      <th>mean</th>\n",
       "      <td>0.406480</td>\n",
       "      <td>0.593520</td>\n",
       "      <td>137.893225</td>\n",
       "      <td>78.977909</td>\n",
       "      <td>567.370398</td>\n",
       "      <td>614.032401</td>\n",
       "      <td>1.660107e+06</td>\n",
       "      <td>1.660139e+06</td>\n",
       "      <td>1903.402798</td>\n",
       "      <td>1903.896240</td>\n",
       "      <td>0.081738</td>\n",
       "      <td>0.106038</td>\n",
       "      <td>0.197349</td>\n",
       "      <td>0.035346</td>\n",
       "      <td>0.027982</td>\n",
       "      <td>1.346834</td>\n",
       "    </tr>\n",
       "    <tr>\n",
       "      <th>std</th>\n",
       "      <td>0.491357</td>\n",
       "      <td>0.491357</td>\n",
       "      <td>20.480512</td>\n",
       "      <td>55.324842</td>\n",
       "      <td>522.013094</td>\n",
       "      <td>500.505513</td>\n",
       "      <td>1.778153e+06</td>\n",
       "      <td>1.778177e+06</td>\n",
       "      <td>3839.156721</td>\n",
       "      <td>3839.163241</td>\n",
       "      <td>0.274066</td>\n",
       "      <td>0.308000</td>\n",
       "      <td>0.398145</td>\n",
       "      <td>0.184721</td>\n",
       "      <td>0.164983</td>\n",
       "      <td>0.476138</td>\n",
       "    </tr>\n",
       "    <tr>\n",
       "      <th>min</th>\n",
       "      <td>0.000000</td>\n",
       "      <td>0.000000</td>\n",
       "      <td>71.000000</td>\n",
       "      <td>35.000000</td>\n",
       "      <td>0.000000</td>\n",
       "      <td>4.000000</td>\n",
       "      <td>7.527000e+03</td>\n",
       "      <td>7.453000e+03</td>\n",
       "      <td>3.000000</td>\n",
       "      <td>3.445293</td>\n",
       "      <td>0.000000</td>\n",
       "      <td>0.000000</td>\n",
       "      <td>0.000000</td>\n",
       "      <td>0.000000</td>\n",
       "      <td>0.000000</td>\n",
       "      <td>1.000000</td>\n",
       "    </tr>\n",
       "    <tr>\n",
       "      <th>25%</th>\n",
       "      <td>0.000000</td>\n",
       "      <td>0.000000</td>\n",
       "      <td>127.000000</td>\n",
       "      <td>42.000000</td>\n",
       "      <td>53.000000</td>\n",
       "      <td>192.000000</td>\n",
       "      <td>4.662742e+05</td>\n",
       "      <td>4.666918e+05</td>\n",
       "      <td>234.000000</td>\n",
       "      <td>234.335948</td>\n",
       "      <td>0.000000</td>\n",
       "      <td>0.000000</td>\n",
       "      <td>0.000000</td>\n",
       "      <td>0.000000</td>\n",
       "      <td>0.000000</td>\n",
       "      <td>1.000000</td>\n",
       "    </tr>\n",
       "    <tr>\n",
       "      <th>50%</th>\n",
       "      <td>0.000000</td>\n",
       "      <td>1.000000</td>\n",
       "      <td>137.000000</td>\n",
       "      <td>66.000000</td>\n",
       "      <td>407.500000</td>\n",
       "      <td>457.000000</td>\n",
       "      <td>1.216168e+06</td>\n",
       "      <td>1.214700e+06</td>\n",
       "      <td>346.000000</td>\n",
       "      <td>346.044490</td>\n",
       "      <td>0.000000</td>\n",
       "      <td>0.000000</td>\n",
       "      <td>0.000000</td>\n",
       "      <td>0.000000</td>\n",
       "      <td>0.000000</td>\n",
       "      <td>1.000000</td>\n",
       "    </tr>\n",
       "    <tr>\n",
       "      <th>75%</th>\n",
       "      <td>1.000000</td>\n",
       "      <td>1.000000</td>\n",
       "      <td>146.000000</td>\n",
       "      <td>83.000000</td>\n",
       "      <td>1041.750000</td>\n",
       "      <td>1064.000000</td>\n",
       "      <td>2.210012e+06</td>\n",
       "      <td>2.210076e+06</td>\n",
       "      <td>915.250000</td>\n",
       "      <td>915.367817</td>\n",
       "      <td>0.000000</td>\n",
       "      <td>0.000000</td>\n",
       "      <td>0.000000</td>\n",
       "      <td>0.000000</td>\n",
       "      <td>0.000000</td>\n",
       "      <td>2.000000</td>\n",
       "    </tr>\n",
       "    <tr>\n",
       "      <th>max</th>\n",
       "      <td>1.000000</td>\n",
       "      <td>1.000000</td>\n",
       "      <td>266.000000</td>\n",
       "      <td>305.000000</td>\n",
       "      <td>1692.000000</td>\n",
       "      <td>1717.000000</td>\n",
       "      <td>1.291748e+07</td>\n",
       "      <td>1.291731e+07</td>\n",
       "      <td>37392.000000</td>\n",
       "      <td>37392.672970</td>\n",
       "      <td>1.000000</td>\n",
       "      <td>1.000000</td>\n",
       "      <td>1.000000</td>\n",
       "      <td>1.000000</td>\n",
       "      <td>1.000000</td>\n",
       "      <td>2.000000</td>\n",
       "    </tr>\n",
       "  </tbody>\n",
       "</table>\n",
       "</div>"
      ],
      "text/plain": [
       "       grade_A_Component_1  grade_A_Component_2  max_luminosity    thickness  \\\n",
       "count          1358.000000          1358.000000     1358.000000  1358.000000   \n",
       "mean              0.406480             0.593520      137.893225    78.977909   \n",
       "std               0.491357             0.491357       20.480512    55.324842   \n",
       "min               0.000000             0.000000       71.000000    35.000000   \n",
       "25%               0.000000             0.000000      127.000000    42.000000   \n",
       "50%               0.000000             1.000000      137.000000    66.000000   \n",
       "75%               1.000000             1.000000      146.000000    83.000000   \n",
       "max               1.000000             1.000000      266.000000   305.000000   \n",
       "\n",
       "              xmin         xmax          ymin          ymax    pixel_area  \\\n",
       "count  1358.000000  1358.000000  1.358000e+03  1.358000e+03   1358.000000   \n",
       "mean    567.370398   614.032401  1.660107e+06  1.660139e+06   1903.402798   \n",
       "std     522.013094   500.505513  1.778153e+06  1.778177e+06   3839.156721   \n",
       "min       0.000000     4.000000  7.527000e+03  7.453000e+03      3.000000   \n",
       "25%      53.000000   192.000000  4.662742e+05  4.666918e+05    234.000000   \n",
       "50%     407.500000   457.000000  1.216168e+06  1.214700e+06    346.000000   \n",
       "75%    1041.750000  1064.000000  2.210012e+06  2.210076e+06    915.250000   \n",
       "max    1692.000000  1717.000000  1.291748e+07  1.291731e+07  37392.000000   \n",
       "\n",
       "           log_area  x_component_1  x_component_2  x_component_3  \\\n",
       "count   1358.000000    1358.000000    1358.000000    1358.000000   \n",
       "mean    1903.896240       0.081738       0.106038       0.197349   \n",
       "std     3839.163241       0.274066       0.308000       0.398145   \n",
       "min        3.445293       0.000000       0.000000       0.000000   \n",
       "25%      234.335948       0.000000       0.000000       0.000000   \n",
       "50%      346.044490       0.000000       0.000000       0.000000   \n",
       "75%      915.367817       0.000000       0.000000       0.000000   \n",
       "max    37392.672970       1.000000       1.000000       1.000000   \n",
       "\n",
       "       x_component_4  x_component_5        class  \n",
       "count    1358.000000    1358.000000  1358.000000  \n",
       "mean        0.035346       0.027982     1.346834  \n",
       "std         0.184721       0.164983     0.476138  \n",
       "min         0.000000       0.000000     1.000000  \n",
       "25%         0.000000       0.000000     1.000000  \n",
       "50%         0.000000       0.000000     1.000000  \n",
       "75%         0.000000       0.000000     2.000000  \n",
       "max         1.000000       1.000000     2.000000  "
      ]
     },
     "execution_count": 5,
     "metadata": {},
     "output_type": "execute_result"
    }
   ],
   "source": [
    "train_data.describe()"
   ]
  },
  {
   "cell_type": "code",
   "execution_count": 4,
   "metadata": {},
   "outputs": [
    {
     "name": "stdout",
     "output_type": "stream",
     "text": [
      "(1358, 15)\n",
      "(1358,)\n"
     ]
    }
   ],
   "source": [
    "x = train_data.iloc[:,:-1]\n",
    "print(x.shape)\n",
    "y = train_data.iloc[:,-1]\n",
    "print(y.shape)"
   ]
  },
  {
   "cell_type": "markdown",
   "metadata": {},
   "source": [
    "# Visualizing Features"
   ]
  },
  {
   "cell_type": "code",
   "execution_count": 5,
   "metadata": {},
   "outputs": [
    {
     "data": {
      "image/png": "[encoded data removed]",
      "text/plain": [
       "<Figure size 720x720 with 1 Axes>"
      ]
     },
     "metadata": {
      "needs_background": "light"
     },
     "output_type": "display_data"
    }
   ],
   "source": [
    "\n",
    "x_tmp = x\n",
    "\n",
    "\n",
    "x_norm = (x_tmp - x_tmp.mean()) / x_tmp.std()\n",
    "\n",
    "\n",
    "data = pd.concat([y,x_norm.iloc[:,-5:]],axis=1)\n",
    "\n",
    "data = pd.melt(data,id_vars=\"class\",\n",
    "                    var_name=\"features\",\n",
    "                    value_name='value')\n",
    "\n",
    "\n",
    "\n",
    "plt.figure(figsize =(10,10))\n",
    "\n",
    "sns.violinplot(x = 'features',y = 'value',hue = 'class',data = data,split = True,inner='quart')\n",
    "\n",
    "plt.xticks(rotation = 90)\n",
    "\n",
    "plt.show()"
   ]
  },
  {
   "cell_type": "markdown",
   "metadata": {},
   "source": [
    "# Detecting Outliers"
   ]
  },
  {
   "cell_type": "code",
   "execution_count": 6,
   "metadata": {},
   "outputs": [
    {
     "data": {
      "text/plain": [
       "(array([0, 1, 2, 3, 4]), <a list of 5 Text xticklabel objects>)"
      ]
     },
     "execution_count": 6,
     "metadata": {},
     "output_type": "execute_result"
    },
    {
     "data": {
      "image/png": "[encoded data removed]",
      "text/plain": [
       "<Figure size 720x720 with 1 Axes>"
      ]
     },
     "metadata": {
      "needs_background": "light"
     },
     "output_type": "display_data"
    }
   ],
   "source": [
    "\n",
    "plt.figure(figsize =(10,10))\n",
    "sns.boxplot(x = 'features',y = 'value',hue = 'class',data = data)\n",
    "plt.xticks(rotation = 90)"
   ]
  },
  {
   "cell_type": "code",
   "execution_count": 8,
   "metadata": {},
   "outputs": [
    {
     "name": "stdout",
     "output_type": "stream",
     "text": [
      "keeping 1358 data points\n"
     ]
    }
   ],
   "source": [
    "from sklearn.ensemble import IsolationForest\n",
    "\n",
    "ifc = IsolationForest()\n",
    "yhat = ifc.fit_predict(x)\n",
    "\n",
    "mask = yhat != -1\n",
    "\n",
    "print(f'keeping {len(mask)} data points')\n",
    "\n"
   ]
  },
  {
   "cell_type": "markdown",
   "metadata": {},
   "source": [
    "# No outliers found"
   ]
  },
  {
   "cell_type": "markdown",
   "metadata": {},
   "source": [
    "# Upsampling Classes"
   ]
  },
  {
   "cell_type": "markdown",
   "metadata": {},
   "source": [
    "# Dealing With Imbalance Classes "
   ]
  },
  {
   "cell_type": "code",
   "execution_count": 15,
   "metadata": {},
   "outputs": [
    {
     "data": {
      "text/plain": [
       "1    887\n",
       "2    471\n",
       "Name: class, dtype: int64"
      ]
     },
     "execution_count": 15,
     "metadata": {},
     "output_type": "execute_result"
    }
   ],
   "source": [
    "train_data['class'].value_counts()"
   ]
  },
  {
   "cell_type": "code",
   "execution_count": 20,
   "metadata": {
    "scrolled": true
   },
   "outputs": [
    {
     "name": "stdout",
     "output_type": "stream",
     "text": [
      "Counter({1: 887, 2: 471})\n",
      "Counter({1: 887, 2: 887})\n"
     ]
    }
   ],
   "source": [
    "\n",
    "\n",
    "\n",
    "x = train_data.iloc[:,:-1].values\n",
    "y = train_data.iloc[:,-1].values\n",
    "\n",
    "\n",
    "counter = Counter(y)\n",
    "print(counter)\n",
    "# define pipeline\n",
    "over = SMOTE()\n",
    "# under = RandomUnderSampler(sampling_strategy=0.22)\n",
    "steps = [('o', over)]\n",
    "pipeline = Pipeline(steps=steps)\n",
    "# transform the dataset\n",
    "new_x, new_y = pipeline.fit_resample(x, y)\n",
    "# summarize the new class distribution\n",
    "counter = Counter(new_y)\n",
    "print(counter)"
   ]
  },
  {
   "cell_type": "markdown",
   "metadata": {},
   "source": [
    "# Feature Selection"
   ]
  },
  {
   "cell_type": "code",
   "execution_count": 33,
   "metadata": {},
   "outputs": [
    {
     "name": "stdout",
     "output_type": "stream",
     "text": [
      "Score list: [1.87919915e-02 1.30880976e-02 4.17975316e+00 6.57098254e+03\n",
      " 1.85219262e+04 1.23303253e+04 2.15886992e+07 2.15890901e+07\n",
      " 8.26136391e+05 8.25905780e+05 1.11000000e+02 1.44000000e+02\n",
      " 2.68000000e+02 4.80000000e+01 3.80000000e+01]\n"
     ]
    }
   ],
   "source": [
    "# sns.set(style=\"whitegrid\", palette=\"muted\")\n",
    "\n",
    "# plt.figure(figsize=(10,10))\n",
    "# sns.swarmplot(x=\"features\", y=\"value\", hue=\"class\", data=data)\n",
    "# plt.xticks(rotation=90)\n",
    "from sklearn.feature_selection import SelectKBest\n",
    "from sklearn.feature_selection import chi2\n",
    "# find best scored 5 features\n",
    "select_feature = SelectKBest(chi2, k=7).fit(new_x,new_y)\n",
    "\n",
    "\n",
    "print('Score list:', select_feature.scores_)\n",
    "# print('Feature list:', new_x.columns)"
   ]
  },
  {
   "cell_type": "code",
   "execution_count": 32,
   "metadata": {},
   "outputs": [
    {
     "data": {
      "text/plain": [
       "Index(['xmin', 'xmax', 'ymin', 'ymax', 'pixel_area', 'log_area'], dtype='object')"
      ]
     },
     "execution_count": 32,
     "metadata": {},
     "output_type": "execute_result"
    }
   ],
   "source": [
    "train_data.iloc[:,:-1].columns[select_feature.get_support()]"
   ]
  },
  {
   "cell_type": "code",
   "execution_count": 39,
   "metadata": {},
   "outputs": [
    {
     "name": "stdout",
     "output_type": "stream",
     "text": [
      "Fitting estimator with 15 features.\n",
      "Fitting estimator with 14 features.\n",
      "Fitting estimator with 13 features.\n",
      "Fitting estimator with 12 features.\n",
      "Fitting estimator with 11 features.\n",
      "Fitting estimator with 10 features.\n",
      "Fitting estimator with 9 features.\n",
      "Fitting estimator with 8 features.\n"
     ]
    }
   ],
   "source": [
    "from sklearn.feature_selection import RFE\n",
    "from sklearn.ensemble import RandomForestClassifier\n",
    "# Create the RFE object and rank each pixel\n",
    "clf_rf_3 = RandomForestClassifier()      \n",
    "rfe = RFE(estimator=clf_rf_3,verbose = 1,n_features_to_select= None)\n",
    "rfe = rfe.fit(new_x, new_y)"
   ]
  },
  {
   "cell_type": "code",
   "execution_count": 40,
   "metadata": {},
   "outputs": [
    {
     "data": {
      "text/plain": [
       "Index(['thickness', 'xmin', 'ymin', 'ymax', 'pixel_area', 'log_area',\n",
       "       'x_component_3'],\n",
       "      dtype='object')"
      ]
     },
     "execution_count": 40,
     "metadata": {},
     "output_type": "execute_result"
    }
   ],
   "source": [
    "train_data.iloc[:,:-1].columns[rfe.get_support()]"
   ]
  },
  {
   "cell_type": "markdown",
   "metadata": {},
   "source": [
    "# BaseLine Model"
   ]
  },
  {
   "cell_type": "code",
   "execution_count": 49,
   "metadata": {},
   "outputs": [
    {
     "name": "stdout",
     "output_type": "stream",
     "text": [
      "0.23624711689067035\n",
      "0.2859711149799257\n",
      "0.28403020058873335\n",
      "0.28220459278017074\n",
      "0.24888360571303\n"
     ]
    }
   ],
   "source": [
    "import xgboost as xgb \n",
    "from xgboost.sklearn import XGBClassifier\n",
    "from sklearn.metrics import log_loss\n",
    "from sklearn.model_selection import KFold\n",
    "\n",
    "\n",
    "\n",
    "\n",
    "clf = XGBClassifier(n_estimators = 2000,\n",
    "                   max_depth = 3,\n",
    "                   learning_rate = 0.01,\n",
    "                   gamma = 0.1   \n",
    "                   )\n",
    "\n",
    "\n",
    "folds = KFold(n_splits = 5,shuffle = True,random_state=999)\n",
    "for trt,tst in folds.split(new_x):\n",
    "    \n",
    "    trainx,testx = new_x[trt],new_x[tst]\n",
    "    trainy,testy = new_y[trt],new_y[tst]\n",
    "    \n",
    "    clf.fit(trainx,trainy)\n",
    "\n",
    "    pred = clf.predict_proba(testx)\n",
    "\n",
    "    print(log_loss(testy,pred))\n",
    "\n",
    "#     print(max(0,1- np.sqrt(mean_squared_error(pred,testy))) * 100)\n",
    "\n",
    "\n",
    "\n",
    "\n"
   ]
  },
  {
   "cell_type": "markdown",
   "metadata": {},
   "source": [
    "# Creating New Features (Feature Engineering)"
   ]
  },
  {
   "cell_type": "code",
   "execution_count": 52,
   "metadata": {},
   "outputs": [
    {
     "data": {
      "text/html": [
       "<div>\n",
       "<style scoped>\n",
       "    .dataframe tbody tr th:only-of-type {\n",
       "        vertical-align: middle;\n",
       "    }\n",
       "\n",
       "    .dataframe tbody tr th {\n",
       "        vertical-align: top;\n",
       "    }\n",
       "\n",
       "    .dataframe thead th {\n",
       "        text-align: right;\n",
       "    }\n",
       "</style>\n",
       "<table border=\"1\" class=\"dataframe\">\n",
       "  <thead>\n",
       "    <tr style=\"text-align: right;\">\n",
       "      <th></th>\n",
       "      <th>grade_A_Component_1</th>\n",
       "      <th>grade_A_Component_2</th>\n",
       "      <th>max_luminosity</th>\n",
       "      <th>thickness</th>\n",
       "      <th>xmin</th>\n",
       "      <th>xmax</th>\n",
       "      <th>ymin</th>\n",
       "      <th>ymax</th>\n",
       "      <th>pixel_area</th>\n",
       "      <th>log_area</th>\n",
       "      <th>x_component_1</th>\n",
       "      <th>x_component_2</th>\n",
       "      <th>x_component_3</th>\n",
       "      <th>x_component_4</th>\n",
       "      <th>x_component_5</th>\n",
       "      <th>class</th>\n",
       "      <th>Component</th>\n",
       "    </tr>\n",
       "  </thead>\n",
       "  <tbody>\n",
       "  </tbody>\n",
       "</table>\n",
       "</div>"
      ],
      "text/plain": [
       "Empty DataFrame\n",
       "Columns: [grade_A_Component_1, grade_A_Component_2, max_luminosity, thickness, xmin, xmax, ymin, ymax, pixel_area, log_area, x_component_1, x_component_2, x_component_3, x_component_4, x_component_5, class, Component]\n",
       "Index: []"
      ]
     },
     "execution_count": 52,
     "metadata": {},
     "output_type": "execute_result"
    }
   ],
   "source": [
    "train_data.head(0)"
   ]
  },
  {
   "cell_type": "code",
   "execution_count": 14,
   "metadata": {},
   "outputs": [],
   "source": [
    "train_data['Component'] = train_data['x_component_1'] + train_data['x_component_2'] + \\\n",
    "                          train_data['x_component_3'] + train_data['x_component_4'] + \\\n",
    "                          train_data['x_component_5']  "
   ]
  },
  {
   "cell_type": "code",
   "execution_count": 7,
   "metadata": {},
   "outputs": [
    {
     "data": {
      "text/plain": [
       "0    749\n",
       "1    609\n",
       "Name: Component, dtype: int64"
      ]
     },
     "execution_count": 7,
     "metadata": {},
     "output_type": "execute_result"
    }
   ],
   "source": [
    "train_data['Component'].value_counts()"
   ]
  },
  {
   "cell_type": "code",
   "execution_count": 7,
   "metadata": {},
   "outputs": [
    {
     "data": {
      "text/plain": [
       "<matplotlib.collections.PathCollection at 0x261cd75e7b8>"
      ]
     },
     "execution_count": 7,
     "metadata": {},
     "output_type": "execute_result"
    },
    {
     "data": {
      "image/png": "[encoded data removed]",
      "text/plain": [
       "<Figure size 432x288 with 1 Axes>"
      ]
     },
     "metadata": {
      "needs_background": "light"
     },
     "output_type": "display_data"
    }
   ],
   "source": [
    "plt.scatter(train_data['Component'],train_data['class'])"
   ]
  },
  {
   "cell_type": "code",
   "execution_count": 8,
   "metadata": {},
   "outputs": [
    {
     "data": {
      "text/plain": [
       "array([[ 1.        , -0.65707717],\n",
       "       [-0.65707717,  1.        ]])"
      ]
     },
     "execution_count": 8,
     "metadata": {},
     "output_type": "execute_result"
    }
   ],
   "source": [
    "np.corrcoef(train_data['Component'],train_data['class'])"
   ]
  },
  {
   "cell_type": "code",
   "execution_count": 35,
   "metadata": {},
   "outputs": [
    {
     "data": {
      "text/plain": [
       "0.24734296949728984"
      ]
     },
     "execution_count": 35,
     "metadata": {},
     "output_type": "execute_result"
    }
   ],
   "source": [
    "np.var(train_data['Component'])"
   ]
  },
  {
   "cell_type": "code",
   "execution_count": 36,
   "metadata": {},
   "outputs": [
    {
     "data": {
      "text/plain": [
       "1    806\n",
       "0    552\n",
       "Name: grade_A_Component_2, dtype: int64"
      ]
     },
     "execution_count": 36,
     "metadata": {},
     "output_type": "execute_result"
    }
   ],
   "source": [
    "train_data['grade_A_Component_2'].value_counts()"
   ]
  },
  {
   "cell_type": "markdown",
   "metadata": {},
   "source": [
    "Correaltion between grade_A_Component_2 and Class"
   ]
  },
  {
   "cell_type": "code",
   "execution_count": 31,
   "metadata": {},
   "outputs": [
    {
     "data": {
      "text/plain": [
       "array([[1.        , 0.01717343],\n",
       "       [0.01717343, 1.        ]])"
      ]
     },
     "execution_count": 31,
     "metadata": {},
     "output_type": "execute_result"
    }
   ],
   "source": [
    "np.corrcoef(train_data['grade_A_Component_2'],train_data['class'])"
   ]
  },
  {
   "cell_type": "code",
   "execution_count": 38,
   "metadata": {},
   "outputs": [
    {
     "data": {
      "text/plain": [
       "<matplotlib.collections.PathCollection at 0x21425ee38d0>"
      ]
     },
     "execution_count": 38,
     "metadata": {},
     "output_type": "execute_result"
    },
    {
     "data": {
      "image/png": "[encoded data removed]",
      "text/plain": [
       "<Figure size 432x288 with 1 Axes>"
      ]
     },
     "metadata": {
      "needs_background": "light"
     },
     "output_type": "display_data"
    }
   ],
   "source": [
    "plt.scatter(train_data['grade_A_Component_2'],train_data['class'])"
   ]
  },
  {
   "cell_type": "code",
   "execution_count": 54,
   "metadata": {},
   "outputs": [
    {
     "data": {
      "text/plain": [
       "Index(['grade_A_Component_1', 'grade_A_Component_2', 'max_luminosity',\n",
       "       'thickness', 'xmin', 'xmax', 'ymin', 'ymax', 'pixel_area', 'log_area',\n",
       "       'x_component_1', 'x_component_2', 'x_component_3', 'x_component_4',\n",
       "       'x_component_5', 'class', 'Component'],\n",
       "      dtype='object')"
      ]
     },
     "execution_count": 54,
     "metadata": {},
     "output_type": "execute_result"
    }
   ],
   "source": [
    "train_data.columns"
   ]
  },
  {
   "cell_type": "markdown",
   "metadata": {},
   "source": [
    "# REarrange the dataframe columns"
   ]
  },
  {
   "cell_type": "code",
   "execution_count": 15,
   "metadata": {},
   "outputs": [],
   "source": [
    "columns = ['grade_A_Component_1', 'grade_A_Component_2', 'max_luminosity',\n",
    "           'thickness', 'xmin', 'xmax', 'ymin', 'ymax', 'pixel_area', 'log_area',\n",
    "           'x_component_1', 'x_component_2', 'x_component_3', 'x_component_4',\n",
    "           'x_component_5', 'Component','class']\n",
    "\n",
    "feature_columns = ['grade_A_Component_1', 'grade_A_Component_2', 'max_luminosity',\n",
    "                   'thickness', 'xmin', 'xmax', 'ymin', 'ymax', 'pixel_area', 'log_area',\n",
    "                   'x_component_1', 'x_component_2', 'x_component_3', 'x_component_4',\n",
    "                   'x_component_5', 'Component']"
   ]
  },
  {
   "cell_type": "code",
   "execution_count": 16,
   "metadata": {},
   "outputs": [
    {
     "data": {
      "text/plain": [
       "(1358, 17)"
      ]
     },
     "execution_count": 16,
     "metadata": {},
     "output_type": "execute_result"
    }
   ],
   "source": [
    "train_data = train_data[columns]\n",
    "train_data.shape"
   ]
  },
  {
   "cell_type": "code",
   "execution_count": null,
   "metadata": {},
   "outputs": [],
   "source": []
  },
  {
   "cell_type": "code",
   "execution_count": 107,
   "metadata": {},
   "outputs": [
    {
     "name": "stdout",
     "output_type": "stream",
     "text": [
      "(1358, 10)\n",
      "(1358,)\n",
      "Counter({1: 887, 2: 471})\n",
      "Counter({1: 887, 2: 471})\n"
     ]
    }
   ],
   "source": [
    "from imblearn.over_sampling import SMOTE,SVMSMOTE\n",
    "from imblearn.under_sampling import RandomUnderSampler\n",
    "from imblearn.pipeline import Pipeline\n",
    "from collections import Counter\n",
    "\n",
    "new_x = train_data[feature_columns].values\n",
    "# x = rfe.transform(x_bar)\n",
    "print(new_x.shape)\n",
    "new_y = train_data['class'].values\n",
    "print(new_y.shape)\n",
    "\n",
    "\n",
    "counter = Counter(new_y)\n",
    "print(counter)\n",
    "# define pipeline\n",
    "over = SVMSMOTE()\n",
    "# under = RandomUnderSampler(sampling_strategy=0.22)\n",
    "steps = [('o', over)]\n",
    "pipeline = Pipeline(steps=steps)\n",
    "# transform the dataset\n",
    "new_xs, new_ys = pipeline.fit_resample(new_x, new_y)\n",
    "# summarize the new class distribution\n",
    "counter = Counter(new_y)\n",
    "print(counter)\n"
   ]
  },
  {
   "cell_type": "markdown",
   "metadata": {},
   "source": [
    "# BaseLine Model"
   ]
  },
  {
   "cell_type": "code",
   "execution_count": 109,
   "metadata": {},
   "outputs": [
    {
     "name": "stdout",
     "output_type": "stream",
     "text": [
      "Counter({1: 887, 2: 471})\n",
      "0.27251681168276903\n",
      "0.3317137857656609\n",
      "0.318342639502482\n",
      "0.2931707876290253\n",
      "0.2798959031243374\n"
     ]
    }
   ],
   "source": [
    "\n",
    "\n",
    "\n",
    "print(Counter(y))\n",
    "\n",
    "clf = XGBClassifier(n_estimators = 2000,\n",
    "                   max_depth = 3,\n",
    "                   learning_rate = 0.01,\n",
    "                  \n",
    "                    \n",
    "                 \n",
    "                   \n",
    "                   \n",
    "                  )\n",
    "\n",
    "\n",
    "folds = KFold(n_splits = 5,shuffle = True,random_state=999)\n",
    "for trt,tst in folds.split(new_x):\n",
    "    \n",
    "    trainx,testx = new_x[trt],new_x[tst]\n",
    "    trainy,testy = new_y[trt],new_y[tst]\n",
    "    \n",
    "    clf.fit(trainx,trainy)\n",
    "\n",
    "    pred = clf.predict_proba(testx)\n",
    "\n",
    "    print(log_loss(testy,pred))\n",
    "\n",
    "#     print(max(0,1- np.sqrt(mean_squared_error(pred,testy))) * 100)\n",
    "\n",
    "\n",
    "\n",
    "\n"
   ]
  },
  {
   "cell_type": "code",
   "execution_count": 110,
   "metadata": {},
   "outputs": [
    {
     "data": {
      "text/plain": [
       "array([0.10926031, 0.03550418, 0.04505388, 0.03077196, 0.02863433,\n",
       "       0.03445433, 0.02067117, 0.02581935, 0.02292414, 0.6469064 ],\n",
       "      dtype=float32)"
      ]
     },
     "execution_count": 110,
     "metadata": {},
     "output_type": "execute_result"
    }
   ],
   "source": [
    "clf.feature_importances_"
   ]
  },
  {
   "cell_type": "code",
   "execution_count": 17,
   "metadata": {},
   "outputs": [
    {
     "data": {
      "text/plain": [
       "['grade_A_Component_1',\n",
       " 'grade_A_Component_2',\n",
       " 'max_luminosity',\n",
       " 'thickness',\n",
       " 'xmin',\n",
       " 'xmax',\n",
       " 'ymin',\n",
       " 'ymax',\n",
       " 'pixel_area',\n",
       " 'log_area',\n",
       " 'x_component_1',\n",
       " 'x_component_2',\n",
       " 'x_component_3',\n",
       " 'x_component_4',\n",
       " 'x_component_5',\n",
       " 'Component']"
      ]
     },
     "execution_count": 17,
     "metadata": {},
     "output_type": "execute_result"
    }
   ],
   "source": [
    "feature_columns"
   ]
  },
  {
   "cell_type": "markdown",
   "metadata": {},
   "source": [
    "# Predicting on Selected Features"
   ]
  },
  {
   "cell_type": "code",
   "execution_count": 61,
   "metadata": {},
   "outputs": [
    {
     "name": "stdout",
     "output_type": "stream",
     "text": [
      "(1358, 10)\n",
      "(1358,)\n",
      "Counter({1: 887, 2: 471})\n",
      "Counter({1: 887, 2: 887})\n"
     ]
    }
   ],
   "source": [
    "feature_columns = ['grade_A_Component_1','max_luminosity','thickness',\n",
    "                   'xmin','xmax','ymin','ymax','log_area','pixel_area',\n",
    "                   'Component' ]\n",
    "\n",
    "\n",
    "x = train_data[feature_columns].values\n",
    "# x = rfe.transform(x_bar)\n",
    "print(x.shape)\n",
    "y = train_data['class'].values\n",
    "print(y.shape)\n",
    "\n",
    "\n",
    "counter = Counter(y)\n",
    "print(counter)\n",
    "# define pipeline\n",
    "over = SVMSMOTE()\n",
    "# under = RandomUnderSampler(sampling_strategy=0.22)\n",
    "steps = [('o', over)]\n",
    "pipeline = Pipeline(steps=steps)\n",
    "# transform the dataset\n",
    "new_xs, new_ys = pipeline.fit_resample(x, y)\n",
    "# summarize the new class distribution\n",
    "counter = Counter(new_ys)\n",
    "print(counter)\n"
   ]
  },
  {
   "cell_type": "code",
   "execution_count": 224,
   "metadata": {},
   "outputs": [],
   "source": [
    "import pickle as pk\n",
    "\n",
    "# pk.dump(x,open('x_f-9','wb'))\n",
    "# pk.dump(y,open('y_f-9','wb'))\n",
    "\n",
    "\n",
    "# pk.dump(new_xs,open('x_f-9_smot','wb'))\n",
    "# pk.dump(new_ys,open('y_f-9_smot','wb'))\n"
   ]
  },
  {
   "cell_type": "markdown",
   "metadata": {},
   "source": [
    "# Model Selection Phase"
   ]
  },
  {
   "cell_type": "code",
   "execution_count": 21,
   "metadata": {},
   "outputs": [
    {
     "name": "stdout",
     "output_type": "stream",
     "text": [
      "(1774, 9)\n",
      "(1774,)\n",
      "0.2500693299181261\n",
      "0.28705961559079324\n",
      "0.27402182805292885\n",
      "0.286368617609563\n",
      "0.2559548138902591\n"
     ]
    }
   ],
   "source": [
    "import xgboost as xgb \n",
    "from xgboost.sklearn import XGBClassifier\n",
    "from sklearn.metrics import log_loss\n",
    "from sklearn.model_selection import KFold\n",
    "\n",
    "print(new_xs.shape)\n",
    "print(new_ys.shape)\n",
    "\n",
    "clf = XGBClassifier(n_estimators = 1000,\n",
    "                   max_depth = 3,\n",
    "                   learning_rate = 0.01,\n",
    "                  \n",
    "                    \n",
    "                 \n",
    "                   \n",
    "                   \n",
    "                  )\n",
    "\n",
    "\n",
    "folds = KFold(n_splits = 5,shuffle = True,random_state=999)\n",
    "for trt,tst in folds.split(new_xs):\n",
    "    \n",
    "    trainx,testx = new_xs[trt],new_xs[tst]\n",
    "    trainy,testy = new_ys[trt],new_ys[tst]\n",
    "    \n",
    "    clf.fit(trainx,trainy)\n",
    "\n",
    "    pred = clf.predict_proba(testx)\n",
    "\n",
    "    print(log_loss(testy,pred))\n",
    "\n",
    "#     print(max(0,1- np.sqrt(mean_squared_error(pred,testy))) * 100)\n",
    "\n",
    "\n",
    "\n",
    "\n"
   ]
  },
  {
   "cell_type": "code",
   "execution_count": 22,
   "metadata": {},
   "outputs": [
    {
     "data": {
      "text/plain": [
       "array([0.12438629, 0.03016216, 0.05257843, 0.02799264, 0.02021661,\n",
       "       0.03596041, 0.02681584, 0.02535872, 0.65652883], dtype=float32)"
      ]
     },
     "execution_count": 22,
     "metadata": {},
     "output_type": "execute_result"
    }
   ],
   "source": [
    "clf.feature_importances_"
   ]
  },
  {
   "cell_type": "markdown",
   "metadata": {},
   "source": [
    "# Using Logistic regression"
   ]
  },
  {
   "cell_type": "code",
   "execution_count": 179,
   "metadata": {},
   "outputs": [
    {
     "name": "stdout",
     "output_type": "stream",
     "text": [
      "(1774, 10)\n",
      "0.6310429846114827\n",
      "0.648856932655604\n",
      "0.5921605737328949\n",
      "0.5888861930479041\n",
      "0.6745475300792825\n"
     ]
    },
    {
     "name": "stderr",
     "output_type": "stream",
     "text": [
      "c:\\users\\clive\\appdata\\local\\programs\\python\\python37\\lib\\site-packages\\sklearn\\linear_model\\_logistic.py:762: ConvergenceWarning: lbfgs failed to converge (status=1):\n",
      "STOP: TOTAL NO. of ITERATIONS REACHED LIMIT.\n",
      "\n",
      "Increase the number of iterations (max_iter) or scale the data as shown in:\n",
      "    https://scikit-learn.org/stable/modules/preprocessing.html\n",
      "Please also refer to the documentation for alternative solver options:\n",
      "    https://scikit-learn.org/stable/modules/linear_model.html#logistic-regression\n",
      "  extra_warning_msg=_LOGISTIC_SOLVER_CONVERGENCE_MSG)\n",
      "c:\\users\\clive\\appdata\\local\\programs\\python\\python37\\lib\\site-packages\\sklearn\\linear_model\\_logistic.py:762: ConvergenceWarning: lbfgs failed to converge (status=1):\n",
      "STOP: TOTAL NO. of ITERATIONS REACHED LIMIT.\n",
      "\n",
      "Increase the number of iterations (max_iter) or scale the data as shown in:\n",
      "    https://scikit-learn.org/stable/modules/preprocessing.html\n",
      "Please also refer to the documentation for alternative solver options:\n",
      "    https://scikit-learn.org/stable/modules/linear_model.html#logistic-regression\n",
      "  extra_warning_msg=_LOGISTIC_SOLVER_CONVERGENCE_MSG)\n"
     ]
    }
   ],
   "source": [
    "from sklearn.linear_model import LogisticRegression\n",
    "from sklearn.metrics import log_loss\n",
    "from sklearn.model_selection import KFold\n",
    "\n",
    "\n",
    "print(new_xs.shape)\n",
    "clf2 = LogisticRegression(C = 10)\n",
    "\n",
    "\n",
    "folds = KFold(n_splits = 5,shuffle = True,random_state=999)\n",
    "for trt,tst in folds.split(new_xs):\n",
    "    \n",
    "    trainx,testx = new_xs[trt],new_xs[tst]\n",
    "    trainy,testy = new_ys[trt],new_ys[tst]\n",
    "    \n",
    "    clf2.fit(trainx,trainy)\n",
    "\n",
    "    pred = clf2.predict_proba(testx)\n",
    "\n",
    "    print(log_loss(testy,pred))\n",
    "\n",
    "#     print(max(0,1- np.sqrt(mean_squared_error(pred,testy))) * 100)\n",
    "\n",
    "\n",
    "\n",
    "\n"
   ]
  },
  {
   "cell_type": "markdown",
   "metadata": {},
   "source": [
    "# SVM"
   ]
  },
  {
   "cell_type": "code",
   "execution_count": 180,
   "metadata": {},
   "outputs": [
    {
     "name": "stdout",
     "output_type": "stream",
     "text": [
      "(1358, 9)\n",
      "0.6415721102993253\n",
      "0.6474499386536504\n",
      "0.6298837357336923\n",
      "0.6663001565417155\n",
      "0.6779458381949283\n"
     ]
    }
   ],
   "source": [
    "from sklearn.svm import SVC\n",
    "from sklearn.metrics import log_loss\n",
    "from sklearn.model_selection import KFold\n",
    "\n",
    "\n",
    "print(new_x.shape)\n",
    "\n",
    "clf3 = SVC(C = 1000,probability = True)\n",
    "\n",
    "\n",
    "folds = KFold(n_splits = 5,shuffle = True,random_state=999)\n",
    "for trt,tst in folds.split(new_xs):\n",
    "    \n",
    "    trainx,testx = new_xs[trt],new_xs[tst]\n",
    "    trainy,testy = new_ys[trt],new_ys[tst]\n",
    "    \n",
    "    clf3.fit(trainx,trainy)\n",
    "\n",
    "    pred = clf3.predict_proba(testx)\n",
    "\n",
    "    print(log_loss(testy,pred))\n",
    "\n",
    "#     print(max(0,1- np.sqrt(mean_squared_error(pred,testy))) * 100)\n",
    "\n",
    "\n",
    "\n",
    "\n"
   ]
  },
  {
   "cell_type": "markdown",
   "metadata": {},
   "source": [
    "# KNN"
   ]
  },
  {
   "cell_type": "code",
   "execution_count": 181,
   "metadata": {},
   "outputs": [
    {
     "name": "stdout",
     "output_type": "stream",
     "text": [
      "(1358, 9)\n",
      "0.7889176019529461\n",
      "1.0296589015818312\n",
      "0.7151395172194401\n",
      "1.3963182531003535\n",
      "0.9513878770827803\n"
     ]
    }
   ],
   "source": [
    "from sklearn.neighbors import KNeighborsClassifier\n",
    "from sklearn.metrics import log_loss\n",
    "from sklearn.model_selection import KFold\n",
    "\n",
    "\n",
    "print(new_x.shape)\n",
    "\n",
    "clf4 = KNeighborsClassifier(n_neighbors=10)\n",
    "\n",
    "\n",
    "folds = KFold(n_splits = 5,shuffle = True,random_state=999)\n",
    "for trt,tst in folds.split(new_xs):\n",
    "    \n",
    "    trainx,testx = new_xs[trt],new_xs[tst]\n",
    "    trainy,testy = new_ys[trt],new_ys[tst]\n",
    "    \n",
    "    clf4.fit(trainx,trainy)\n",
    "\n",
    "    pred = clf4.predict_proba(testx)\n",
    "\n",
    "    print(log_loss(testy,pred))\n",
    "\n",
    "#     print(max(0,1- np.sqrt(mean_squared_error(pred,testy))) * 100)\n",
    "\n",
    "\n",
    "\n",
    "\n"
   ]
  },
  {
   "cell_type": "code",
   "execution_count": 72,
   "metadata": {},
   "outputs": [
    {
     "name": "stdout",
     "output_type": "stream",
     "text": [
      "(1774, 10)\n",
      "Counter({1: 887, 2: 887})\n",
      "0.19973969753333168\n",
      "0.2530926820851792\n",
      "0.2505279275303576\n",
      "0.24017721846749987\n",
      "0.2192248665438066\n",
      "avg 0.23255247843203497\n"
     ]
    }
   ],
   "source": [
    "from sklearn.ensemble import ExtraTreesClassifier\n",
    "from sklearn.metrics import log_loss\n",
    "from sklearn.model_selection import KFold\n",
    "\n",
    "\n",
    "print(new_xs.shape)\n",
    "print(Counter(new_ys))\n",
    "\n",
    "clf4 = ExtraTreesClassifier(n_estimators=300,random_state = 909)\n",
    "\n",
    "score  = 0\n",
    "\n",
    "folds = KFold(n_splits = 5,shuffle = True,random_state=999)\n",
    "for trt,tst in folds.split(new_xs):\n",
    "    \n",
    "    trainx,testx = new_xs[trt],new_xs[tst]\n",
    "    trainy,testy = new_ys[trt],new_ys[tst]\n",
    "    \n",
    "    clf4.fit(trainx,trainy)\n",
    "\n",
    "    pred = clf4.predict_proba(testx)\n",
    "\n",
    "    score += log_loss(testy,pred)\n",
    "    \n",
    "    print( log_loss(testy,pred))\n",
    "\n",
    "#     print(max(0,1- np.sqrt(mean_squared_error(pred,testy))) * 100)\n",
    "\n",
    "\n",
    "\n",
    "\n",
    "print('avg',score/5)"
   ]
  },
  {
   "cell_type": "code",
   "execution_count": 25,
   "metadata": {},
   "outputs": [
    {
     "data": {
      "text/plain": [
       "['grade_A_Component_1',\n",
       " 'max_luminosity',\n",
       " 'thickness',\n",
       " 'xmin',\n",
       " 'xmax',\n",
       " 'ymin',\n",
       " 'ymax',\n",
       " 'pixel_area',\n",
       " 'Component']"
      ]
     },
     "execution_count": 25,
     "metadata": {},
     "output_type": "execute_result"
    }
   ],
   "source": [
    "feature_columns"
   ]
  },
  {
   "cell_type": "code",
   "execution_count": null,
   "metadata": {},
   "outputs": [],
   "source": []
  },
  {
   "cell_type": "code",
   "execution_count": 33,
   "metadata": {},
   "outputs": [
    {
     "data": {
      "text/plain": [
       "array([0.04146037, 0.05500932, 0.09727246, 0.06133266, 0.05876076,\n",
       "       0.07112559, 0.06921025, 0.06889893, 0.47692966])"
      ]
     },
     "execution_count": 33,
     "metadata": {},
     "output_type": "execute_result"
    }
   ],
   "source": [
    "clf4.feature_importances_"
   ]
  },
  {
   "cell_type": "markdown",
   "metadata": {},
   "source": [
    "# RandomForest"
   ]
  },
  {
   "cell_type": "code",
   "execution_count": 69,
   "metadata": {
    "scrolled": true
   },
   "outputs": [
    {
     "name": "stdout",
     "output_type": "stream",
     "text": [
      "(1774, 10)\n",
      "0.20158129906797959\n",
      "0.26049560288354173\n",
      "0.2628864184085086\n",
      "0.2516152796935962\n",
      "0.24090636620818473\n",
      "avg 0.24349699325236215\n"
     ]
    }
   ],
   "source": [
    "from sklearn.ensemble import RandomForestClassifier\n",
    "from sklearn.metrics import log_loss\n",
    "from sklearn.model_selection import KFold\n",
    "\n",
    "\n",
    "print(new_xs.shape)\n",
    "\n",
    "clf5 = RandomForestClassifier(n_estimators=300)\n",
    "score = 0\n",
    "\n",
    "folds = KFold(n_splits = 5,shuffle = True,random_state=999)\n",
    "for trt,tst in folds.split(new_xs):\n",
    "    \n",
    "    trainx,testx = new_xs[trt],new_xs[tst]\n",
    "    trainy,testy = new_ys[trt],new_ys[tst]\n",
    "    \n",
    "    clf5.fit(trainx,trainy)\n",
    "\n",
    "    pred = clf5.predict_proba(testx)\n",
    "\n",
    "    print(log_loss(testy,pred))\n",
    "    score += log_loss(testy,pred)\n",
    "#     print(max(0,1- np.sqrt(mean_squared_error(pred,testy))) * 100)\n",
    "\n",
    "\n",
    "print('avg',score / 5)\n",
    "\n"
   ]
  },
  {
   "cell_type": "markdown",
   "metadata": {},
   "source": [
    "# Adaboost"
   ]
  },
  {
   "cell_type": "code",
   "execution_count": 166,
   "metadata": {},
   "outputs": [
    {
     "name": "stdout",
     "output_type": "stream",
     "text": [
      "(1774, 10)\n",
      "0.20483995358846935\n",
      "0.2598852938288967\n",
      "0.26511295872759977\n",
      "0.26336330893648036\n",
      "0.22462363203775856\n"
     ]
    }
   ],
   "source": [
    "from sklearn.ensemble import AdaBoostClassifier,ExtraTreesClassifier\n",
    "from sklearn.metrics import log_loss\n",
    "from sklearn.model_selection import KFold\n",
    "\n",
    "\n",
    "print(new_xs.shape)\n",
    "\n",
    "clf6 = AdaBoostClassifier(base_estimator=RandomForestClassifier())\n",
    "\n",
    "\n",
    "folds = KFold(n_splits = 5,shuffle = True,random_state=999)\n",
    "for trt,tst in folds.split(new_xs):\n",
    "    \n",
    "    trainx,testx = new_xs[trt],new_xs[tst]\n",
    "    trainy,testy = new_ys[trt],new_ys[tst]\n",
    "    \n",
    "    clf6.fit(trainx,trainy)\n",
    "\n",
    "    pred = clf6.predict_proba(testx)\n",
    "\n",
    "    print(log_loss(testy,pred))\n",
    "\n",
    "#     print(max(0,1- np.sqrt(mean_squared_error(pred,testy))) * 100)\n",
    "\n",
    "\n",
    "\n",
    "\n"
   ]
  },
  {
   "cell_type": "markdown",
   "metadata": {},
   "source": [
    "# VoterClassifier"
   ]
  },
  {
   "cell_type": "code",
   "execution_count": 38,
   "metadata": {},
   "outputs": [
    {
     "name": "stdout",
     "output_type": "stream",
     "text": [
      "0.9352112676056338\n",
      "0.8873239436619719\n",
      "0.8732394366197183\n",
      "0.8929577464788733\n",
      "0.903954802259887\n",
      "0.23327087212864123\n"
     ]
    }
   ],
   "source": [
    "from sklearn.ensemble import VotingClassifier\n",
    "from sklearn.metrics import accuracy_score\n",
    "\n",
    "\n",
    "score = 0\n",
    "\n",
    "vc = VotingClassifier(estimators=[('xgb',clf),('etc',clf4),('rf',clf5)],voting = 'soft')\n",
    "\n",
    "\n",
    "folds = KFold(n_splits = 5,shuffle = True,random_state=999)\n",
    "for trt,tst in folds.split(new_xs):\n",
    "    \n",
    "    trainx,testx = new_xs[trt],new_xs[tst]\n",
    "    trainy,testy = new_ys[trt],new_ys[tst]\n",
    "    \n",
    "    vc.fit(trainx,trainy)\n",
    "\n",
    "    pred = vc.predict_proba(testx)\n",
    "    pred_class = vc.predict(testx)\n",
    "\n",
    "    score += log_loss(testy,pred)\n",
    "    \n",
    "    print(accuracy_score(testy,pred_class))\n",
    "\n",
    "\n",
    "print(score/5)"
   ]
  },
  {
   "cell_type": "markdown",
   "metadata": {},
   "source": [
    "# Stacking "
   ]
  },
  {
   "cell_type": "code",
   "execution_count": 174,
   "metadata": {},
   "outputs": [
    {
     "name": "stderr",
     "output_type": "stream",
     "text": [
      "[Parallel(n_jobs=1)]: Using backend SequentialBackend with 1 concurrent workers.\n",
      "[Parallel(n_jobs=1)]: Done   5 out of   5 | elapsed:    2.3s finished\n",
      "[Parallel(n_jobs=1)]: Using backend SequentialBackend with 1 concurrent workers.\n",
      "[Parallel(n_jobs=1)]: Done   5 out of   5 | elapsed:    4.0s finished\n",
      "[Parallel(n_jobs=1)]: Using backend SequentialBackend with 1 concurrent workers.\n",
      "[Parallel(n_jobs=1)]: Done   5 out of   5 | elapsed:    1.3s finished\n"
     ]
    },
    {
     "name": "stdout",
     "output_type": "stream",
     "text": [
      "0.24720147918054072\n",
      "0.8828828828828829\n"
     ]
    }
   ],
   "source": [
    "from sklearn.ensemble import StackingClassifier\n",
    "\n",
    "estimators = [('etc',clf4),('rf',clf5),('ada',clf6)]\n",
    "final_est = LogisticRegression(C = 10)\n",
    "\n",
    "stackclf = StackingClassifier(estimators=estimators,final_estimator=final_est,stack_method = 'predict_proba',verbose = 1)\n",
    "\n",
    "\n",
    "from sklearn.model_selection import train_test_split\n",
    "X_train, X_test, y_train, y_test = train_test_split(new_xs, new_ys, random_state=42)\n",
    "\n",
    "\n",
    "\n",
    "stackclf.fit(X_train,y_train)\n",
    "\n",
    "pred = stackclf.predict_proba(X_test)\n",
    "print(log_loss(y_test,pred))\n",
    "print(stackclf.score(X_test,y_test))\n",
    "\n"
   ]
  },
  {
   "cell_type": "code",
   "execution_count": null,
   "metadata": {},
   "outputs": [],
   "source": []
  },
  {
   "cell_type": "markdown",
   "metadata": {},
   "source": [
    "# Selecting ExtraTreeClassifier highest position : 10 / 200\n",
    "# HyberParameter Optimisation"
   ]
  },
  {
   "cell_type": "markdown",
   "metadata": {},
   "source": [
    "# params to consider for tunning \n",
    "\n",
    "1. n_estimators\n",
    "2. criterion  value = ['gini,'entropy']\n",
    "3. max_depth  \n",
    "4. min_sample_split - used for splitting \n",
    "5. min samples_leaf - used for splitting\n",
    "6. max features - not of features to consider while looking for splitting \n",
    "7. max_leaf_nodes\n",
    "8. max_samples\n"
   ]
  },
  {
   "cell_type": "code",
   "execution_count": 82,
   "metadata": {},
   "outputs": [
    {
     "data": {
      "text/plain": [
       "dict_keys(['explained_variance', 'r2', 'max_error', 'neg_median_absolute_error', 'neg_mean_absolute_error', 'neg_mean_squared_error', 'neg_mean_squared_log_error', 'neg_root_mean_squared_error', 'neg_mean_poisson_deviance', 'neg_mean_gamma_deviance', 'accuracy', 'roc_auc', 'roc_auc_ovr', 'roc_auc_ovo', 'roc_auc_ovr_weighted', 'roc_auc_ovo_weighted', 'balanced_accuracy', 'average_precision', 'neg_log_loss', 'neg_brier_score', 'adjusted_rand_score', 'homogeneity_score', 'completeness_score', 'v_measure_score', 'mutual_info_score', 'adjusted_mutual_info_score', 'normalized_mutual_info_score', 'fowlkes_mallows_score', 'precision', 'precision_macro', 'precision_micro', 'precision_samples', 'precision_weighted', 'recall', 'recall_macro', 'recall_micro', 'recall_samples', 'recall_weighted', 'f1', 'f1_macro', 'f1_micro', 'f1_samples', 'f1_weighted', 'jaccard', 'jaccard_macro', 'jaccard_micro', 'jaccard_samples', 'jaccard_weighted'])"
      ]
     },
     "execution_count": 82,
     "metadata": {},
     "output_type": "execute_result"
    }
   ],
   "source": [
    "import sklearn\n",
    "sklearn.metrics.SCORERS.keys()"
   ]
  },
  {
   "cell_type": "code",
   "execution_count": 100,
   "metadata": {},
   "outputs": [],
   "source": [
    "\"\"\"\n",
    "random search\n",
    "grid search\n",
    "\"\"\"\n",
    "ExtraTreesClassifier?"
   ]
  },
  {
   "cell_type": "code",
   "execution_count": 118,
   "metadata": {},
   "outputs": [
    {
     "name": "stdout",
     "output_type": "stream",
     "text": [
      "Fitting 5 folds for each of 700 candidates, totalling 3500 fits\n"
     ]
    },
    {
     "name": "stderr",
     "output_type": "stream",
     "text": [
      "[Parallel(n_jobs=-1)]: Using backend LokyBackend with 8 concurrent workers.\n",
      "[Parallel(n_jobs=-1)]: Done  34 tasks      | elapsed:    4.9s\n",
      "[Parallel(n_jobs=-1)]: Done 184 tasks      | elapsed:   34.9s\n",
      "[Parallel(n_jobs=-1)]: Done 434 tasks      | elapsed:  1.4min\n",
      "[Parallel(n_jobs=-1)]: Done 784 tasks      | elapsed:  2.7min\n",
      "[Parallel(n_jobs=-1)]: Done 1234 tasks      | elapsed:  4.9min\n",
      "[Parallel(n_jobs=-1)]: Done 1784 tasks      | elapsed:  7.4min\n",
      "[Parallel(n_jobs=-1)]: Done 2434 tasks      | elapsed:  9.9min\n",
      "[Parallel(n_jobs=-1)]: Done 3184 tasks      | elapsed: 13.3min\n",
      "[Parallel(n_jobs=-1)]: Done 3500 out of 3500 | elapsed: 14.5min finished\n"
     ]
    },
    {
     "data": {
      "text/plain": [
       "RandomizedSearchCV(cv=5, estimator=ExtraTreesClassifier(random_state=9099),\n",
       "                   n_iter=700, n_jobs=-1,\n",
       "                   param_distributions={'criterion': ['gini', 'entropy'],\n",
       "                                        'max_depth': [0, 2, 4, 6, 8, 10, 12, 14,\n",
       "                                                      16, 18, 20, 22, 24, 26,\n",
       "                                                      28],\n",
       "                                        'max_features': ['auto', 'log2', None,\n",
       "                                                         2, 4],\n",
       "                                        'max_samples': [None, 100, 300, 500,\n",
       "                                                        600, 700, 900],\n",
       "                                        'min_samples_split': [1, 2, 3, 4],\n",
       "                                        'n_estimators': [100, 200, 300, 400,\n",
       "                                                         500, 600, 700, 800,\n",
       "                                                         900]},\n",
       "                   random_state=909, scoring='neg_log_loss', verbose=1)"
      ]
     },
     "execution_count": 118,
     "metadata": {},
     "output_type": "execute_result"
    }
   ],
   "source": [
    "from sklearn.model_selection import GridSearchCV,RandomizedSearchCV\n",
    "\n",
    "scoring = 'neg_log_loss'\n",
    "n_jobs = -1\n",
    "cv = 5\n",
    "\n",
    "parm = {'n_estimators': list(range(100,1000,100)),\n",
    "        'criterion':['gini','entropy'],\n",
    "        'max_depth':list(range(0,30,2)),\n",
    "        'min_samples_split':list(range(1,5)),\n",
    "        'max_features':['auto','log2',None,2,4],\n",
    "        'max_samples' : [None,100,300,500,600,700,900]\n",
    "        \n",
    "        }\n",
    "\n",
    "estimator = ExtraTreesClassifier(random_state = 9099)\n",
    "\n",
    "random_grid = RandomizedSearchCV(estimator=estimator,\n",
    "                                 param_distributions=parm,\n",
    "                                 n_iter = 700,\n",
    "                                 scoring = scoring,\n",
    "                                 n_jobs = n_jobs,\n",
    "                                 cv = cv,\n",
    "                                 random_state = 909,\n",
    "                                 verbose = 1\n",
    "                                )\n",
    "\n",
    "\n",
    "\n",
    "random_grid.fit(new_xs,new_ys)\n"
   ]
  },
  {
   "cell_type": "code",
   "execution_count": 121,
   "metadata": {},
   "outputs": [
    {
     "data": {
      "text/plain": [
       "-0.2384925748146675"
      ]
     },
     "execution_count": 121,
     "metadata": {},
     "output_type": "execute_result"
    }
   ],
   "source": [
    "random_grid.best_score_"
   ]
  },
  {
   "cell_type": "code",
   "execution_count": 88,
   "metadata": {},
   "outputs": [
    {
     "data": {
      "text/plain": [
       "{'n_estimators': 600,\n",
       " 'min_samples_split': 4,\n",
       " 'max_features': 4,\n",
       " 'max_depth': 24}"
      ]
     },
     "execution_count": 88,
     "metadata": {},
     "output_type": "execute_result"
    }
   ],
   "source": [
    "#parametres at 50 its \n",
    "random_grid.best_params_"
   ]
  },
  {
   "cell_type": "markdown",
   "metadata": {},
   "source": [
    "# params at 1500 fits"
   ]
  },
  {
   "cell_type": "code",
   "execution_count": 114,
   "metadata": {},
   "outputs": [
    {
     "data": {
      "text/plain": [
       "{'n_estimators': 200,\n",
       " 'min_samples_split': 2,\n",
       " 'max_samples': 500,\n",
       " 'max_features': 4,\n",
       " 'max_depth': 26,\n",
       " 'criterion': 'entropy'}"
      ]
     },
     "execution_count": 114,
     "metadata": {},
     "output_type": "execute_result"
    }
   ],
   "source": [
    "random_grid.best_params_"
   ]
  },
  {
   "cell_type": "markdown",
   "metadata": {},
   "source": [
    "params at 2500 fits"
   ]
  },
  {
   "cell_type": "code",
   "execution_count": 117,
   "metadata": {},
   "outputs": [
    {
     "data": {
      "text/plain": [
       "{'n_estimators': 700,\n",
       " 'min_samples_split': 2,\n",
       " 'max_samples': 900,\n",
       " 'max_features': None,\n",
       " 'max_depth': 22,\n",
       " 'criterion': 'entropy'}"
      ]
     },
     "execution_count": 117,
     "metadata": {},
     "output_type": "execute_result"
    }
   ],
   "source": [
    "random_grid.best_params_"
   ]
  },
  {
   "cell_type": "markdown",
   "metadata": {},
   "source": [
    "params at 3500 fits"
   ]
  },
  {
   "cell_type": "code",
   "execution_count": 120,
   "metadata": {},
   "outputs": [
    {
     "data": {
      "text/plain": [
       "{'n_estimators': 700,\n",
       " 'min_samples_split': 2,\n",
       " 'max_samples': 900,\n",
       " 'max_features': None,\n",
       " 'max_depth': 22,\n",
       " 'criterion': 'entropy'}"
      ]
     },
     "execution_count": 120,
     "metadata": {},
     "output_type": "execute_result"
    }
   ],
   "source": [
    "random_grid.best_params_"
   ]
  },
  {
   "cell_type": "markdown",
   "metadata": {},
   "source": [
    "# Grid Search"
   ]
  },
  {
   "cell_type": "code",
   "execution_count": 126,
   "metadata": {},
   "outputs": [
    {
     "name": "stdout",
     "output_type": "stream",
     "text": [
      "Fitting 5 folds for each of 768 candidates, totalling 3840 fits\n"
     ]
    },
    {
     "name": "stderr",
     "output_type": "stream",
     "text": [
      "[Parallel(n_jobs=-1)]: Using backend LokyBackend with 8 concurrent workers.\n",
      "[Parallel(n_jobs=-1)]: Done  34 tasks      | elapsed:   11.7s\n",
      "[Parallel(n_jobs=-1)]: Done 184 tasks      | elapsed:  1.2min\n",
      "[Parallel(n_jobs=-1)]: Done 434 tasks      | elapsed:  2.8min\n",
      "[Parallel(n_jobs=-1)]: Done 784 tasks      | elapsed:  5.2min\n",
      "[Parallel(n_jobs=-1)]: Done 1234 tasks      | elapsed:  8.3min\n",
      "[Parallel(n_jobs=-1)]: Done 1784 tasks      | elapsed: 12.0min\n",
      "[Parallel(n_jobs=-1)]: Done 2434 tasks      | elapsed: 16.6min\n",
      "[Parallel(n_jobs=-1)]: Done 3184 tasks      | elapsed: 22.1min\n",
      "[Parallel(n_jobs=-1)]: Done 3840 out of 3840 | elapsed: 26.7min finished\n"
     ]
    },
    {
     "data": {
      "text/plain": [
       "GridSearchCV(cv=5, estimator=ExtraTreesClassifier(), n_jobs=-1,\n",
       "             param_grid={'criterion': ['gini', 'entropy'],\n",
       "                         'max_depth': [None, 21, 22, 23],\n",
       "                         'max_features': [None, 2],\n",
       "                         'max_samples': [None, 800, 900, 1050],\n",
       "                         'min_samples_split': [1, 2, 3],\n",
       "                         'n_estimators': [600, 700, 750, 800]},\n",
       "             scoring='neg_log_loss', verbose=1)"
      ]
     },
     "execution_count": 126,
     "metadata": {},
     "output_type": "execute_result"
    }
   ],
   "source": [
    "from sklearn.model_selection import GridSearchCV\n",
    "\n",
    "scoring = 'neg_log_loss'\n",
    "n_jobs = -1\n",
    "cv = 5\n",
    "\n",
    "parm_grid = {'n_estimators': [600,700,750,800],\n",
    "        'criterion':['gini','entropy'],\n",
    "        'max_depth':[None,21,22,23],\n",
    "        'min_samples_split':[1,2,3],\n",
    "        'max_features':[None,2],\n",
    "        'max_samples' : [None,800,900,1050]\n",
    "        \n",
    "        }\n",
    "\n",
    "estimator = ExtraTreesClassifier(random_state = 9099)\n",
    "\n",
    "\n",
    "grid_search = GridSearchCV(estimator= estimarot,\n",
    "                           param_grid=parm_grid,\n",
    "                           scoring = scoring,\n",
    "                           n_jobs = n_jobs,\n",
    "                           verbose = 1,\n",
    "                           cv = cv)\n",
    "grid_search.fit(new_xs,new_ys)"
   ]
  },
  {
   "cell_type": "code",
   "execution_count": 127,
   "metadata": {},
   "outputs": [
    {
     "data": {
      "text/plain": [
       "-0.23810863905019602"
      ]
     },
     "execution_count": 127,
     "metadata": {},
     "output_type": "execute_result"
    }
   ],
   "source": [
    "grid_search.best_score_"
   ]
  },
  {
   "cell_type": "code",
   "execution_count": 128,
   "metadata": {},
   "outputs": [
    {
     "data": {
      "text/plain": [
       "{'criterion': 'entropy',\n",
       " 'max_depth': 22,\n",
       " 'max_features': None,\n",
       " 'max_samples': 1050,\n",
       " 'min_samples_split': 2,\n",
       " 'n_estimators': 600}"
      ]
     },
     "execution_count": 128,
     "metadata": {},
     "output_type": "execute_result"
    }
   ],
   "source": [
    "grid_search.best_params_"
   ]
  },
  {
   "cell_type": "code",
   "execution_count": 140,
   "metadata": {},
   "outputs": [
    {
     "name": "stdout",
     "output_type": "stream",
     "text": [
      "(1774, 10)\n",
      "Counter({1: 887, 2: 887})\n",
      "0.17810878928539411\n",
      "0.2492018240042685\n",
      "0.24542926569096912\n",
      "0.22963737989117977\n",
      "0.20832331528791853\n",
      "avg 0.222140114831946\n"
     ]
    }
   ],
   "source": [
    "from sklearn.ensemble import ExtraTreesClassifier\n",
    "from sklearn.metrics import log_loss\n",
    "from sklearn.model_selection import KFold\n",
    "\n",
    "\n",
    "print(new_xs.shape)\n",
    "print(Counter(new_ys))\n",
    "\n",
    "clf4_tuned = ExtraTreesClassifier(**grid_search.best_params_,random_state = 9099)\n",
    "\n",
    "score  = 0\n",
    "\n",
    "folds = KFold(n_splits = 5,shuffle = True,random_state=999)\n",
    "for trt,tst in folds.split(new_xs):\n",
    "    \n",
    "    trainx,testx = new_xs[trt],new_xs[tst]\n",
    "    trainy,testy = new_ys[trt],new_ys[tst]\n",
    "    \n",
    "    clf4_tuned.fit(trainx,trainy)\n",
    "\n",
    "    pred = clf4_tuned.predict_proba(testx)\n",
    "\n",
    "    score += log_loss(testy,pred)\n",
    "    \n",
    "    print( log_loss(testy,pred))\n",
    "\n",
    "#     print(max(0,1- np.sqrt(mean_squared_error(pred,testy))) * 100)\n",
    "\n",
    "\n",
    "\n",
    "\n",
    "print('avg',score/5)"
   ]
  },
  {
   "cell_type": "markdown",
   "metadata": {},
   "source": [
    "# score went from 0.2582 -> 0.2566"
   ]
  },
  {
   "cell_type": "markdown",
   "metadata": {},
   "source": [
    "# Predicting on Test Data"
   ]
  },
  {
   "cell_type": "code",
   "execution_count": 130,
   "metadata": {},
   "outputs": [],
   "source": [
    "test_data = pd.read_csv('Test.csv')\n",
    "test_data['Component'] = test_data['x_component_1'] + test_data['x_component_2'] + \\\n",
    "                         test_data['x_component_3'] + test_data['x_component_4'] + \\\n",
    "                         test_data['x_component_5']  "
   ]
  },
  {
   "cell_type": "code",
   "execution_count": 143,
   "metadata": {},
   "outputs": [
    {
     "data": {
      "text/plain": [
       "583"
      ]
     },
     "execution_count": 143,
     "metadata": {},
     "output_type": "execute_result"
    }
   ],
   "source": [
    "len(test_data)"
   ]
  },
  {
   "cell_type": "code",
   "execution_count": 131,
   "metadata": {},
   "outputs": [
    {
     "data": {
      "text/plain": [
       "0    326\n",
       "1    257\n",
       "Name: Component, dtype: int64"
      ]
     },
     "execution_count": 131,
     "metadata": {},
     "output_type": "execute_result"
    }
   ],
   "source": [
    "test_data['Component'].value_counts()"
   ]
  },
  {
   "cell_type": "code",
   "execution_count": 132,
   "metadata": {},
   "outputs": [
    {
     "data": {
      "text/plain": [
       "Index(['grade_A_Component_1', 'grade_A_Component_2', 'max_luminosity',\n",
       "       'thickness', 'xmin', 'xmax', 'ymin', 'ymax', 'pixel_area', 'log_area',\n",
       "       'x_component_1', 'x_component_2', 'x_component_3', 'x_component_4',\n",
       "       'x_component_5', 'Component'],\n",
       "      dtype='object')"
      ]
     },
     "execution_count": 132,
     "metadata": {},
     "output_type": "execute_result"
    }
   ],
   "source": [
    "test_data.columns"
   ]
  },
  {
   "cell_type": "code",
   "execution_count": 133,
   "metadata": {},
   "outputs": [
    {
     "data": {
      "text/plain": [
       "['grade_A_Component_1',\n",
       " 'max_luminosity',\n",
       " 'thickness',\n",
       " 'xmin',\n",
       " 'xmax',\n",
       " 'ymin',\n",
       " 'ymax',\n",
       " 'log_area',\n",
       " 'pixel_area',\n",
       " 'Component']"
      ]
     },
     "execution_count": 133,
     "metadata": {},
     "output_type": "execute_result"
    }
   ],
   "source": [
    "feature_columns"
   ]
  },
  {
   "cell_type": "code",
   "execution_count": 134,
   "metadata": {},
   "outputs": [
    {
     "data": {
      "text/plain": [
       "(583, 10)"
      ]
     },
     "execution_count": 134,
     "metadata": {},
     "output_type": "execute_result"
    }
   ],
   "source": [
    "test_data = test_data[feature_columns]\n",
    "test_data.shape"
   ]
  },
  {
   "cell_type": "code",
   "execution_count": 136,
   "metadata": {},
   "outputs": [
    {
     "name": "stdout",
     "output_type": "stream",
     "text": [
      "ExtraTreesClassifier(criterion='entropy', max_depth=22, max_features=None,\n",
      "                     max_samples=1050, n_estimators=600, random_state=9099)\n"
     ]
    },
    {
     "data": {
      "text/html": [
       "<div>\n",
       "<style scoped>\n",
       "    .dataframe tbody tr th:only-of-type {\n",
       "        vertical-align: middle;\n",
       "    }\n",
       "\n",
       "    .dataframe tbody tr th {\n",
       "        vertical-align: top;\n",
       "    }\n",
       "\n",
       "    .dataframe thead th {\n",
       "        text-align: right;\n",
       "    }\n",
       "</style>\n",
       "<table border=\"1\" class=\"dataframe\">\n",
       "  <thead>\n",
       "    <tr style=\"text-align: right;\">\n",
       "      <th></th>\n",
       "      <th>1</th>\n",
       "      <th>2</th>\n",
       "    </tr>\n",
       "  </thead>\n",
       "  <tbody>\n",
       "    <tr>\n",
       "      <th>0</th>\n",
       "      <td>0.600493</td>\n",
       "      <td>0.399507</td>\n",
       "    </tr>\n",
       "    <tr>\n",
       "      <th>1</th>\n",
       "      <td>0.532010</td>\n",
       "      <td>0.467990</td>\n",
       "    </tr>\n",
       "    <tr>\n",
       "      <th>2</th>\n",
       "      <td>0.892149</td>\n",
       "      <td>0.107851</td>\n",
       "    </tr>\n",
       "    <tr>\n",
       "      <th>3</th>\n",
       "      <td>0.694834</td>\n",
       "      <td>0.305166</td>\n",
       "    </tr>\n",
       "    <tr>\n",
       "      <th>4</th>\n",
       "      <td>0.740557</td>\n",
       "      <td>0.259443</td>\n",
       "    </tr>\n",
       "  </tbody>\n",
       "</table>\n",
       "</div>"
      ],
      "text/plain": [
       "          1         2\n",
       "0  0.600493  0.399507\n",
       "1  0.532010  0.467990\n",
       "2  0.892149  0.107851\n",
       "3  0.694834  0.305166\n",
       "4  0.740557  0.259443"
      ]
     },
     "execution_count": 136,
     "metadata": {},
     "output_type": "execute_result"
    }
   ],
   "source": [
    "test_preds = clf4_tuned.predict_proba(test_data.values)\n",
    "print(clf4_tuned)\n",
    "sub_file = pd.read_excel('Sample_Submission.xlsx')\n",
    "sub_file.head()"
   ]
  },
  {
   "cell_type": "code",
   "execution_count": 137,
   "metadata": {},
   "outputs": [
    {
     "data": {
      "text/html": [
       "<div>\n",
       "<style scoped>\n",
       "    .dataframe tbody tr th:only-of-type {\n",
       "        vertical-align: middle;\n",
       "    }\n",
       "\n",
       "    .dataframe tbody tr th {\n",
       "        vertical-align: top;\n",
       "    }\n",
       "\n",
       "    .dataframe thead th {\n",
       "        text-align: right;\n",
       "    }\n",
       "</style>\n",
       "<table border=\"1\" class=\"dataframe\">\n",
       "  <thead>\n",
       "    <tr style=\"text-align: right;\">\n",
       "      <th></th>\n",
       "      <th>1</th>\n",
       "      <th>2</th>\n",
       "    </tr>\n",
       "  </thead>\n",
       "  <tbody>\n",
       "    <tr>\n",
       "      <th>0</th>\n",
       "      <td>1.000000</td>\n",
       "      <td>0.000000</td>\n",
       "    </tr>\n",
       "    <tr>\n",
       "      <th>1</th>\n",
       "      <td>0.068333</td>\n",
       "      <td>0.931667</td>\n",
       "    </tr>\n",
       "    <tr>\n",
       "      <th>2</th>\n",
       "      <td>1.000000</td>\n",
       "      <td>0.000000</td>\n",
       "    </tr>\n",
       "    <tr>\n",
       "      <th>3</th>\n",
       "      <td>1.000000</td>\n",
       "      <td>0.000000</td>\n",
       "    </tr>\n",
       "    <tr>\n",
       "      <th>4</th>\n",
       "      <td>0.711807</td>\n",
       "      <td>0.288193</td>\n",
       "    </tr>\n",
       "  </tbody>\n",
       "</table>\n",
       "</div>"
      ],
      "text/plain": [
       "          1         2\n",
       "0  1.000000  0.000000\n",
       "1  0.068333  0.931667\n",
       "2  1.000000  0.000000\n",
       "3  1.000000  0.000000\n",
       "4  0.711807  0.288193"
      ]
     },
     "execution_count": 137,
     "metadata": {},
     "output_type": "execute_result"
    }
   ],
   "source": [
    "sub_file.iloc[:,:] = test_preds\n",
    "sub_file.head()"
   ]
  },
  {
   "cell_type": "code",
   "execution_count": 138,
   "metadata": {},
   "outputs": [],
   "source": [
    "sub_file.to_excel('ExtreeClf_tuned.xlsx')"
   ]
  }
 ],
 "metadata": {
  "kernelspec": {
   "display_name": "Python 3",
   "language": "python",
   "name": "python3"
  },
  "language_info": {
   "codemirror_mode": {
    "name": "ipython",
    "version": 3
   },
   "file_extension": ".py",
   "mimetype": "text/x-python",
   "name": "python",
   "nbconvert_exporter": "python",
   "pygments_lexer": "ipython3",
   "version": "3.7.3"
  }
 },
 "nbformat": 4,
 "nbformat_minor": 2
}
