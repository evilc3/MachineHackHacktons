{
 "cells": [
  {
   "cell_type": "markdown",
   "metadata": {},
   "source": [
    "\n",
    "# What This NoteBook Include  \n",
    "1. Post Processing \n",
    "2. Ensemble method using Ml Models\n",
    "3. Ensemble method using DL Models (got me at 18 place out of 59)\n",
    "\n",
    "## to see preprocessing part refer to Mutlicalss classification \n",
    "\n",
    "\n"
   ]
  },
  {
   "cell_type": "code",
   "execution_count": 4,
   "metadata": {},
   "outputs": [],
   "source": [
    "import warnings\n",
    "warnings.filterwarnings('ignore')\n",
    "\n",
    "import gc\n",
    "import pickle  as pk\n",
    "import os\n",
    "import warnings\n",
    "warnings.filterwarnings('ignore')\n",
    "\n",
    "# Modules for data manipulation\n",
    "import numpy as np\n",
    "import pandas as pd\n",
    "import re\n",
    "\n",
    "# Modules for visualization\n",
    "import matplotlib.pyplot as plt\n",
    "import seaborn as sb\n",
    "\n",
    "# Tools for preprocessing input data\n",
    "from nltk import word_tokenize\n",
    "from nltk.corpus import stopwords\n",
    "from nltk.stem import WordNetLemmatizer\n",
    "from nltk import pos_tag\n",
    "# Tools for creating ngrams and vectorizing input data\n",
    "# import gensim\n",
    "\n",
    "from gensim.models import Word2Vec\n",
    "from gensim.models.phrases import Phrases, Phraser\n",
    "\n",
    "\n",
    "\n",
    "# Tools for building a model\n",
    "from sklearn.model_selection import train_test_split\n",
    "\n",
    "from sklearn.feature_extraction.text import TfidfVectorizer\n",
    "\n",
    "\n",
    "\n",
    "from keras.models import Sequential\n",
    "from keras.layers import Dense, LSTM, Dropout, Bidirectional,Flatten,GlobalMaxPooling1D,MaxPool1D\n",
    "from keras.layers.embeddings import Embedding\n",
    "\n",
    "from keras.preprocessing import text\n",
    "from keras.preprocessing.sequence import pad_sequences\n",
    "\n",
    "# Tools for assessing the quality of model prediction\n",
    "from sklearn.metrics import accuracy_score, confusion_matrix,log_loss,f1_score\n",
    "\n",
    "\n",
    "import tensorflow_hub as hub\n",
    "\n",
    "\n"
   ]
  },
  {
   "cell_type": "code",
   "execution_count": 99,
   "metadata": {},
   "outputs": [],
   "source": [
    "train_data = pk.load(open('processed_train_data','rb'))\n",
    "test_data = pk.load(open('processed_test_data','rb'))\n",
    "\n",
    "train_data = train_data.append(train_data[train_data['Labels'] == 18])\n",
    "train_data.reset_index(drop=True, inplace=True)"
   ]
  },
  {
   "cell_type": "code",
   "execution_count": 8,
   "metadata": {},
   "outputs": [
    {
     "data": {
      "text/plain": [
       "6     405\n",
       "19    261\n",
       "4     243\n",
       "0     203\n",
       "5     141\n",
       "15    134\n",
       "1     116\n",
       "16    109\n",
       "11    104\n",
       "8      79\n",
       "14     75\n",
       "7      27\n",
       "2      25\n",
       "20     18\n",
       "13     15\n",
       "21      9\n",
       "12      4\n",
       "9       3\n",
       "3       2\n",
       "17      2\n",
       "18      2\n",
       "10      2\n",
       "Name: Labels, dtype: int64"
      ]
     },
     "execution_count": 8,
     "metadata": {},
     "output_type": "execute_result"
    }
   ],
   "source": [
    "train_data.Labels.value_counts()"
   ]
  },
  {
   "cell_type": "markdown",
   "metadata": {},
   "source": [
    "# Dealing with Unbalanced Data By Splitting classes w.r.t the size "
   ]
  },
  {
   "cell_type": "markdown",
   "metadata": {},
   "source": [
    "# Clsses with 200+ samples"
   ]
  },
  {
   "cell_type": "code",
   "execution_count": 9,
   "metadata": {},
   "outputs": [
    {
     "name": "stdout",
     "output_type": "stream",
     "text": [
      "classes with 200+ samples in datset Int64Index([6, 19, 4, 0], dtype='int64')\n",
      "These samples will be trained by one model\n"
     ]
    }
   ],
   "source": [
    "classes = train_data.Labels.value_counts().index\n",
    "\n",
    "print('classes with 200+ samples in datset {}'.format(classes[train_data.Labels.value_counts().values > 200]))\n",
    "\n",
    "print('These samples will be trained by one model')\n",
    "\n",
    "\n",
    "\n",
    "class_model_1 = classes[train_data.Labels.value_counts().values > 200]\n"
   ]
  },
  {
   "cell_type": "markdown",
   "metadata": {},
   "source": [
    "# Classes with 100 + samples < 200+ samples "
   ]
  },
  {
   "cell_type": "code",
   "execution_count": 10,
   "metadata": {},
   "outputs": [
    {
     "name": "stdout",
     "output_type": "stream",
     "text": [
      "classes with 100+ samples but < 200+ in datset Int64Index([5, 15, 1, 16, 11], dtype='int64')\n",
      "These samples will be trained by one model\n"
     ]
    }
   ],
   "source": [
    "classes = train_data.Labels.value_counts().index\n",
    "\n",
    "samples  = train_data.Labels.value_counts().values\n",
    "\n",
    "print('classes with 100+ samples but < 200+ in datset {}'.format( \n",
    "    classes[(samples> 100) &  (samples < 200)]))\n",
    "\n",
    "print('These samples will be trained by one model')\n",
    "\n",
    "\n",
    "class_model_2 = classes[(samples> 100) &  (samples < 200)]"
   ]
  },
  {
   "cell_type": "markdown",
   "metadata": {},
   "source": [
    "# Classes with < 100+ samples "
   ]
  },
  {
   "cell_type": "code",
   "execution_count": 11,
   "metadata": {},
   "outputs": [
    {
     "name": "stdout",
     "output_type": "stream",
     "text": [
      "classes with 100+ samples but < 200+ in datset Int64Index([8, 14, 7, 2, 20, 13, 21, 12, 9, 3, 17, 18, 10], dtype='int64')\n",
      "These samples will be trained by one model\n",
      "13\n"
     ]
    }
   ],
   "source": [
    "classes = train_data.Labels.value_counts().index\n",
    "\n",
    "samples  = train_data.Labels.value_counts().values\n",
    "\n",
    "print('classes with 100+ samples but < 200+ in datset {}'.format( \n",
    "    classes[(samples < 100)] ))\n",
    "\n",
    "print('These samples will be trained by one model')\n",
    "\n",
    "\n",
    "class_model_3 = classes[(samples <100)]\n",
    "\n",
    "print(len(class_model_3))"
   ]
  },
  {
   "cell_type": "markdown",
   "metadata": {},
   "source": [
    "# Building a simple pipeline "
   ]
  },
  {
   "cell_type": "code",
   "execution_count": 6,
   "metadata": {},
   "outputs": [
    {
     "name": "stdout",
     "output_type": "stream",
     "text": [
      "No. classes [ 1  4  6  8 15 16 19]\n",
      "[ 8  4  6  6 16 15 19 15  1  6]\n",
      "accuracy 1.0\n",
      "[[0.11635422 0.11722429 0.17682101 0.20792566 0.14649872 0.11825384\n",
      "  0.11692224]\n",
      " [0.11628772 0.2093109  0.17570306 0.1177257  0.14612592 0.11791386\n",
      "  0.11693283]\n",
      " [0.11463685 0.11542628 0.27910711 0.11574459 0.14301449 0.11673956\n",
      "  0.11533112]]\n"
     ]
    }
   ],
   "source": [
    "from sklearn.pipeline import Pipeline\n",
    "\n",
    "from sklearn.feature_extraction.text import TfidfVectorizer\n",
    "\n",
    "from sklearn.linear_model import LogisticRegression\n",
    "\n",
    "\n",
    "tf_idf = TfidfVectorizer()\n",
    "\n",
    "\n",
    "clf = LogisticRegression()\n",
    "\n",
    "\n",
    "demo_data  = train_data[0:10]\n",
    "\n",
    "x = demo_data['processed_script']\n",
    "y = demo_data['Labels']\n",
    "\n",
    "# print(x.shape,y.shape)\n",
    "\n",
    "\n",
    "# print('sample',x[0])\n",
    "\n",
    "\n",
    "params = [('tf_idf',tf_idf),('lr',clf)]\n",
    "\n",
    "model_0 = Pipeline(params)\n",
    "\n",
    "\n",
    "model_0.fit(x,y)\n",
    "\n",
    "#evaluating the model\n",
    "\n",
    "print('No. classes',np.unique(y))\n",
    "\n",
    "\n",
    "\n",
    "pred = model_0.predict(x)\n",
    "\n",
    "print(pred)\n",
    "\n",
    "print('accuracy',accuracy_score(y,pred))\n",
    "\n",
    "\n",
    "print(model_0.predict_proba(x)[0:3])\n",
    "\n",
    "\n"
   ]
  },
  {
   "cell_type": "code",
   "execution_count": 25,
   "metadata": {},
   "outputs": [
    {
     "name": "stdout",
     "output_type": "stream",
     "text": [
      "[6]\n"
     ]
    },
    {
     "data": {
      "text/plain": [
       "array([[0.12380272, 0.12655122, 0.20304908, 0.12820703, 0.16141277,\n",
       "        0.13091352, 0.12606367]])"
      ]
     },
     "execution_count": 25,
     "metadata": {},
     "output_type": "execute_result"
    }
   ],
   "source": [
    "unseenlabel = train_data[train_data['Labels'] == 0]['processed_script'].values[0]\n",
    "\n",
    "print(model_0.predict([unseenlabel]))\n",
    "\n",
    "model_0.predict_proba([unseenlabel])\n",
    "\n"
   ]
  },
  {
   "cell_type": "markdown",
   "metadata": {},
   "source": [
    "# Post Processing"
   ]
  },
  {
   "cell_type": "markdown",
   "metadata": {},
   "source": [
    "# Building Vocab"
   ]
  },
  {
   "cell_type": "code",
   "execution_count": 6,
   "metadata": {},
   "outputs": [
    {
     "name": "stdout",
     "output_type": "stream",
     "text": [
      "class = 0 [('the', 56246), ('look', 22902), ('get', 20009), ('back', 18206), ('int', 17161), ('one', 15022), ('you', 13591), ('ext', 13143), ('like', 12249), ('day', 11710)]\n",
      "class = 1 [('the', 30033), ('look', 13099), ('get', 10251), ('back', 9655), ('int', 8122), ('one', 7750), ('ext', 7665), ('you', 7278), ('day', 7031), ('like', 6482)]\n",
      "class = 2 [('the', 4377), ('look', 2454), ('get', 2073), ('back', 1829), ('head', 1382), ('like', 1297), ('you', 1283), ('hiccup', 1256), ('one', 1238), ('come', 1177)]\n",
      "class = 3 [('jim', 955), ('franklin', 689), ('the', 435), ('get', 302), ('look', 243), ('come', 235), ('door', 231), ('you', 230), ('man', 227), ('eleanor', 213)]\n",
      "class = 4 [('the', 44092), ('get', 28304), ('look', 27248), ('you', 19355), ('back', 18053), ('int', 18028), ('know', 17363), ('dont', 16941), ('like', 16322), ('she', 15110)]\n",
      "class = 5 [('the', 29045), ('get', 18899), ('look', 17848), ('int', 13431), ('back', 12897), ('you', 12380), ('know', 11004), ('dont', 9921), ('she', 9598), ('day', 9521)]\n",
      "class = 6 [('the', 86144), ('look', 49674), ('get', 45054), ('int', 35279), ('you', 33389), ('back', 32613), ('she', 30679), ('day', 29987), ('know', 29487), ('dont', 27615)]\n",
      "class = 7 [('the', 4449), ('look', 2621), ('get', 2348), ('back', 1820), ('come', 1499), ('you', 1440), ('and', 1409), ('jack', 1373), ('like', 1342), ('george', 1311)]\n",
      "class = 8 [('the', 17027), ('look', 8557), ('get', 6380), ('back', 6064), ('int', 5432), ('you', 4939), ('one', 4846), ('like', 4463), ('she', 4239), ('come', 4181)]\n",
      "class = 9 [('guy', 798), ('neff', 749), ('the', 690), ('gillis', 602), ('bruno', 504), ('look', 442), ('get', 433), ('phyllis', 393), ('norma', 392), ('shot', 378)]\n",
      "class = 10 [('mary', 607), ('anne', 526), ('valentin', 389), ('henry', 331), ('tolstoy', 294), ('sofya', 288), ('the', 274), ('look', 245), ('she', 241), ('day', 234)]\n",
      "class = 11 [('the', 26008), ('look', 11761), ('she', 10365), ('back', 9341), ('get', 8952), ('int', 8644), ('door', 7468), ('one', 6270), ('you', 6257), ('come', 5954)]\n",
      "class = 12 [('jim', 955), ('rob', 894), ('the', 868), ('szpilman', 507), ('get', 494), ('look', 435), ('you', 410), ('door', 380), ('like', 373), ('steve', 371)]\n",
      "class = 13 [('the', 2719), ('look', 1558), ('get', 1445), ('and', 1315), ('jack', 1153), ('back', 1127), ('you', 1049), ('dorothy', 1018), ('she', 968), ('man', 953)]\n",
      "class = 14 [('the', 15940), ('look', 10784), ('get', 8149), ('she', 7155), ('back', 6900), ('int', 6771), ('know', 5525), ('you', 5368), ('door', 5136), ('one', 5124)]\n",
      "class = 15 [('the', 22449), ('look', 15726), ('get', 13485), ('she', 12411), ('int', 10954), ('you', 10869), ('know', 10040), ('back', 9682), ('dont', 9071), ('day', 8750)]\n",
      "class = 16 [('the', 29740), ('look', 12341), ('get', 9923), ('int', 9713), ('back', 8859), ('one', 7422), ('like', 7161), ('you', 6537), ('she', 6403), ('ext', 5828)]\n",
      "class = 17 [('marian', 223), ('the', 173), ('pentcho', 128), ('disciple', 96), ('paula', 79), ('int', 70), ('day', 68), ('mia', 68), ('look', 61), ('voice', 56)]\n",
      "class = 18 [('speed', 1142), ('the', 540), ('racer', 490), ('int', 430), ('pop', 416), ('car', 396), ('remmington', 372), ('sprittle', 286), ('contd', 284), ('like', 240)]\n",
      "class = 19 [('the', 62259), ('look', 31785), ('get', 28145), ('back', 23785), ('int', 22716), ('she', 19742), ('you', 19039), ('one', 17490), ('know', 16517), ('door', 15788)]\n",
      "class = 20 [('the', 5217), ('look', 2167), ('get', 2121), ('back', 1685), ('day', 1581), ('one', 1416), ('take', 1350), ('you', 1328), ('ext', 1319), ('know', 1194)]\n",
      "class = 21 [('the', 2612), ('look', 1431), ('get', 1123), ('back', 1017), ('come', 859), ('ext', 856), ('wyatt', 855), ('and', 823), ('you', 773), ('west', 772)]\n"
     ]
    }
   ],
   "source": [
    "from collections import Counter\n",
    "\n",
    "\n",
    "for i in range(22):\n",
    "    vocab = Counter()\n",
    "    for script in train_data[train_data.Labels ==i].processed_script:\n",
    "\n",
    "\n",
    "\n",
    "            vocab.update( script.split())\n",
    "\n",
    "    print(f'class = {i} {vocab.most_common(10)}')"
   ]
  },
  {
   "cell_type": "code",
   "execution_count": 5,
   "metadata": {},
   "outputs": [],
   "source": [
    "  # creating the voca file:\n",
    "from collections import Counter\n",
    "\n",
    "\n",
    "def get_vocab(x):\n",
    "    vocab = Counter()\n",
    "\n",
    "\n",
    "    for script in x:\n",
    "        vocab.update( script.split())\n",
    "        \n",
    "    return vocab\n",
    "\n",
    "\n",
    "\n",
    "# vocab = get_vocab(train_data.processed_script)"
   ]
  },
  {
   "cell_type": "code",
   "execution_count": 110,
   "metadata": {},
   "outputs": [
    {
     "name": "stdout",
     "output_type": "stream",
     "text": [
      "{'right', 'voice', 'phone', 'moment', 'say', 'around', 'tell', 'then', 'good', 'like', 'two', 'get', 'stop', 'little', 'toward', 'know', 'john', 'he', 'time', 'turn', 'look', 'behind', 'well', 'house', 'put', 'but', 'thats', 'man', 'call', 'cut', 'find', 'go', 'they', 'ext', 'head', 'work', 'car', 'hand', 'you', 'int', 'move', 'cant', 'side', 'make', 'street', 'it', 'another', 'open', 'leave', 'sit', 'walk', 'dont', 'day', 'stand', 'try', 'front', 'night', 'face', 'guy', 'take', 'run', 'door', 'beat', 'light', 'want', 'contd', 'still', 'one', 'she', 'let', 'shot', 'way', 'thing', 'eye', 'what', 'pull', 'the', 'hear', 'talk', 'smile', 'window', 'away', 'long', 'watch', 'think', 'old', 'room', 'youre', 'close', 'and', 'come', 'this', 'his', 'back', 'hold', 'there', 'give', 'something', 'continued', 'start'}\n"
     ]
    }
   ],
   "source": [
    "top_100_counts = vocab.most_common(100)\n",
    "\n",
    "\n",
    "top_100_wordlist = set([word for word,_ in top_100_counts])\n",
    "print(top_100_wordlist)"
   ]
  },
  {
   "cell_type": "markdown",
   "metadata": {},
   "source": [
    "# Remove top_100 words Method 1 (not using this)"
   ]
  },
  {
   "cell_type": "code",
   "execution_count": 178,
   "metadata": {},
   "outputs": [
    {
     "name": "stderr",
     "output_type": "stream",
     "text": [
      "100%|██████████| 1979/1979 [00:24<00:00, 81.15it/s]\n"
     ]
    }
   ],
   "source": [
    "# # remove words which are not in vocab file\n",
    "# train_docs = []\n",
    "# import tqdm \n",
    "# for script in  tqdm.tqdm(train_data['processed_script']):\n",
    "    \n",
    "#     new_script = []\n",
    "#     for words in script.split():\n",
    "        \n",
    "#         if words not in top_100_wordlist and len(words) > 3 and words not in custom_list:\n",
    "#             new_script.append(words)\n",
    "#     train_docs.append(list(set(new_script)))    \n"
   ]
  },
  {
   "cell_type": "code",
   "execution_count": null,
   "metadata": {},
   "outputs": [],
   "source": []
  },
  {
   "cell_type": "code",
   "execution_count": 11,
   "metadata": {},
   "outputs": [],
   "source": [
    "# word_count = list(map(lambda x : len(x),train_docs))\n",
    "\n",
    "# sb.kdeplot(word_count)"
   ]
  },
  {
   "cell_type": "markdown",
   "metadata": {},
   "source": [
    "# Mapper method 1  Stage 1"
   ]
  },
  {
   "cell_type": "code",
   "execution_count": 111,
   "metadata": {},
   "outputs": [],
   "source": [
    "\n",
    "def mapper(script):\n",
    "    \n",
    "    new_script = []\n",
    "    for words in script.split():\n",
    "        \n",
    "        if words not in top_100_wordlist and len(words) > 3:\n",
    "            \n",
    "           new_script.append(words)\n",
    "        \n",
    "        \n",
    "    return ' '.join(new_script)  \n",
    "\n",
    "\n",
    "train_data['post_processed_script'] = train_data['processed_script'].map(mapper)\n"
   ]
  },
  {
   "cell_type": "code",
   "execution_count": 15,
   "metadata": {},
   "outputs": [
    {
     "name": "stdout",
     "output_type": "stream",
     "text": [
      "class = 0 [('fire', 5267), ('foot', 4802), ('across', 4406), ('wall', 4286), ('floor', 3990), ('star', 3913), ('step', 3900), ('suddenly', 3704), ('reach', 3655), ('jack', 3643)]\n",
      "class = 1 [('jack', 4014), ('star', 2842), ('wall', 2691), ('fire', 2646), ('ship', 2511), ('foot', 2380), ('fall', 2255), ('suddenly', 2189), ('begin', 2116), ('across', 2115)]\n",
      "class = 2 [('hiccup', 1256), ('shrek', 1067), ('jack', 805), ('coraline', 790), ('woody', 750), ('mater', 708), ('buzz', 601), ('dragon', 587), ('donkey', 570), ('suddenly', 565)]\n",
      "class = 3 [('franklin', 689), ('eleanor', 213), ('louis', 157), ('love', 104), ('girl', 95), ('song', 91), ('helena', 83), ('fuck', 83), ('robbie', 78), ('people', 76)]\n",
      "class = 4 [('yeah', 6490), ('really', 5619), ('okay', 5113), ('jack', 4845), ('would', 4481), ('mean', 4466), ('girl', 4447), ('woman', 4373), ('shes', 4337), ('could', 4327)]\n",
      "class = 5 [('fuck', 3527), ('yeah', 3449), ('table', 2732), ('nick', 2696), ('wait', 2621), ('could', 2577), ('step', 2558), ('floor', 2543), ('across', 2514), ('didnt', 2513)]\n",
      "class = 6 [('woman', 8098), ('people', 8057), ('would', 7971), ('wait', 7506), ('yeah', 7289), ('first', 7241), ('table', 7163), ('girl', 7155), ('never', 7142), ('could', 7059)]\n",
      "class = 7 [('jack', 1373), ('george', 1311), ('dorothy', 1019), ('wall', 840), ('coraline', 790), ('mary', 746), ('sarah', 705), ('carl', 669), ('master', 637), ('vada', 621)]\n",
      "class = 8 [('bruce', 1561), ('suddenly', 1527), ('star', 1447), ('jack', 1446), ('david', 1428), ('scott', 1403), ('wall', 1378), ('billy', 1350), ('foot', 1347), ('begin', 1333)]\n",
      "class = 9 [('neff', 749), ('gillis', 602), ('bruno', 504), ('phyllis', 393), ('norma', 392), ('keyes', 328), ('anne', 227), ('betty', 170), ('dietrichson', 163), ('screentalk', 148)]\n",
      "class = 10 [('mary', 607), ('anne', 526), ('valentin', 389), ('henry', 331), ('tolstoy', 294), ('sofya', 288), ('thomas', 187), ('chertkov', 170), ('sasha', 154), ('king', 143)]\n",
      "class = 11 [('floor', 2367), ('wall', 2251), ('peter', 2186), ('sound', 2169), ('shes', 2084), ('across', 2043), ('reach', 2023), ('body', 1971), ('step', 1935), ('camera', 1893)]\n",
      "class = 12 [('szpilman', 507), ('steve', 371), ('laura', 286), ('barry', 208), ('furtwangler', 185), ('david', 181), ('german', 171), ('people', 161), ('emmi', 156), ('fuck', 149)]\n",
      "class = 13 [('jack', 1153), ('dorothy', 1018), ('sarah', 707), ('guido', 630), ('bialystock', 553), ('scarecrow', 513), ('mulan', 465), ('camera', 430), ('aladdin', 406), ('lion', 396)]\n",
      "class = 14 [('woman', 1679), ('white', 1665), ('shes', 1591), ('step', 1551), ('floor', 1549), ('across', 1489), ('girl', 1483), ('martin', 1478), ('doesnt', 1439), ('sound', 1434)]\n",
      "class = 15 [('love', 3396), ('jack', 3239), ('woman', 3184), ('harry', 3174), ('would', 2817), ('girl', 2758), ('really', 2717), ('shes', 2707), ('yeah', 2630), ('never', 2597)]\n",
      "class = 16 [('wall', 3067), ('fire', 2353), ('across', 2331), ('star', 2317), ('foot', 2259), ('begin', 2204), ('ship', 2126), ('floor', 2074), ('inside', 2031), ('suddenly', 2009)]\n",
      "class = 17 [('marian', 223), ('pentcho', 128), ('disciple', 96), ('paula', 79), ('prospect', 37), ('alexander', 32), ('across', 31), ('pentchos', 30), ('mother', 28), ('mischa', 27)]\n",
      "class = 18 [('speed', 1142), ('racer', 490), ('remmington', 372), ('sprittle', 286), ('announcer', 200), ('race', 184), ('chim', 176), ('prix', 168), ('grand', 166), ('trixie', 166)]\n",
      "class = 19 [('floor', 5288), ('across', 4927), ('step', 4900), ('wall', 4826), ('foot', 4771), ('star', 4576), ('reach', 4551), ('fuck', 4495), ('sound', 4465), ('inside', 4461)]\n",
      "class = 20 [('paul', 1041), ('soldier', 973), ('epps', 800), ('german', 778), ('miller', 748), ('jaeger', 745), ('harry', 691), ('fire', 685), ('willard', 645), ('schindler', 620)]\n",
      "class = 21 [('wyatt', 855), ('west', 772), ('clay', 716), ('horse', 668), ('rocklin', 666), ('django', 646), ('with', 626), ('macreedy', 529), ('mary', 484), ('gordon', 482)]\n"
     ]
    }
   ],
   "source": [
    "from collections import Counter\n",
    "\n",
    "\n",
    "for i in range(22):\n",
    "    vocab2 = Counter()\n",
    "    for script in train_data[train_data.Labels ==i].post_processed_script:\n",
    "\n",
    "\n",
    "\n",
    "            vocab2.update( script.split())\n",
    "\n",
    "    print(f'class = {i} {vocab2.most_common(10)}')"
   ]
  },
  {
   "cell_type": "code",
   "execution_count": 112,
   "metadata": {},
   "outputs": [],
   "source": [
    "  # creating the voca file:\n",
    "from collections import Counter\n",
    "\n",
    "new_vocab = get_vocab(train_data.post_processed_script)\n",
    "    "
   ]
  },
  {
   "cell_type": "code",
   "execution_count": 113,
   "metadata": {},
   "outputs": [
    {
     "data": {
      "text/plain": [
       "[('woman', 34356),\n",
       " ('across', 33946),\n",
       " ('step', 33778),\n",
       " ('wall', 33724),\n",
       " ('star', 33648),\n",
       " ('would', 33408)]"
      ]
     },
     "execution_count": 113,
     "metadata": {},
     "output_type": "execute_result"
    }
   ],
   "source": [
    "new_vocab.most_common(100)[:6]"
   ]
  },
  {
   "cell_type": "markdown",
   "metadata": {},
   "source": [
    "# Mapper Filter 2"
   ]
  },
  {
   "cell_type": "code",
   "execution_count": 114,
   "metadata": {},
   "outputs": [],
   "source": [
    "\n",
    "\n",
    "custom_list = ['with','whats','shes','onto']\n",
    "\n",
    "def mapper(script):\n",
    "    \n",
    "    new_script = []\n",
    "    for words in script.split():\n",
    "        \n",
    "        if words not in top_100_wordlist and len(words) > 3 and words not in custom_list:\n",
    "            \n",
    "           new_script.append(words)\n",
    "        \n",
    "        \n",
    "    return ' '.join(list(set(new_script))) \n",
    "\n",
    "\n",
    "train_data['post_processed_script'] = train_data['processed_script'].map(mapper)\n"
   ]
  },
  {
   "cell_type": "code",
   "execution_count": 115,
   "metadata": {},
   "outputs": [
    {
     "data": {
      "text/plain": [
       "<matplotlib.axes._subplots.AxesSubplot at 0x19631f8ae48>"
      ]
     },
     "execution_count": 115,
     "metadata": {},
     "output_type": "execute_result"
    },
    {
     "data": {
      "image/png": "[encoded data removed]",
      "text/plain": [
       "<Figure size 432x288 with 1 Axes>"
      ]
     },
     "metadata": {
      "needs_background": "light"
     },
     "output_type": "display_data"
    }
   ],
   "source": [
    "\n",
    "\n",
    "sb.kdeplot(train_data.post_processed_script.map(lambda x : len(x.split())))\n",
    "\n"
   ]
  },
  {
   "cell_type": "markdown",
   "metadata": {},
   "source": [
    "# Test Data"
   ]
  },
  {
   "cell_type": "code",
   "execution_count": 100,
   "metadata": {},
   "outputs": [],
   "source": [
    "  # creating the voca file:\n",
    "from collections import Counter\n",
    "\n",
    "\n",
    "test_vocab = get_vocab(test_data.processed_script)"
   ]
  },
  {
   "cell_type": "code",
   "execution_count": 101,
   "metadata": {},
   "outputs": [
    {
     "name": "stdout",
     "output_type": "stream",
     "text": [
      "90303\n",
      "[('the', 197472), ('look', 99936), ('get', 89179), ('int', 73297), ('back', 71944), ('you', 63482), ('she', 61799), ('one', 56659), ('know', 54992), ('day', 52635), ('like', 52576), ('dont', 50889), ('come', 50613), ('take', 48883), ('go', 47111), ('and', 46471), ('ext', 45895), ('door', 45609), ('night', 45006), ('hand', 44094), ('room', 40777), ('turn', 39664), ('man', 37724), ('what', 34902), ('they', 34368), ('it', 33731), ('think', 33377), ('head', 33188), ('open', 32989), ('say', 32841), ('around', 32408), ('make', 32338), ('right', 31726), ('face', 31428), ('want', 30688), ('well', 30503), ('move', 30272), ('youre', 30083), ('contd', 30027), ('two', 29823), ('car', 29766), ('time', 29740), ('cut', 28465), ('away', 28233), ('stand', 27080), ('he', 26880), ('walk', 26818), ('eye', 26500), ('pull', 25607), ('but', 25109), ('start', 24513), ('thats', 24439), ('close', 24283), ('good', 23437), ('stop', 23358), ('continued', 22997), ('tell', 22915), ('way', 22821), ('watch', 22711), ('try', 22471), ('hold', 22329), ('behind', 21813), ('sit', 21558), ('let', 21495), ('leave', 21207), ('house', 21136), ('run', 21032), ('give', 21024), ('still', 20866), ('something', 20822), ('there', 20735), ('little', 19560), ('cant', 19385), ('smile', 19318), ('light', 19269), ('thing', 18818), ('this', 18565), ('find', 18309), ('another', 18139), ('put', 17711), ('front', 17600), ('voice', 17316), ('hear', 17175), ('jack', 17027), ('old', 16758), ('beat', 16612), ('shot', 16585), ('street', 16377), ('side', 16364), ('call', 16356), ('guy', 16236), ('then', 16206), ('work', 16181), ('wall', 15892), ('toward', 15866), ('talk', 15793), ('star', 15726), ('window', 15696), ('long', 15659), ('phone', 15593)]\n"
     ]
    }
   ],
   "source": [
    "print(len(test_vocab))\n",
    "print(test_vocab.most_common(100))"
   ]
  },
  {
   "cell_type": "code",
   "execution_count": null,
   "metadata": {},
   "outputs": [],
   "source": []
  },
  {
   "cell_type": "code",
   "execution_count": 102,
   "metadata": {},
   "outputs": [],
   "source": [
    "\n",
    "\n",
    "custom_list = ['with','whats','shes','onto']\n",
    "\n",
    "def mapper(script):\n",
    "    \n",
    "    new_script = []\n",
    "    for words in script.split():\n",
    "        \n",
    "        if words not in top_100_wordlist and len(words) > 3 and words not in custom_list:\n",
    "            \n",
    "           new_script.append(words)\n",
    "        \n",
    "        \n",
    "    return ' '.join(list(set(new_script))) \n",
    "\n",
    "\n",
    "test_data['post_processed_script'] = test_data['processed_script'].map(mapper)\n"
   ]
  },
  {
   "cell_type": "code",
   "execution_count": 103,
   "metadata": {},
   "outputs": [
    {
     "data": {
      "text/plain": [
       "<matplotlib.axes._subplots.AxesSubplot at 0x19628485400>"
      ]
     },
     "execution_count": 103,
     "metadata": {},
     "output_type": "execute_result"
    },
    {
     "data": {
      "image/png": "[encoded data removed]",
      "text/plain": [
       "<Figure size 432x288 with 1 Axes>"
      ]
     },
     "metadata": {
      "needs_background": "light"
     },
     "output_type": "display_data"
    }
   ],
   "source": [
    "\n",
    "\n",
    "sb.kdeplot(test_data.post_processed_script.map(lambda x : len(x.split())))\n",
    "\n"
   ]
  },
  {
   "cell_type": "markdown",
   "metadata": {},
   "source": [
    "# final data"
   ]
  },
  {
   "cell_type": "markdown",
   "metadata": {},
   "source": [
    "# Last Test Data Transform"
   ]
  },
  {
   "cell_type": "code",
   "execution_count": 104,
   "metadata": {},
   "outputs": [],
   "source": [
    "  # creating the voca file:\n",
    "from collections import Counter\n",
    "\n",
    "new_test_vocab  = get_vocab(test_data.post_processed_script)"
   ]
  },
  {
   "cell_type": "code",
   "execution_count": 105,
   "metadata": {},
   "outputs": [
    {
     "data": {
      "text/plain": [
       "87360"
      ]
     },
     "execution_count": 105,
     "metadata": {},
     "output_type": "execute_result"
    }
   ],
   "source": [
    "len(new_test_vocab)"
   ]
  },
  {
   "cell_type": "code",
   "execution_count": 132,
   "metadata": {},
   "outputs": [
    {
     "data": {
      "text/plain": [
       "4635"
      ]
     },
     "execution_count": 132,
     "metadata": {},
     "output_type": "execute_result"
    }
   ],
   "source": [
    "\n",
    "\n",
    "final_test_words = set([word for word,counter in new_test_vocab.items() if counter >100])\n",
    "\n",
    "len(final_test_words)"
   ]
  },
  {
   "cell_type": "code",
   "execution_count": 133,
   "metadata": {},
   "outputs": [],
   "source": [
    "\n",
    "\n",
    "def mapper(script):\n",
    "    \n",
    "    new_script = []\n",
    "    for words in script.split():\n",
    "        \n",
    "        if words  in final_test_words:\n",
    "            \n",
    "           new_script.append(words)\n",
    "        \n",
    "        \n",
    "    return ' '.join(list(set(new_script))) \n",
    "\n",
    "\n",
    "test_data['post_processed_script'] = test_data['post_processed_script'].map(mapper)\n"
   ]
  },
  {
   "cell_type": "code",
   "execution_count": 134,
   "metadata": {},
   "outputs": [
    {
     "data": {
      "text/plain": [
       "<matplotlib.axes._subplots.AxesSubplot at 0x19656db7978>"
      ]
     },
     "execution_count": 134,
     "metadata": {},
     "output_type": "execute_result"
    },
    {
     "data": {
      "image/png": "[encoded data removed]",
      "text/plain": [
       "<Figure size 432x288 with 1 Axes>"
      ]
     },
     "metadata": {
      "needs_background": "light"
     },
     "output_type": "display_data"
    }
   ],
   "source": [
    "\n",
    "\n",
    "sb.kdeplot(test_data.post_processed_script.map(lambda x : len(x.split())))\n",
    "\n"
   ]
  },
  {
   "cell_type": "markdown",
   "metadata": {},
   "source": [
    "# Last Train Data Transform"
   ]
  },
  {
   "cell_type": "code",
   "execution_count": 135,
   "metadata": {},
   "outputs": [
    {
     "data": {
      "text/plain": [
       "28033"
      ]
     },
     "execution_count": 135,
     "metadata": {},
     "output_type": "execute_result"
    }
   ],
   "source": [
    "  # creating the voca file:\n",
    "from collections import Counter\n",
    "\n",
    "final_train = get_vocab(train_data.post_processed_script)\n",
    "len(final_train)"
   ]
  },
  {
   "cell_type": "code",
   "execution_count": 136,
   "metadata": {},
   "outputs": [
    {
     "name": "stdout",
     "output_type": "stream",
     "text": [
      "28033\n"
     ]
    },
    {
     "data": {
      "text/plain": [
       "8245"
      ]
     },
     "execution_count": 136,
     "metadata": {},
     "output_type": "execute_result"
    }
   ],
   "source": [
    "print(len(final_train))\n",
    "\n",
    "final_word_list = set([word for word,counter in final_train.items() if counter >100])\n",
    "\n",
    "len(final_word_list)\n"
   ]
  },
  {
   "cell_type": "code",
   "execution_count": 137,
   "metadata": {},
   "outputs": [],
   "source": [
    "\n",
    "\n",
    "def mapper(script):\n",
    "    \n",
    "    new_script = []\n",
    "    for words in script.split():\n",
    "        \n",
    "        if words  in final_word_list:\n",
    "            \n",
    "           new_script.append(words)\n",
    "        \n",
    "        \n",
    "    return ' '.join(list(set(new_script))) \n",
    "\n",
    "\n",
    "train_data['post_processed_script'] = train_data['post_processed_script'].map(mapper)\n"
   ]
  },
  {
   "cell_type": "code",
   "execution_count": 138,
   "metadata": {},
   "outputs": [
    {
     "data": {
      "text/plain": [
       "<matplotlib.axes._subplots.AxesSubplot at 0x19658719400>"
      ]
     },
     "execution_count": 138,
     "metadata": {},
     "output_type": "execute_result"
    },
    {
     "data": {
      "image/png": "[encoded data removed]",
      "text/plain": [
       "<Figure size 432x288 with 1 Axes>"
      ]
     },
     "metadata": {
      "needs_background": "light"
     },
     "output_type": "display_data"
    }
   ],
   "source": [
    "\n",
    "\n",
    "sb.kdeplot(train_data.post_processed_script.map(lambda x : len(x.split())))\n",
    "\n"
   ]
  },
  {
   "cell_type": "code",
   "execution_count": 38,
   "metadata": {},
   "outputs": [],
   "source": [
    "# pk.dump(train_data,open('post_processed_train','wb'))\n",
    "# pk.dump(test_data,open('post_processed_test','wb'))\n"
   ]
  },
  {
   "cell_type": "code",
   "execution_count": 2,
   "metadata": {},
   "outputs": [],
   "source": [
    "train_data  = pk.load(open('post_processed_train','rb'))\n",
    "test_data = pk.load(open('post_processed_test','rb'))"
   ]
  },
  {
   "cell_type": "code",
   "execution_count": null,
   "metadata": {},
   "outputs": [],
   "source": []
  },
  {
   "cell_type": "code",
   "execution_count": 6,
   "metadata": {},
   "outputs": [
    {
     "data": {
      "text/plain": [
       "8245"
      ]
     },
     "execution_count": 6,
     "metadata": {},
     "output_type": "execute_result"
    }
   ],
   "source": [
    "len(get_vocab(train_data.post_processed_script))"
   ]
  },
  {
   "cell_type": "code",
   "execution_count": 7,
   "metadata": {},
   "outputs": [
    {
     "data": {
      "text/plain": [
       "8629"
      ]
     },
     "execution_count": 7,
     "metadata": {},
     "output_type": "execute_result"
    }
   ],
   "source": [
    "len(get_vocab(test_data.post_processed_script))"
   ]
  },
  {
   "cell_type": "markdown",
   "metadata": {},
   "source": [
    "# Using Machine Learning Models\n"
   ]
  },
  {
   "cell_type": "markdown",
   "metadata": {},
   "source": [
    "# Model 1"
   ]
  },
  {
   "cell_type": "markdown",
   "metadata": {},
   "source": [
    "# Log loss without using Local Tokenizers 2.4"
   ]
  },
  {
   "cell_type": "markdown",
   "metadata": {},
   "source": [
    "## Using Global Tokeinzer \n"
   ]
  },
  {
   "cell_type": "code",
   "execution_count": null,
   "metadata": {},
   "outputs": [],
   "source": [
    "'''\n",
    "sublinear_tf=True,\n",
    "    strip_accents='unicode',\n",
    "    analyzer='word',\n",
    "    token_pattern=r'\\w{1,}',\n",
    "    stop_words='english',\n",
    "    ngram_range=(1, 1),\n",
    "    norm='l2',\n",
    "    min_df=0,\n",
    "    smooth_idf=False,\n",
    "'''"
   ]
  },
  {
   "cell_type": "code",
   "execution_count": 139,
   "metadata": {},
   "outputs": [
    {
     "data": {
      "text/plain": [
       "8245"
      ]
     },
     "execution_count": 139,
     "metadata": {},
     "output_type": "execute_result"
    }
   ],
   "source": [
    "len(final_word_list)"
   ]
  },
  {
   "cell_type": "code",
   "execution_count": 8,
   "metadata": {},
   "outputs": [],
   "source": [
    "tf_global = TfidfVectorizer(norm='l2',\n",
    "    min_df=0,\n",
    "    smooth_idf=False,sublinear_tf=True)\n",
    "\n",
    "global_vocab = tf_global.fit(list(train_data['post_processed_script']) + list(test_data.post_processed_script))\n",
    "\n",
    "# global_metrix = tf_global.fit(train_data['post_processed_script'])\n",
    "\n",
    "\n"
   ]
  },
  {
   "cell_type": "code",
   "execution_count": 11,
   "metadata": {},
   "outputs": [
    {
     "data": {
      "text/plain": [
       "8837"
      ]
     },
     "execution_count": 11,
     "metadata": {},
     "output_type": "execute_result"
    }
   ],
   "source": [
    "len(global_vocab.vocabulary_)"
   ]
  },
  {
   "cell_type": "code",
   "execution_count": null,
   "metadata": {},
   "outputs": [],
   "source": []
  },
  {
   "cell_type": "code",
   "execution_count": null,
   "metadata": {},
   "outputs": [],
   "source": []
  },
  {
   "cell_type": "markdown",
   "metadata": {},
   "source": [
    "# Traning entire data (all the classes on one classifier)"
   ]
  },
  {
   "cell_type": "code",
   "execution_count": 9,
   "metadata": {},
   "outputs": [
    {
     "name": "stdout",
     "output_type": "stream",
     "text": [
      "1.8867674589658237\n",
      "2.091899482680295\n"
     ]
    }
   ],
   "source": [
    "x_0 = []\n",
    "y_0 = []\n",
    "for i in range(22):\n",
    "    \n",
    "    if i == 6:\n",
    "         x_0.extend(train_data[train_data.Labels == i]['post_processed_script'][0:203])\n",
    "         y_0.extend(train_data[train_data.Labels == i]['Labels'][0:203])\n",
    "    else:\n",
    "        x_0.extend(train_data[train_data.Labels == i]['post_processed_script'])\n",
    "        y_0.extend(train_data[train_data.Labels == i]['Labels'])\n",
    "\n",
    "\n",
    "\n",
    "from sklearn.svm import SVC\n",
    "\n",
    "\n",
    "\n",
    "from sklearn.feature_extraction.text import TfidfVectorizer,CountVectorizer\n",
    "\n",
    "from sklearn.linear_model import LogisticRegression\n",
    "\n",
    "\n",
    "from sklearn.decomposition import TruncatedSVD\n",
    "\n",
    "\n",
    "from sklearn.preprocessing import LabelEncoder\n",
    "\n",
    "\n",
    "from sklearn.multiclass import OneVsRestClassifier\n",
    "\n",
    "\n",
    "clf_007 =  OneVsRestClassifier(LogisticRegression())\n",
    "\n",
    "\n",
    "clf_001= SVC(C = 10,probability=True,random_state = 3,)\n",
    "\n",
    "\n",
    "\n",
    "\n",
    "lb_1 = LabelEncoder()\n",
    "\n",
    "\n",
    "\n",
    "tf_Mat = tf_global.transform(x_0)\n",
    "\n",
    "# dimensionlaity reduction\n",
    "t_svd_1 = TruncatedSVD(n_components=30,random_state = 3)\n",
    "\n",
    "t_svd_1.fit(tf_Mat)\n",
    "\n",
    "t_Mat = t_svd_1.transform(tf_Mat)\n",
    "\n",
    "\n",
    "\n",
    "#Encoding The output\n",
    "lb_1.fit(y_0)\n",
    "labels = lb_1.transform(y_0)    \n",
    "    \n",
    "X_train, X_test, y_train, y_test = train_test_split(\n",
    "    t_Mat,\n",
    "    labels,\n",
    "    stratify = labels,\n",
    "    test_size=0.3,\n",
    "    shuffle = True,\n",
    "    random_state=3)    \n",
    "    \n",
    "    \n",
    "    \n",
    "    \n",
    "    \n",
    "\n",
    "\n",
    "clf_001.fit(X_train,y_train)\n",
    "\n",
    "\n",
    "# print(accuracy_score(clf_001.predict(X_test),y_test))\n",
    "\n",
    "print(log_loss(y_train,clf_001.predict_proba(X_train)))\n",
    "print(log_loss(y_test,clf_001.predict_proba(X_test)))\n"
   ]
  },
  {
   "cell_type": "markdown",
   "metadata": {},
   "source": [
    "# Stratified "
   ]
  },
  {
   "cell_type": "code",
   "execution_count": null,
   "metadata": {},
   "outputs": [],
   "source": []
  },
  {
   "cell_type": "code",
   "execution_count": 10,
   "metadata": {},
   "outputs": [
    {
     "name": "stdout",
     "output_type": "stream",
     "text": [
      "svm\n",
      "1.8863111543643873\n",
      "1.8863111543643873\n",
      "oneVSRest LR\n",
      "1.7539533552194708\n",
      "1.7539533552194708\n",
      "VotingClassifier\n",
      "1.7873961529885347\n",
      "1.7873961529885347\n",
      "svm\n",
      "1.8937641867600712\n",
      "1.8937641867600712\n",
      "oneVSRest LR\n",
      "1.7612927171600183\n",
      "1.7612927171600183\n",
      "VotingClassifier\n",
      "1.7938782574820833\n",
      "1.7938782574820833\n",
      "svm\n",
      "1.8858035344522146\n",
      "1.8858035344522146\n",
      "oneVSRest LR\n",
      "1.7593475301362327\n",
      "1.7593475301362327\n",
      "VotingClassifier\n",
      "1.7908940137546678\n",
      "1.7908940137546678\n",
      "svm\n",
      "1.9032793304342703\n",
      "1.9032793304342703\n",
      "oneVSRest LR\n",
      "1.7796046215900703\n",
      "1.7796046215900703\n",
      "VotingClassifier\n",
      "1.8101356896717455\n",
      "1.8101356896717455\n",
      "svm\n",
      "1.8842799107919332\n",
      "1.8842799107919332\n",
      "oneVSRest LR\n",
      "1.7623251706748486\n",
      "1.7623251706748486\n",
      "VotingClassifier\n",
      "1.792449312611471\n",
      "1.792449312611471\n"
     ]
    }
   ],
   "source": [
    "from sklearn.model_selection import StratifiedKFold\n",
    "\n",
    "from sklearn.ensemble import VotingClassifier\n",
    "\n",
    "\n",
    "\n",
    "\n",
    "\n",
    "sk = StratifiedKFold(n_splits = 5)\n",
    "\n",
    "clf_007 =  LogisticRegression(C = 100)\n",
    "\n",
    "\n",
    "\n",
    "vc = VotingClassifier([('SVC',clf_001),('Lr',clf_007)],voting = 'soft',weights = [0.4,0.6])\n",
    "\n",
    "\n",
    "for train_index,test_index in sk.split(t_Mat,labels):\n",
    "    \n",
    "    train_x,train_y = t_Mat[train_index],labels[train_index]\n",
    "    test_x,test_y = t_Mat[train_index],labels[train_index]\n",
    "    \n",
    "    \n",
    "        \n",
    "    \n",
    "    print('svm')\n",
    "\n",
    "    clf_001.fit(train_x,train_y)\n",
    "\n",
    "\n",
    "    # print(accuracy_score(clf_001.predict(X_test),y_test))\n",
    "\n",
    "    print(log_loss(train_y,clf_001.predict_proba(train_x)))\n",
    "    print(log_loss(test_y,clf_001.predict_proba(test_x)))\n",
    "\n",
    "   \n",
    "\n",
    "    print('oneVSRest LR')\n",
    "    \n",
    "    clf_007.fit(train_x,train_y)\n",
    "\n",
    "\n",
    "    # print(accuracy_score(clf_001.predict(X_test),y_test))\n",
    "\n",
    "    print(log_loss(train_y,clf_007.predict_proba(train_x)))\n",
    "    print(log_loss(test_y,clf_007.predict_proba(test_x)))\n",
    "\n",
    "\n",
    "    \n",
    "    print('VotingClassifier')\n",
    "    \n",
    "    vc.fit(train_x,train_y)\n",
    "\n",
    "\n",
    "    # print(accuracy_score(clf_001.predict(X_test),y_test))\n",
    "\n",
    "    print(log_loss(train_y,vc.predict_proba(train_x)))\n",
    "    print(log_loss(test_y,vc.predict_proba(test_x)))\n",
    "\n"
   ]
  },
  {
   "cell_type": "code",
   "execution_count": null,
   "metadata": {},
   "outputs": [],
   "source": []
  },
  {
   "cell_type": "markdown",
   "metadata": {},
   "source": [
    "# XGBOOST (from Xgboost)"
   ]
  },
  {
   "cell_type": "code",
   "execution_count": 200,
   "metadata": {
    "collapsed": true
   },
   "outputs": [
    {
     "name": "stdout",
     "output_type": "stream",
     "text": [
      "[0]\tvalid-mlogloss:2.84646\n",
      "Will train until valid-mlogloss hasn't improved in 30 rounds.\n",
      "[1]\tvalid-mlogloss:2.70833\n",
      "[2]\tvalid-mlogloss:2.61241\n",
      "[3]\tvalid-mlogloss:2.55732\n",
      "[4]\tvalid-mlogloss:2.54492\n",
      "[5]\tvalid-mlogloss:2.52556\n",
      "[6]\tvalid-mlogloss:2.51371\n",
      "[7]\tvalid-mlogloss:2.51152\n",
      "[8]\tvalid-mlogloss:2.51807\n",
      "[9]\tvalid-mlogloss:2.53166\n",
      "[10]\tvalid-mlogloss:2.55605\n",
      "[11]\tvalid-mlogloss:2.57626\n",
      "[12]\tvalid-mlogloss:2.60061\n",
      "[13]\tvalid-mlogloss:2.63082\n",
      "[14]\tvalid-mlogloss:2.65748\n",
      "[15]\tvalid-mlogloss:2.68880\n",
      "[16]\tvalid-mlogloss:2.71142\n",
      "[17]\tvalid-mlogloss:2.73971\n",
      "[18]\tvalid-mlogloss:2.77234\n",
      "[19]\tvalid-mlogloss:2.80082\n",
      "[20]\tvalid-mlogloss:2.83589\n",
      "[21]\tvalid-mlogloss:2.85892\n",
      "[22]\tvalid-mlogloss:2.88718\n",
      "[23]\tvalid-mlogloss:2.90847\n",
      "[24]\tvalid-mlogloss:2.94241\n",
      "[25]\tvalid-mlogloss:2.97089\n",
      "[26]\tvalid-mlogloss:2.99938\n",
      "[27]\tvalid-mlogloss:3.02964\n",
      "[28]\tvalid-mlogloss:3.05906\n",
      "[29]\tvalid-mlogloss:3.09202\n",
      "[30]\tvalid-mlogloss:3.12106\n",
      "[31]\tvalid-mlogloss:3.14936\n",
      "[32]\tvalid-mlogloss:3.17930\n",
      "[33]\tvalid-mlogloss:3.20265\n",
      "[34]\tvalid-mlogloss:3.23816\n",
      "[35]\tvalid-mlogloss:3.26141\n",
      "[36]\tvalid-mlogloss:3.28603\n",
      "[37]\tvalid-mlogloss:3.30867\n",
      "Stopping. Best iteration:\n",
      "[7]\tvalid-mlogloss:2.51152\n",
      "\n"
     ]
    }
   ],
   "source": [
    "# import xgboost as xgb\n",
    "# from sklearn.model_selection import cross_val_score\n",
    "# from xgboost.sklearn import XGBClassifier # <3\n",
    "\n",
    "\n",
    "# xgb_params = {'eta': 0.3, \n",
    "#               'max_depth': 5, \n",
    "#               'subsample': 0.8, \n",
    "#               'colsample_bytree': 0.8, \n",
    "#               'objective': 'multi:softmax',\n",
    "#                'num_class':22,\n",
    "#               'eval_metric': 'mlogloss', \n",
    "#               'seed': 23\n",
    "#              }\n",
    "\n",
    "    \n",
    "# X_train, X_valid, y_train, y_valid = train_test_split(\n",
    "#         t_Mat, labels, test_size=0.25, stratify = labels,random_state=23)    \n",
    "    \n",
    "    \n",
    "# d_train = xgb.DMatrix(X_train, y_train)\n",
    "# d_valid = xgb.DMatrix(X_valid, y_valid)\n",
    "\n",
    "# watchlist = [(d_valid, 'valid')]\n",
    "# xgb_model = xgb.train(xgb_params, d_train, 2000, \n",
    "#                   watchlist, verbose_eval=True,\n",
    "#                   early_stopping_rounds=30)\n",
    "\n",
    "# # print(model.attributes()['best_score'])\n",
    "# # print(log_loss(y_train,vc.predict_proba(X_train)))\n",
    "# # print(log_loss(y_test,vc.predict_proba(X_test_)))\n",
    "\n",
    "\n"
   ]
  },
  {
   "cell_type": "code",
   "execution_count": 210,
   "metadata": {},
   "outputs": [
    {
     "data": {
      "text/plain": [
       "0.12134831460674157"
      ]
     },
     "execution_count": 210,
     "metadata": {},
     "output_type": "execute_result"
    }
   ],
   "source": [
    "dtest = xgb.DMatrix(X_valid)\n",
    "\n",
    "accuracy_score(y_valid,xgb_model.predict(dtest))\n",
    "\n"
   ]
  },
  {
   "cell_type": "code",
   "execution_count": null,
   "metadata": {},
   "outputs": [],
   "source": []
  },
  {
   "cell_type": "code",
   "execution_count": 224,
   "metadata": {},
   "outputs": [
    {
     "data": {
      "text/plain": [
       "(1777, 5000)"
      ]
     },
     "execution_count": 224,
     "metadata": {},
     "output_type": "execute_result"
    }
   ],
   "source": []
  },
  {
   "cell_type": "code",
   "execution_count": 19,
   "metadata": {},
   "outputs": [
    {
     "name": "stdout",
     "output_type": "stream",
     "text": [
      "acc 0.5881104033970276\n",
      "0.6506698552368734\n",
      "0.6506698552368734\n",
      "acc 0.5812146892655368\n",
      "0.657921047212862\n",
      "0.657921047212862\n",
      "acc 0.5756509500351865\n",
      "0.6657339699363314\n",
      "0.6657339699363314\n",
      "acc 0.5729312762973352\n",
      "0.6734408421301517\n",
      "0.6734408421301517\n",
      "acc 0.5824022346368715\n",
      "0.6620734449354548\n",
      "0.6620734449354548\n"
     ]
    }
   ],
   "source": [
    "# clf_777 = XGBClassifier(**xgb_params,n_estimators = 1000)\n",
    "from xgboost.sklearn import XGBClassifier\n",
    "\n",
    "xgb_params = {'eta': 0.3, \n",
    "              'max_depth': 5, \n",
    "              'subsample': 0.8, \n",
    "              'colsample_bytree': 0.8, \n",
    "              'objective': 'multi:softmax',\n",
    "               'num_class':22,\n",
    "              'eval_metric': 'mlogloss', \n",
    "              'seed': 23\n",
    "             }\n",
    "clf_777 = XGBClassifier(n_estimators  = 300,**xgb_params)\n",
    "\n",
    "sk = StratifiedKFold(n_splits = 5)\n",
    "\n",
    "t_svd_1 = TruncatedSVD(n_components=19,random_state = 17)\n",
    "\n",
    "t_svd_1.fit(tf_Mat)\n",
    "\n",
    "t_Mat = t_svd_1.transform(tf_Mat)\n",
    "\n",
    "\n",
    "\n",
    "for train_index,test_index in sk.split(t_Mat,labels):\n",
    "    \n",
    "    \n",
    "    train_x,train_y = t_Mat[train_index],labels[train_index]\n",
    "    test_x,test_y = t_Mat[train_index],labels[train_index]\n",
    "    \n",
    "    \n",
    "     \n",
    "    clf_777.fit(train_x,train_y)\n",
    "\n",
    "\n",
    "    print('acc',accuracy_score(clf_777.predict(test_x),test_y))\n",
    "\n",
    "    print(log_loss(train_y,clf_777.predict_proba(train_x)))\n",
    "    print(log_loss(test_y,clf_777.predict_proba(test_x)))\n",
    "\n",
    "\n",
    "    \n",
    "\n"
   ]
  },
  {
   "cell_type": "code",
   "execution_count": 227,
   "metadata": {},
   "outputs": [],
   "source": [
    "# pk.dump(clf_777,open('xgboost_0.65','wb'))"
   ]
  },
  {
   "cell_type": "markdown",
   "metadata": {},
   "source": [
    "# final Model "
   ]
  },
  {
   "cell_type": "code",
   "execution_count": 232,
   "metadata": {
    "collapsed": true
   },
   "outputs": [
    {
     "name": "stdout",
     "output_type": "stream",
     "text": [
      "VotingClassifier\n",
      "[22:16:03] WARNING: C:\\Users\\Administrator\\workspace\\xgboost-win64_release_1.0.0\\src\\learner.cc:328: \n",
      "Parameters: { importance_type, missing, n_estimators } might not be used.\n",
      "\n",
      "  This may not be accurate due to some parameters are only used in language bindings but\n",
      "  passed down to XGBoost core.  Or some parameters are not used but slip through this\n",
      "  verification. Please open an issue if you find above cases.\n",
      "\n",
      "\n",
      "0.7195138200832065\n",
      "0.7195138200832065\n",
      "VotingClassifier\n",
      "[22:16:16] WARNING: C:\\Users\\Administrator\\workspace\\xgboost-win64_release_1.0.0\\src\\learner.cc:328: \n",
      "Parameters: { importance_type, missing, n_estimators } might not be used.\n",
      "\n",
      "  This may not be accurate due to some parameters are only used in language bindings but\n",
      "  passed down to XGBoost core.  Or some parameters are not used but slip through this\n",
      "  verification. Please open an issue if you find above cases.\n",
      "\n",
      "\n",
      "0.726265911917592\n",
      "0.726265911917592\n",
      "VotingClassifier\n",
      "[22:16:25] WARNING: C:\\Users\\Administrator\\workspace\\xgboost-win64_release_1.0.0\\src\\learner.cc:328: \n",
      "Parameters: { importance_type, missing, n_estimators } might not be used.\n",
      "\n",
      "  This may not be accurate due to some parameters are only used in language bindings but\n",
      "  passed down to XGBoost core.  Or some parameters are not used but slip through this\n",
      "  verification. Please open an issue if you find above cases.\n",
      "\n",
      "\n"
     ]
    },
    {
     "ename": "KeyboardInterrupt",
     "evalue": "",
     "output_type": "error",
     "traceback": [
      "\u001b[1;31m---------------------------------------------------------------------------\u001b[0m",
      "\u001b[1;31mKeyboardInterrupt\u001b[0m                         Traceback (most recent call last)",
      "\u001b[1;32m<ipython-input-232-a96257d22735>\u001b[0m in \u001b[0;36m<module>\u001b[1;34m\u001b[0m\n\u001b[0;32m      9\u001b[0m     \u001b[0mprint\u001b[0m\u001b[1;33m(\u001b[0m\u001b[1;34m'VotingClassifier'\u001b[0m\u001b[1;33m)\u001b[0m\u001b[1;33m\u001b[0m\u001b[1;33m\u001b[0m\u001b[0m\n\u001b[0;32m     10\u001b[0m \u001b[1;33m\u001b[0m\u001b[0m\n\u001b[1;32m---> 11\u001b[1;33m     \u001b[0mvc_final\u001b[0m\u001b[1;33m.\u001b[0m\u001b[0mfit\u001b[0m\u001b[1;33m(\u001b[0m\u001b[0mtrain_x\u001b[0m\u001b[1;33m,\u001b[0m\u001b[0mtrain_y\u001b[0m\u001b[1;33m)\u001b[0m\u001b[1;33m\u001b[0m\u001b[1;33m\u001b[0m\u001b[0m\n\u001b[0m\u001b[0;32m     12\u001b[0m \u001b[1;33m\u001b[0m\u001b[0m\n\u001b[0;32m     13\u001b[0m \u001b[1;33m\u001b[0m\u001b[0m\n",
      "\u001b[1;32mc:\\users\\clive\\appdata\\local\\programs\\python\\python37\\lib\\site-packages\\sklearn\\ensemble\\voting.py\u001b[0m in \u001b[0;36mfit\u001b[1;34m(self, X, y, sample_weight)\u001b[0m\n\u001b[0;32m    277\u001b[0m         \u001b[0mtransformed_y\u001b[0m \u001b[1;33m=\u001b[0m \u001b[0mself\u001b[0m\u001b[1;33m.\u001b[0m\u001b[0mle_\u001b[0m\u001b[1;33m.\u001b[0m\u001b[0mtransform\u001b[0m\u001b[1;33m(\u001b[0m\u001b[0my\u001b[0m\u001b[1;33m)\u001b[0m\u001b[1;33m\u001b[0m\u001b[1;33m\u001b[0m\u001b[0m\n\u001b[0;32m    278\u001b[0m \u001b[1;33m\u001b[0m\u001b[0m\n\u001b[1;32m--> 279\u001b[1;33m         \u001b[1;32mreturn\u001b[0m \u001b[0msuper\u001b[0m\u001b[1;33m(\u001b[0m\u001b[1;33m)\u001b[0m\u001b[1;33m.\u001b[0m\u001b[0mfit\u001b[0m\u001b[1;33m(\u001b[0m\u001b[0mX\u001b[0m\u001b[1;33m,\u001b[0m \u001b[0mtransformed_y\u001b[0m\u001b[1;33m,\u001b[0m \u001b[0msample_weight\u001b[0m\u001b[1;33m)\u001b[0m\u001b[1;33m\u001b[0m\u001b[1;33m\u001b[0m\u001b[0m\n\u001b[0m\u001b[0;32m    280\u001b[0m \u001b[1;33m\u001b[0m\u001b[0m\n\u001b[0;32m    281\u001b[0m     \u001b[1;32mdef\u001b[0m \u001b[0mpredict\u001b[0m\u001b[1;33m(\u001b[0m\u001b[0mself\u001b[0m\u001b[1;33m,\u001b[0m \u001b[0mX\u001b[0m\u001b[1;33m)\u001b[0m\u001b[1;33m:\u001b[0m\u001b[1;33m\u001b[0m\u001b[1;33m\u001b[0m\u001b[0m\n",
      "\u001b[1;32mc:\\users\\clive\\appdata\\local\\programs\\python\\python37\\lib\\site-packages\\sklearn\\ensemble\\voting.py\u001b[0m in \u001b[0;36mfit\u001b[1;34m(self, X, y, sample_weight)\u001b[0m\n\u001b[0;32m     99\u001b[0m                 delayed(_parallel_fit_estimator)(clone(clf), X, y,\n\u001b[0;32m    100\u001b[0m                                                  sample_weight=sample_weight)\n\u001b[1;32m--> 101\u001b[1;33m                 \u001b[1;32mfor\u001b[0m \u001b[0mclf\u001b[0m \u001b[1;32min\u001b[0m \u001b[0mclfs\u001b[0m \u001b[1;32mif\u001b[0m \u001b[0mclf\u001b[0m \u001b[1;32mnot\u001b[0m \u001b[1;32min\u001b[0m \u001b[1;33m(\u001b[0m\u001b[1;32mNone\u001b[0m\u001b[1;33m,\u001b[0m \u001b[1;34m'drop'\u001b[0m\u001b[1;33m)\u001b[0m\u001b[1;33m\u001b[0m\u001b[1;33m\u001b[0m\u001b[0m\n\u001b[0m\u001b[0;32m    102\u001b[0m             )\n\u001b[0;32m    103\u001b[0m \u001b[1;33m\u001b[0m\u001b[0m\n",
      "\u001b[1;32mc:\\users\\clive\\appdata\\local\\programs\\python\\python37\\lib\\site-packages\\joblib\\parallel.py\u001b[0m in \u001b[0;36m__call__\u001b[1;34m(self, iterable)\u001b[0m\n\u001b[0;32m    922\u001b[0m                 \u001b[0mself\u001b[0m\u001b[1;33m.\u001b[0m\u001b[0m_iterating\u001b[0m \u001b[1;33m=\u001b[0m \u001b[0mself\u001b[0m\u001b[1;33m.\u001b[0m\u001b[0m_original_iterator\u001b[0m \u001b[1;32mis\u001b[0m \u001b[1;32mnot\u001b[0m \u001b[1;32mNone\u001b[0m\u001b[1;33m\u001b[0m\u001b[1;33m\u001b[0m\u001b[0m\n\u001b[0;32m    923\u001b[0m \u001b[1;33m\u001b[0m\u001b[0m\n\u001b[1;32m--> 924\u001b[1;33m             \u001b[1;32mwhile\u001b[0m \u001b[0mself\u001b[0m\u001b[1;33m.\u001b[0m\u001b[0mdispatch_one_batch\u001b[0m\u001b[1;33m(\u001b[0m\u001b[0miterator\u001b[0m\u001b[1;33m)\u001b[0m\u001b[1;33m:\u001b[0m\u001b[1;33m\u001b[0m\u001b[1;33m\u001b[0m\u001b[0m\n\u001b[0m\u001b[0;32m    925\u001b[0m                 \u001b[1;32mpass\u001b[0m\u001b[1;33m\u001b[0m\u001b[1;33m\u001b[0m\u001b[0m\n\u001b[0;32m    926\u001b[0m \u001b[1;33m\u001b[0m\u001b[0m\n",
      "\u001b[1;32mc:\\users\\clive\\appdata\\local\\programs\\python\\python37\\lib\\site-packages\\joblib\\parallel.py\u001b[0m in \u001b[0;36mdispatch_one_batch\u001b[1;34m(self, iterator)\u001b[0m\n\u001b[0;32m    757\u001b[0m                 \u001b[1;32mreturn\u001b[0m \u001b[1;32mFalse\u001b[0m\u001b[1;33m\u001b[0m\u001b[1;33m\u001b[0m\u001b[0m\n\u001b[0;32m    758\u001b[0m             \u001b[1;32melse\u001b[0m\u001b[1;33m:\u001b[0m\u001b[1;33m\u001b[0m\u001b[1;33m\u001b[0m\u001b[0m\n\u001b[1;32m--> 759\u001b[1;33m                 \u001b[0mself\u001b[0m\u001b[1;33m.\u001b[0m\u001b[0m_dispatch\u001b[0m\u001b[1;33m(\u001b[0m\u001b[0mtasks\u001b[0m\u001b[1;33m)\u001b[0m\u001b[1;33m\u001b[0m\u001b[1;33m\u001b[0m\u001b[0m\n\u001b[0m\u001b[0;32m    760\u001b[0m                 \u001b[1;32mreturn\u001b[0m \u001b[1;32mTrue\u001b[0m\u001b[1;33m\u001b[0m\u001b[1;33m\u001b[0m\u001b[0m\n\u001b[0;32m    761\u001b[0m \u001b[1;33m\u001b[0m\u001b[0m\n",
      "\u001b[1;32mc:\\users\\clive\\appdata\\local\\programs\\python\\python37\\lib\\site-packages\\joblib\\parallel.py\u001b[0m in \u001b[0;36m_dispatch\u001b[1;34m(self, batch)\u001b[0m\n\u001b[0;32m    714\u001b[0m         \u001b[1;32mwith\u001b[0m \u001b[0mself\u001b[0m\u001b[1;33m.\u001b[0m\u001b[0m_lock\u001b[0m\u001b[1;33m:\u001b[0m\u001b[1;33m\u001b[0m\u001b[1;33m\u001b[0m\u001b[0m\n\u001b[0;32m    715\u001b[0m             \u001b[0mjob_idx\u001b[0m \u001b[1;33m=\u001b[0m \u001b[0mlen\u001b[0m\u001b[1;33m(\u001b[0m\u001b[0mself\u001b[0m\u001b[1;33m.\u001b[0m\u001b[0m_jobs\u001b[0m\u001b[1;33m)\u001b[0m\u001b[1;33m\u001b[0m\u001b[1;33m\u001b[0m\u001b[0m\n\u001b[1;32m--> 716\u001b[1;33m             \u001b[0mjob\u001b[0m \u001b[1;33m=\u001b[0m \u001b[0mself\u001b[0m\u001b[1;33m.\u001b[0m\u001b[0m_backend\u001b[0m\u001b[1;33m.\u001b[0m\u001b[0mapply_async\u001b[0m\u001b[1;33m(\u001b[0m\u001b[0mbatch\u001b[0m\u001b[1;33m,\u001b[0m \u001b[0mcallback\u001b[0m\u001b[1;33m=\u001b[0m\u001b[0mcb\u001b[0m\u001b[1;33m)\u001b[0m\u001b[1;33m\u001b[0m\u001b[1;33m\u001b[0m\u001b[0m\n\u001b[0m\u001b[0;32m    717\u001b[0m             \u001b[1;31m# A job can complete so quickly than its callback is\u001b[0m\u001b[1;33m\u001b[0m\u001b[1;33m\u001b[0m\u001b[1;33m\u001b[0m\u001b[0m\n\u001b[0;32m    718\u001b[0m             \u001b[1;31m# called before we get here, causing self._jobs to\u001b[0m\u001b[1;33m\u001b[0m\u001b[1;33m\u001b[0m\u001b[1;33m\u001b[0m\u001b[0m\n",
      "\u001b[1;32mc:\\users\\clive\\appdata\\local\\programs\\python\\python37\\lib\\site-packages\\joblib\\_parallel_backends.py\u001b[0m in \u001b[0;36mapply_async\u001b[1;34m(self, func, callback)\u001b[0m\n\u001b[0;32m    180\u001b[0m     \u001b[1;32mdef\u001b[0m \u001b[0mapply_async\u001b[0m\u001b[1;33m(\u001b[0m\u001b[0mself\u001b[0m\u001b[1;33m,\u001b[0m \u001b[0mfunc\u001b[0m\u001b[1;33m,\u001b[0m \u001b[0mcallback\u001b[0m\u001b[1;33m=\u001b[0m\u001b[1;32mNone\u001b[0m\u001b[1;33m)\u001b[0m\u001b[1;33m:\u001b[0m\u001b[1;33m\u001b[0m\u001b[1;33m\u001b[0m\u001b[0m\n\u001b[0;32m    181\u001b[0m         \u001b[1;34m\"\"\"Schedule a func to be run\"\"\"\u001b[0m\u001b[1;33m\u001b[0m\u001b[1;33m\u001b[0m\u001b[0m\n\u001b[1;32m--> 182\u001b[1;33m         \u001b[0mresult\u001b[0m \u001b[1;33m=\u001b[0m \u001b[0mImmediateResult\u001b[0m\u001b[1;33m(\u001b[0m\u001b[0mfunc\u001b[0m\u001b[1;33m)\u001b[0m\u001b[1;33m\u001b[0m\u001b[1;33m\u001b[0m\u001b[0m\n\u001b[0m\u001b[0;32m    183\u001b[0m         \u001b[1;32mif\u001b[0m \u001b[0mcallback\u001b[0m\u001b[1;33m:\u001b[0m\u001b[1;33m\u001b[0m\u001b[1;33m\u001b[0m\u001b[0m\n\u001b[0;32m    184\u001b[0m             \u001b[0mcallback\u001b[0m\u001b[1;33m(\u001b[0m\u001b[0mresult\u001b[0m\u001b[1;33m)\u001b[0m\u001b[1;33m\u001b[0m\u001b[1;33m\u001b[0m\u001b[0m\n",
      "\u001b[1;32mc:\\users\\clive\\appdata\\local\\programs\\python\\python37\\lib\\site-packages\\joblib\\_parallel_backends.py\u001b[0m in \u001b[0;36m__init__\u001b[1;34m(self, batch)\u001b[0m\n\u001b[0;32m    547\u001b[0m         \u001b[1;31m# Don't delay the application, to avoid keeping the input\u001b[0m\u001b[1;33m\u001b[0m\u001b[1;33m\u001b[0m\u001b[1;33m\u001b[0m\u001b[0m\n\u001b[0;32m    548\u001b[0m         \u001b[1;31m# arguments in memory\u001b[0m\u001b[1;33m\u001b[0m\u001b[1;33m\u001b[0m\u001b[1;33m\u001b[0m\u001b[0m\n\u001b[1;32m--> 549\u001b[1;33m         \u001b[0mself\u001b[0m\u001b[1;33m.\u001b[0m\u001b[0mresults\u001b[0m \u001b[1;33m=\u001b[0m \u001b[0mbatch\u001b[0m\u001b[1;33m(\u001b[0m\u001b[1;33m)\u001b[0m\u001b[1;33m\u001b[0m\u001b[1;33m\u001b[0m\u001b[0m\n\u001b[0m\u001b[0;32m    550\u001b[0m \u001b[1;33m\u001b[0m\u001b[0m\n\u001b[0;32m    551\u001b[0m     \u001b[1;32mdef\u001b[0m \u001b[0mget\u001b[0m\u001b[1;33m(\u001b[0m\u001b[0mself\u001b[0m\u001b[1;33m)\u001b[0m\u001b[1;33m:\u001b[0m\u001b[1;33m\u001b[0m\u001b[1;33m\u001b[0m\u001b[0m\n",
      "\u001b[1;32mc:\\users\\clive\\appdata\\local\\programs\\python\\python37\\lib\\site-packages\\joblib\\parallel.py\u001b[0m in \u001b[0;36m__call__\u001b[1;34m(self)\u001b[0m\n\u001b[0;32m    223\u001b[0m         \u001b[1;32mwith\u001b[0m \u001b[0mparallel_backend\u001b[0m\u001b[1;33m(\u001b[0m\u001b[0mself\u001b[0m\u001b[1;33m.\u001b[0m\u001b[0m_backend\u001b[0m\u001b[1;33m,\u001b[0m \u001b[0mn_jobs\u001b[0m\u001b[1;33m=\u001b[0m\u001b[0mself\u001b[0m\u001b[1;33m.\u001b[0m\u001b[0m_n_jobs\u001b[0m\u001b[1;33m)\u001b[0m\u001b[1;33m:\u001b[0m\u001b[1;33m\u001b[0m\u001b[1;33m\u001b[0m\u001b[0m\n\u001b[0;32m    224\u001b[0m             return [func(*args, **kwargs)\n\u001b[1;32m--> 225\u001b[1;33m                     for func, args, kwargs in self.items]\n\u001b[0m\u001b[0;32m    226\u001b[0m \u001b[1;33m\u001b[0m\u001b[0m\n\u001b[0;32m    227\u001b[0m     \u001b[1;32mdef\u001b[0m \u001b[0m__len__\u001b[0m\u001b[1;33m(\u001b[0m\u001b[0mself\u001b[0m\u001b[1;33m)\u001b[0m\u001b[1;33m:\u001b[0m\u001b[1;33m\u001b[0m\u001b[1;33m\u001b[0m\u001b[0m\n",
      "\u001b[1;32mc:\\users\\clive\\appdata\\local\\programs\\python\\python37\\lib\\site-packages\\joblib\\parallel.py\u001b[0m in \u001b[0;36m<listcomp>\u001b[1;34m(.0)\u001b[0m\n\u001b[0;32m    223\u001b[0m         \u001b[1;32mwith\u001b[0m \u001b[0mparallel_backend\u001b[0m\u001b[1;33m(\u001b[0m\u001b[0mself\u001b[0m\u001b[1;33m.\u001b[0m\u001b[0m_backend\u001b[0m\u001b[1;33m,\u001b[0m \u001b[0mn_jobs\u001b[0m\u001b[1;33m=\u001b[0m\u001b[0mself\u001b[0m\u001b[1;33m.\u001b[0m\u001b[0m_n_jobs\u001b[0m\u001b[1;33m)\u001b[0m\u001b[1;33m:\u001b[0m\u001b[1;33m\u001b[0m\u001b[1;33m\u001b[0m\u001b[0m\n\u001b[0;32m    224\u001b[0m             return [func(*args, **kwargs)\n\u001b[1;32m--> 225\u001b[1;33m                     for func, args, kwargs in self.items]\n\u001b[0m\u001b[0;32m    226\u001b[0m \u001b[1;33m\u001b[0m\u001b[0m\n\u001b[0;32m    227\u001b[0m     \u001b[1;32mdef\u001b[0m \u001b[0m__len__\u001b[0m\u001b[1;33m(\u001b[0m\u001b[0mself\u001b[0m\u001b[1;33m)\u001b[0m\u001b[1;33m:\u001b[0m\u001b[1;33m\u001b[0m\u001b[1;33m\u001b[0m\u001b[0m\n",
      "\u001b[1;32mc:\\users\\clive\\appdata\\local\\programs\\python\\python37\\lib\\site-packages\\sklearn\\ensemble\\voting.py\u001b[0m in \u001b[0;36m_parallel_fit_estimator\u001b[1;34m(estimator, X, y, sample_weight)\u001b[0m\n\u001b[0;32m     41\u001b[0m             \u001b[1;32mraise\u001b[0m\u001b[1;33m\u001b[0m\u001b[1;33m\u001b[0m\u001b[0m\n\u001b[0;32m     42\u001b[0m     \u001b[1;32melse\u001b[0m\u001b[1;33m:\u001b[0m\u001b[1;33m\u001b[0m\u001b[1;33m\u001b[0m\u001b[0m\n\u001b[1;32m---> 43\u001b[1;33m         \u001b[0mestimator\u001b[0m\u001b[1;33m.\u001b[0m\u001b[0mfit\u001b[0m\u001b[1;33m(\u001b[0m\u001b[0mX\u001b[0m\u001b[1;33m,\u001b[0m \u001b[0my\u001b[0m\u001b[1;33m)\u001b[0m\u001b[1;33m\u001b[0m\u001b[1;33m\u001b[0m\u001b[0m\n\u001b[0m\u001b[0;32m     44\u001b[0m     \u001b[1;32mreturn\u001b[0m \u001b[0mestimator\u001b[0m\u001b[1;33m\u001b[0m\u001b[1;33m\u001b[0m\u001b[0m\n\u001b[0;32m     45\u001b[0m \u001b[1;33m\u001b[0m\u001b[0m\n",
      "\u001b[1;32mc:\\users\\clive\\appdata\\local\\programs\\python\\python37\\lib\\site-packages\\xgboost\\sklearn.py\u001b[0m in \u001b[0;36mfit\u001b[1;34m(self, X, y, sample_weight, base_margin, eval_set, eval_metric, early_stopping_rounds, verbose, xgb_model, sample_weight_eval_set, callbacks)\u001b[0m\n\u001b[0;32m    821\u001b[0m                               \u001b[0mevals_result\u001b[0m\u001b[1;33m=\u001b[0m\u001b[0mevals_result\u001b[0m\u001b[1;33m,\u001b[0m \u001b[0mobj\u001b[0m\u001b[1;33m=\u001b[0m\u001b[0mobj\u001b[0m\u001b[1;33m,\u001b[0m \u001b[0mfeval\u001b[0m\u001b[1;33m=\u001b[0m\u001b[0mfeval\u001b[0m\u001b[1;33m,\u001b[0m\u001b[1;33m\u001b[0m\u001b[1;33m\u001b[0m\u001b[0m\n\u001b[0;32m    822\u001b[0m                               \u001b[0mverbose_eval\u001b[0m\u001b[1;33m=\u001b[0m\u001b[0mverbose\u001b[0m\u001b[1;33m,\u001b[0m \u001b[0mxgb_model\u001b[0m\u001b[1;33m=\u001b[0m\u001b[0mxgb_model\u001b[0m\u001b[1;33m,\u001b[0m\u001b[1;33m\u001b[0m\u001b[1;33m\u001b[0m\u001b[0m\n\u001b[1;32m--> 823\u001b[1;33m                               callbacks=callbacks)\n\u001b[0m\u001b[0;32m    824\u001b[0m \u001b[1;33m\u001b[0m\u001b[0m\n\u001b[0;32m    825\u001b[0m         \u001b[0mself\u001b[0m\u001b[1;33m.\u001b[0m\u001b[0mobjective\u001b[0m \u001b[1;33m=\u001b[0m \u001b[0mxgb_options\u001b[0m\u001b[1;33m[\u001b[0m\u001b[1;34m\"objective\"\u001b[0m\u001b[1;33m]\u001b[0m\u001b[1;33m\u001b[0m\u001b[1;33m\u001b[0m\u001b[0m\n",
      "\u001b[1;32mc:\\users\\clive\\appdata\\local\\programs\\python\\python37\\lib\\site-packages\\xgboost\\training.py\u001b[0m in \u001b[0;36mtrain\u001b[1;34m(params, dtrain, num_boost_round, evals, obj, feval, maximize, early_stopping_rounds, evals_result, verbose_eval, xgb_model, callbacks)\u001b[0m\n\u001b[0;32m    207\u001b[0m                            \u001b[0mevals\u001b[0m\u001b[1;33m=\u001b[0m\u001b[0mevals\u001b[0m\u001b[1;33m,\u001b[0m\u001b[1;33m\u001b[0m\u001b[1;33m\u001b[0m\u001b[0m\n\u001b[0;32m    208\u001b[0m                            \u001b[0mobj\u001b[0m\u001b[1;33m=\u001b[0m\u001b[0mobj\u001b[0m\u001b[1;33m,\u001b[0m \u001b[0mfeval\u001b[0m\u001b[1;33m=\u001b[0m\u001b[0mfeval\u001b[0m\u001b[1;33m,\u001b[0m\u001b[1;33m\u001b[0m\u001b[1;33m\u001b[0m\u001b[0m\n\u001b[1;32m--> 209\u001b[1;33m                            xgb_model=xgb_model, callbacks=callbacks)\n\u001b[0m\u001b[0;32m    210\u001b[0m \u001b[1;33m\u001b[0m\u001b[0m\n\u001b[0;32m    211\u001b[0m \u001b[1;33m\u001b[0m\u001b[0m\n",
      "\u001b[1;32mc:\\users\\clive\\appdata\\local\\programs\\python\\python37\\lib\\site-packages\\xgboost\\training.py\u001b[0m in \u001b[0;36m_train_internal\u001b[1;34m(params, dtrain, num_boost_round, evals, obj, feval, xgb_model, callbacks)\u001b[0m\n\u001b[0;32m     72\u001b[0m         \u001b[1;31m# Skip the first update if it is a recovery step.\u001b[0m\u001b[1;33m\u001b[0m\u001b[1;33m\u001b[0m\u001b[1;33m\u001b[0m\u001b[0m\n\u001b[0;32m     73\u001b[0m         \u001b[1;32mif\u001b[0m \u001b[0mversion\u001b[0m \u001b[1;33m%\u001b[0m \u001b[1;36m2\u001b[0m \u001b[1;33m==\u001b[0m \u001b[1;36m0\u001b[0m\u001b[1;33m:\u001b[0m\u001b[1;33m\u001b[0m\u001b[1;33m\u001b[0m\u001b[0m\n\u001b[1;32m---> 74\u001b[1;33m             \u001b[0mbst\u001b[0m\u001b[1;33m.\u001b[0m\u001b[0mupdate\u001b[0m\u001b[1;33m(\u001b[0m\u001b[0mdtrain\u001b[0m\u001b[1;33m,\u001b[0m \u001b[0mi\u001b[0m\u001b[1;33m,\u001b[0m \u001b[0mobj\u001b[0m\u001b[1;33m)\u001b[0m\u001b[1;33m\u001b[0m\u001b[1;33m\u001b[0m\u001b[0m\n\u001b[0m\u001b[0;32m     75\u001b[0m             \u001b[0mbst\u001b[0m\u001b[1;33m.\u001b[0m\u001b[0msave_rabit_checkpoint\u001b[0m\u001b[1;33m(\u001b[0m\u001b[1;33m)\u001b[0m\u001b[1;33m\u001b[0m\u001b[1;33m\u001b[0m\u001b[0m\n\u001b[0;32m     76\u001b[0m             \u001b[0mversion\u001b[0m \u001b[1;33m+=\u001b[0m \u001b[1;36m1\u001b[0m\u001b[1;33m\u001b[0m\u001b[1;33m\u001b[0m\u001b[0m\n",
      "\u001b[1;32mc:\\users\\clive\\appdata\\local\\programs\\python\\python37\\lib\\site-packages\\xgboost\\core.py\u001b[0m in \u001b[0;36mupdate\u001b[1;34m(self, dtrain, iteration, fobj)\u001b[0m\n\u001b[0;32m   1247\u001b[0m             _check_call(_LIB.XGBoosterUpdateOneIter(self.handle,\n\u001b[0;32m   1248\u001b[0m                                                     \u001b[0mctypes\u001b[0m\u001b[1;33m.\u001b[0m\u001b[0mc_int\u001b[0m\u001b[1;33m(\u001b[0m\u001b[0miteration\u001b[0m\u001b[1;33m)\u001b[0m\u001b[1;33m,\u001b[0m\u001b[1;33m\u001b[0m\u001b[1;33m\u001b[0m\u001b[0m\n\u001b[1;32m-> 1249\u001b[1;33m                                                     dtrain.handle))\n\u001b[0m\u001b[0;32m   1250\u001b[0m         \u001b[1;32melse\u001b[0m\u001b[1;33m:\u001b[0m\u001b[1;33m\u001b[0m\u001b[1;33m\u001b[0m\u001b[0m\n\u001b[0;32m   1251\u001b[0m             \u001b[0mpred\u001b[0m \u001b[1;33m=\u001b[0m \u001b[0mself\u001b[0m\u001b[1;33m.\u001b[0m\u001b[0mpredict\u001b[0m\u001b[1;33m(\u001b[0m\u001b[0mdtrain\u001b[0m\u001b[1;33m,\u001b[0m \u001b[0mtraining\u001b[0m\u001b[1;33m=\u001b[0m\u001b[1;32mTrue\u001b[0m\u001b[1;33m)\u001b[0m\u001b[1;33m\u001b[0m\u001b[1;33m\u001b[0m\u001b[0m\n",
      "\u001b[1;31mKeyboardInterrupt\u001b[0m: "
     ]
    }
   ],
   "source": [
    "\n",
    "vc_final = VotingClassifier([('SVC',clf_001),('Lr',clf_007),('xgboost',clf_777)],voting = 'soft',weights = [0.05,0.05,0.9])\n",
    "\n",
    "\n",
    "for train_index,test_index in sk.split(t_Mat,labels):\n",
    "    \n",
    "    train_x,train_y = t_Mat[train_index],labels[train_index]\n",
    "    test_x,test_y = t_Mat[train_index],labels[train_index]\n",
    "    \n",
    "    print('VotingClassifier')\n",
    "    \n",
    "    vc_final.fit(train_x,train_y)\n",
    "\n",
    "\n",
    "    # print(accuracy_score(clf_001.predict(X_test),y_test))\n",
    "\n",
    "    print(log_loss(train_y,vc_final.predict_proba(train_x)))\n",
    "    print(log_loss(test_y,vc_final.predict_proba(test_x)))\n",
    "\n",
    "\n"
   ]
  },
  {
   "cell_type": "markdown",
   "metadata": {},
   "source": [
    "# todo tomorow :\n",
    "## 1 Remove the words form test data which are not present in train and reduce the size\n",
    "## 2 Make 3 predictions 1 VoterClassider ,2 Xgboost (single) , 3 (with xgboost)\n",
    "\n",
    "\n",
    "## maybe try the ensembly approach with the xgboost "
   ]
  },
  {
   "cell_type": "markdown",
   "metadata": {},
   "source": [
    "# Testing Phase"
   ]
  },
  {
   "cell_type": "code",
   "execution_count": 11,
   "metadata": {},
   "outputs": [
    {
     "name": "stdout",
     "output_type": "stream",
     "text": [
      "8837\n"
     ]
    }
   ],
   "source": [
    "to_keep_vocab = global_vocab.vocabulary_\n",
    "print(len(to_keep_vocab))"
   ]
  },
  {
   "cell_type": "code",
   "execution_count": 12,
   "metadata": {},
   "outputs": [
    {
     "data": {
      "text/plain": [
       "8629"
      ]
     },
     "execution_count": 12,
     "metadata": {},
     "output_type": "execute_result"
    }
   ],
   "source": [
    "len(get_vocab(test_data.post_processed_script))"
   ]
  },
  {
   "cell_type": "code",
   "execution_count": 20,
   "metadata": {},
   "outputs": [
    {
     "name": "stdout",
     "output_type": "stream",
     "text": [
      "(849, 8837)\n",
      "(849, 19)\n"
     ]
    }
   ],
   "source": [
    "# Test\n",
    "\n",
    "X_test = test_data.post_processed_script\n",
    "\n",
    "X_mat = global_vocab.transform(X_test)\n",
    "\n",
    "\n",
    "print(X_mat.shape)\n",
    "\n",
    "X_trunc_metrix = t_svd_1.transform(X_mat)\n",
    "\n",
    "print(X_trunc_metrix.shape)\n",
    "\n",
    "\n",
    "\n"
   ]
  },
  {
   "cell_type": "code",
   "execution_count": 21,
   "metadata": {},
   "outputs": [],
   "source": [
    "last_hope = clf_777.predict_proba(X_trunc_metrix)"
   ]
  },
  {
   "cell_type": "code",
   "execution_count": 16,
   "metadata": {},
   "outputs": [
    {
     "data": {
      "text/plain": [
       "(849, 22)"
      ]
     },
     "execution_count": 16,
     "metadata": {},
     "output_type": "execute_result"
    }
   ],
   "source": [
    "last_hope.shape"
   ]
  },
  {
   "cell_type": "code",
   "execution_count": 18,
   "metadata": {},
   "outputs": [
    {
     "data": {
      "text/html": [
       "<div>\n",
       "<style scoped>\n",
       "    .dataframe tbody tr th:only-of-type {\n",
       "        vertical-align: middle;\n",
       "    }\n",
       "\n",
       "    .dataframe tbody tr th {\n",
       "        vertical-align: top;\n",
       "    }\n",
       "\n",
       "    .dataframe thead th {\n",
       "        text-align: right;\n",
       "    }\n",
       "</style>\n",
       "<table border=\"1\" class=\"dataframe\">\n",
       "  <thead>\n",
       "    <tr style=\"text-align: right;\">\n",
       "      <th></th>\n",
       "      <th>File_Name</th>\n",
       "      <th>0</th>\n",
       "      <th>1</th>\n",
       "      <th>2</th>\n",
       "      <th>3</th>\n",
       "      <th>4</th>\n",
       "      <th>5</th>\n",
       "      <th>6</th>\n",
       "      <th>7</th>\n",
       "      <th>8</th>\n",
       "      <th>...</th>\n",
       "      <th>12</th>\n",
       "      <th>13</th>\n",
       "      <th>14</th>\n",
       "      <th>15</th>\n",
       "      <th>16</th>\n",
       "      <th>17</th>\n",
       "      <th>18</th>\n",
       "      <th>19</th>\n",
       "      <th>20</th>\n",
       "      <th>21</th>\n",
       "    </tr>\n",
       "  </thead>\n",
       "  <tbody>\n",
       "    <tr>\n",
       "      <th>0</th>\n",
       "      <td>file_2300.txt</td>\n",
       "      <td>0.0203746</td>\n",
       "      <td>0.256807</td>\n",
       "      <td>0.00192161</td>\n",
       "      <td>0.00271132</td>\n",
       "      <td>0.0134854</td>\n",
       "      <td>0.00103042</td>\n",
       "      <td>0.00724338</td>\n",
       "      <td>0.00202243</td>\n",
       "      <td>0.00886163</td>\n",
       "      <td>...</td>\n",
       "      <td>0.00468113</td>\n",
       "      <td>0.0183494</td>\n",
       "      <td>0.0105041</td>\n",
       "      <td>0.274478</td>\n",
       "      <td>0.000894042</td>\n",
       "      <td>0.107195</td>\n",
       "      <td>0.000909632</td>\n",
       "      <td>0.034422</td>\n",
       "      <td>0.160558</td>\n",
       "      <td>0.0141483</td>\n",
       "    </tr>\n",
       "    <tr>\n",
       "      <th>1</th>\n",
       "      <td>file_809.txt</td>\n",
       "      <td>0.0265346</td>\n",
       "      <td>0.115094</td>\n",
       "      <td>0.00112803</td>\n",
       "      <td>0.00601444</td>\n",
       "      <td>0.0195629</td>\n",
       "      <td>0.000644091</td>\n",
       "      <td>0.0102281</td>\n",
       "      <td>0.00383926</td>\n",
       "      <td>0.0101895</td>\n",
       "      <td>...</td>\n",
       "      <td>0.000963731</td>\n",
       "      <td>0.00792053</td>\n",
       "      <td>0.0173301</td>\n",
       "      <td>0.526997</td>\n",
       "      <td>0.00164413</td>\n",
       "      <td>0.0231886</td>\n",
       "      <td>0.000470582</td>\n",
       "      <td>0.0404494</td>\n",
       "      <td>0.172802</td>\n",
       "      <td>0.00890454</td>\n",
       "    </tr>\n",
       "    <tr>\n",
       "      <th>2</th>\n",
       "      <td>file_1383.txt</td>\n",
       "      <td>0.059028</td>\n",
       "      <td>0.0702869</td>\n",
       "      <td>0.00239485</td>\n",
       "      <td>0.00288999</td>\n",
       "      <td>0.168255</td>\n",
       "      <td>0.000793414</td>\n",
       "      <td>0.00361499</td>\n",
       "      <td>0.00186513</td>\n",
       "      <td>0.085961</td>\n",
       "      <td>...</td>\n",
       "      <td>0.00135496</td>\n",
       "      <td>0.0192882</td>\n",
       "      <td>0.00780037</td>\n",
       "      <td>0.0280926</td>\n",
       "      <td>0.00192657</td>\n",
       "      <td>0.132114</td>\n",
       "      <td>0.00111556</td>\n",
       "      <td>0.00325115</td>\n",
       "      <td>0.0322461</td>\n",
       "      <td>0.335363</td>\n",
       "    </tr>\n",
       "    <tr>\n",
       "      <th>3</th>\n",
       "      <td>file_983.txt</td>\n",
       "      <td>0.0228592</td>\n",
       "      <td>0.259413</td>\n",
       "      <td>0.00163687</td>\n",
       "      <td>0.00572888</td>\n",
       "      <td>0.0155225</td>\n",
       "      <td>0.00543341</td>\n",
       "      <td>0.00557773</td>\n",
       "      <td>0.0044616</td>\n",
       "      <td>0.0211099</td>\n",
       "      <td>...</td>\n",
       "      <td>0.0387234</td>\n",
       "      <td>0.0247196</td>\n",
       "      <td>0.0125988</td>\n",
       "      <td>0.200335</td>\n",
       "      <td>0.00113335</td>\n",
       "      <td>0.154933</td>\n",
       "      <td>0.00106765</td>\n",
       "      <td>0.0883508</td>\n",
       "      <td>0.0833734</td>\n",
       "      <td>0.0147211</td>\n",
       "    </tr>\n",
       "    <tr>\n",
       "      <th>4</th>\n",
       "      <td>file_1713.txt</td>\n",
       "      <td>0.0525641</td>\n",
       "      <td>0.0489496</td>\n",
       "      <td>0.00121302</td>\n",
       "      <td>0.0134173</td>\n",
       "      <td>0.200672</td>\n",
       "      <td>0.00125134</td>\n",
       "      <td>0.0221602</td>\n",
       "      <td>0.00326262</td>\n",
       "      <td>0.311965</td>\n",
       "      <td>...</td>\n",
       "      <td>0.00223729</td>\n",
       "      <td>0.070502</td>\n",
       "      <td>0.00943287</td>\n",
       "      <td>0.0305178</td>\n",
       "      <td>0.00337222</td>\n",
       "      <td>0.0526848</td>\n",
       "      <td>0.00478729</td>\n",
       "      <td>0.0160717</td>\n",
       "      <td>0.012502</td>\n",
       "      <td>0.0443438</td>\n",
       "    </tr>\n",
       "  </tbody>\n",
       "</table>\n",
       "<p>5 rows × 23 columns</p>\n",
       "</div>"
      ],
      "text/plain": [
       "       File_Name          0          1           2           3          4  \\\n",
       "0  file_2300.txt  0.0203746   0.256807  0.00192161  0.00271132  0.0134854   \n",
       "1   file_809.txt  0.0265346   0.115094  0.00112803  0.00601444  0.0195629   \n",
       "2  file_1383.txt   0.059028  0.0702869  0.00239485  0.00288999   0.168255   \n",
       "3   file_983.txt  0.0228592   0.259413  0.00163687  0.00572888  0.0155225   \n",
       "4  file_1713.txt  0.0525641  0.0489496  0.00121302   0.0134173   0.200672   \n",
       "\n",
       "             5           6           7           8  ...           12  \\\n",
       "0   0.00103042  0.00724338  0.00202243  0.00886163  ...   0.00468113   \n",
       "1  0.000644091   0.0102281  0.00383926   0.0101895  ...  0.000963731   \n",
       "2  0.000793414  0.00361499  0.00186513    0.085961  ...   0.00135496   \n",
       "3   0.00543341  0.00557773   0.0044616   0.0211099  ...    0.0387234   \n",
       "4   0.00125134   0.0221602  0.00326262    0.311965  ...   0.00223729   \n",
       "\n",
       "           13          14         15           16         17           18  \\\n",
       "0   0.0183494   0.0105041   0.274478  0.000894042   0.107195  0.000909632   \n",
       "1  0.00792053   0.0173301   0.526997   0.00164413  0.0231886  0.000470582   \n",
       "2   0.0192882  0.00780037  0.0280926   0.00192657   0.132114   0.00111556   \n",
       "3   0.0247196   0.0125988   0.200335   0.00113335   0.154933   0.00106765   \n",
       "4    0.070502  0.00943287  0.0305178   0.00337222  0.0526848   0.00478729   \n",
       "\n",
       "           19         20          21  \n",
       "0    0.034422   0.160558   0.0141483  \n",
       "1   0.0404494   0.172802  0.00890454  \n",
       "2  0.00325115  0.0322461    0.335363  \n",
       "3   0.0883508  0.0833734   0.0147211  \n",
       "4   0.0160717   0.012502   0.0443438  \n",
       "\n",
       "[5 rows x 23 columns]"
      ]
     },
     "execution_count": 18,
     "metadata": {},
     "output_type": "execute_result"
    }
   ],
   "source": [
    "test_set_preds = pd.DataFrame(columns = train_data.Labels.unique().tolist())\n",
    "test_set_preds.insert(0, 'File_Name', test_data.File_Name)\n",
    "test_set_preds.iloc[:,1:] = last_hope\n",
    "#Reorder the columns to match the Sample_submission_file\n",
    "test_set_preds = test_set_preds[['File_Name',0,1,2,3,4,5,6,7,8,9,10,11,12,13,14,15,16,17,18,19,20,21]]\n",
    "#Write your submissions to an excel file\n",
    "test_set_preds.to_excel('xgboost_0.67.xlsx', index=False)\n",
    "test_set_preds.head()"
   ]
  },
  {
   "cell_type": "code",
   "execution_count": 110,
   "metadata": {},
   "outputs": [
    {
     "data": {
      "text/plain": [
       "array([0.03072764683426654, 0.3301728750926622, 0.003534215424455707,\n",
       "       0.009383974257669896, 0.030960649041224326, 0.004085185928148056,\n",
       "       0.013001092050785142, 0.004681667875966317, 0.038708245765577604,\n",
       "       0.009360098833853173, 0.00350888281929223, 0.05425227517822947,\n",
       "       0.0035468558312326637, 0.03290232221842, 0.014953211564776909,\n",
       "       0.1509801529656939, 0.0035394544662308634, 0.0936290808486004,\n",
       "       0.0059040051830063335, 0.05699680297839011, 0.07785796989177841,\n",
       "       0.027313334949739643], dtype=object)"
      ]
     },
     "execution_count": 110,
     "metadata": {},
     "output_type": "execute_result"
    }
   ],
   "source": [
    "test_set_preds.iloc[0].values[1:]"
   ]
  },
  {
   "cell_type": "markdown",
   "metadata": {},
   "source": [
    "# Ensembly"
   ]
  },
  {
   "cell_type": "code",
   "execution_count": null,
   "metadata": {},
   "outputs": [],
   "source": []
  },
  {
   "cell_type": "code",
   "execution_count": 39,
   "metadata": {
    "scrolled": true
   },
   "outputs": [
    {
     "name": "stdout",
     "output_type": "stream",
     "text": [
      "predicting classes Int64Index([6, 19, 4, 0], dtype='int64')\n"
     ]
    },
    {
     "data": {
      "text/plain": [
       "0.5417721518987342"
      ]
     },
     "execution_count": 39,
     "metadata": {},
     "output_type": "execute_result"
    }
   ],
   "source": [
    "print('predicting classes {}'.format(class_model_1))\n",
    "\n",
    "x_1 = []\n",
    "y_1 = []\n",
    "for i in class_model_1:\n",
    "    \n",
    "    if i == 6:\n",
    "         x_1.extend(train_data[train_data.Labels == i]['post_processed_script'][0:203])\n",
    "         y_1.extend(train_data[train_data.Labels == i]['Labels'][0:203])\n",
    "    \n",
    "    x_1.extend(train_data[train_data.Labels == i]['post_processed_script'])\n",
    "    y_1.extend(train_data[train_data.Labels == i]['Labels'])\n",
    "\n",
    "    \n",
    "\n",
    "\n",
    "\n",
    "from sklearn.svm import SVC\n",
    "\n",
    "\n",
    "\n",
    "from sklearn.feature_extraction.text import TfidfVectorizer,CountVectorizer\n",
    "\n",
    "from sklearn.linear_model import LogisticRegression\n",
    "\n",
    "\n",
    "from sklearn.decomposition import TruncatedSVD\n",
    "\n",
    "\n",
    "from sklearn.preprocessing import LabelEncoder\n",
    "\n",
    "\n",
    "\n",
    "clf2_1 = SVC(C = 10,probability=True,random_state = 3,gamma = 0.1)\n",
    "\n",
    "\n",
    "\n",
    "# tf_idf_1  = TfidfVectorizer()\n",
    "t_svd_1 = TruncatedSVD(n_components=17)\n",
    "\n",
    "lb_1 = LabelEncoder()\n",
    "\n",
    "\n",
    "\n",
    "#Encoding Input\n",
    "# vocab = tf_idf_1.fit(x_1)\n",
    "tf_Mat = tf_global.transform(x_1)\n",
    "\n",
    "# dimensionlaity reduction\n",
    "\n",
    "t_Mat = t_svd_1.fit_transform(tf_Mat)\n",
    "\n",
    "#Encoding The output\n",
    "lb_1.fit(y_1)\n",
    "labels = lb_1.transform(y_1)    \n",
    "    \n",
    "X_train, X_test, y_train, y_test = train_test_split(\n",
    "    t_Mat,\n",
    "    labels,\n",
    "    test_size=0.3,\n",
    "    shuffle = True,\n",
    "    random_state=3)    \n",
    "    \n",
    "    \n",
    "    \n",
    "    \n",
    "    \n",
    "\n",
    "\n",
    "clf2_1.fit(X_train,y_train)\n",
    "\n",
    "\n",
    "accuracy_score(clf2_1.predict(X_test),y_test)\n",
    "\n"
   ]
  },
  {
   "cell_type": "code",
   "execution_count": 40,
   "metadata": {},
   "outputs": [
    {
     "name": "stdout",
     "output_type": "stream",
     "text": [
      "1.0018500212556198\n",
      "1.0172510057486666\n"
     ]
    }
   ],
   "source": [
    "print(log_loss(y_train,clf2_1.predict_proba(X_train)))\n",
    "print(log_loss(y_test,clf2_1.predict_proba(X_test)))"
   ]
  },
  {
   "cell_type": "code",
   "execution_count": 180,
   "metadata": {},
   "outputs": [
    {
     "data": {
      "text/plain": [
       "array([ 0,  4,  6, 19])"
      ]
     },
     "execution_count": 180,
     "metadata": {},
     "output_type": "execute_result"
    }
   ],
   "source": [
    "lb_1.classes_"
   ]
  },
  {
   "cell_type": "code",
   "execution_count": null,
   "metadata": {},
   "outputs": [],
   "source": []
  },
  {
   "cell_type": "markdown",
   "metadata": {},
   "source": [
    "# Model 2"
   ]
  },
  {
   "cell_type": "code",
   "execution_count": 209,
   "metadata": {},
   "outputs": [
    {
     "name": "stdout",
     "output_type": "stream",
     "text": [
      "predicting classes Int64Index([5, 15, 1, 16, 11], dtype='int64')\n",
      "0.6043956043956044\n",
      "1.009030644070039\n",
      "1.0260782339401135\n"
     ]
    }
   ],
   "source": [
    "print('predicting classes {}'.format(class_model_2))\n",
    "\n",
    "x_2 = []\n",
    "y_2 = []\n",
    "for i in class_model_2:\n",
    "    \n",
    "    x_2.extend(train_data[train_data.Labels == i]['post_processed_script'])\n",
    "    y_2.extend(train_data[train_data.Labels == i]['Labels'])\n",
    "\n",
    "    \n",
    "\n",
    "\n",
    "\n",
    "from sklearn.svm import SVC\n",
    "\n",
    "\n",
    "\n",
    "from sklearn.feature_extraction.text import TfidfVectorizer,CountVectorizer\n",
    "\n",
    "from sklearn.linear_model import LogisticRegression\n",
    "\n",
    "\n",
    "\n",
    "from sklearn.decomposition import TruncatedSVD\n",
    "\n",
    "\n",
    "from sklearn.preprocessing import LabelEncoder\n",
    "\n",
    "\n",
    "\n",
    "from xgboost import XGBClassifier\n",
    "\n",
    "\n",
    "\n",
    "# clf_2 = XGBClassifier(max_depth=3, n_estimators=300, learning_rate=0.1)\n",
    "\n",
    "\n",
    "\n",
    "\n",
    "clf2_2 = SVC(C = 10,probability=True,random_state = 3)\n",
    "\n",
    "clf1  = LogisticRegression()\n",
    "\n",
    "\n",
    "# tf_idf_2  = TfidfVectorizer()\n",
    "t_svd_2 = TruncatedSVD(n_components=20,random_state=3)\n",
    "lb_2 = LabelEncoder()\n",
    "\n",
    "\n",
    "\n",
    "#Encoding Input\n",
    "# vocab_2  = tf_idf_2.fit(x_2)\n",
    "tf_Mat_2 = tf_global.transform(x_2)\n",
    "\n",
    "# dimensionlaity reduction\n",
    "\n",
    "t_Mat_2 = t_svd_2.fit_transform(tf_Mat_2)\n",
    "\n",
    "#Encoding The output\n",
    "lb_2.fit(y_2)\n",
    "labels_2 = lb_2.transform(y_2)    \n",
    "    \n",
    "X_train, X_test, y_train, y_test = train_test_split(\n",
    "    t_Mat_2,\n",
    "    labels_2,\n",
    "    test_size=0.3,\n",
    "    shuffle = True,\n",
    "    random_state=3)    \n",
    "    \n",
    "    \n",
    "    \n",
    "    \n",
    "    \n",
    "\n",
    "clf2_2.fit(X_train,y_train)\n",
    "\n",
    "\n",
    "print(accuracy_score(clf2_2.predict(X_test),y_test))\n",
    "\n",
    "\n",
    "print(log_loss(y_train,clf2_2.predict_proba(X_train)))\n",
    "print(log_loss(y_test,clf2_2.predict_proba(X_test)))"
   ]
  },
  {
   "cell_type": "code",
   "execution_count": 68,
   "metadata": {},
   "outputs": [
    {
     "data": {
      "text/plain": [
       "array([ 1,  5, 11, 15, 16])"
      ]
     },
     "execution_count": 68,
     "metadata": {},
     "output_type": "execute_result"
    }
   ],
   "source": [
    "lb_2.classes_"
   ]
  },
  {
   "cell_type": "markdown",
   "metadata": {},
   "source": [
    "# Model 3 "
   ]
  },
  {
   "cell_type": "code",
   "execution_count": 219,
   "metadata": {},
   "outputs": [
    {
     "data": {
      "text/plain": [
       "XGBClassifier(base_score=None, booster=None, colsample_bylevel=None,\n",
       "              colsample_bynode=None, colsample_bytree=None, gamma=None,\n",
       "              gpu_id=None, importance_type='gain', interaction_constraints=None,\n",
       "              learning_rate=None, max_delta_step=None, max_depth=None,\n",
       "              min_child_weight=None, missing=nan, monotone_constraints=None,\n",
       "              n_estimators=100, n_jobs=None, num_parallel_tree=None,\n",
       "              objective='binary:logistic', random_state=None, reg_alpha=None,\n",
       "              reg_lambda=None, scale_pos_weight=None, subsample=None,\n",
       "              tree_method=None, validate_parameters=False, verbosity=None)"
      ]
     },
     "execution_count": 219,
     "metadata": {},
     "output_type": "execute_result"
    }
   ],
   "source": [
    "XGBClassifier()"
   ]
  },
  {
   "cell_type": "code",
   "execution_count": 246,
   "metadata": {},
   "outputs": [
    {
     "name": "stdout",
     "output_type": "stream",
     "text": [
      "predicting classes Int64Index([8, 14, 7, 2, 20, 13, 21, 12, 9, 3, 17, 18, 10], dtype='int64') length of 13\n",
      "8     79\n",
      "14    75\n",
      "7     27\n",
      "2     25\n",
      "dtype: int64\n",
      "0.9593068711010392\n",
      "1.0135385822479928\n"
     ]
    }
   ],
   "source": [
    "print('predicting classes {} length of {}'.format(class_model_3,len(class_model_3)))\n",
    "class_model_tmp = [8, 14, 7, 2,]\n",
    "x_3 = []\n",
    "y_3 = []\n",
    "for i in class_model_tmp:\n",
    "    \n",
    "    x_3.extend(train_data[train_data.Labels == i]['post_processed_script'])\n",
    "    y_3.extend(train_data[train_data.Labels == i]['Labels'])\n",
    "\n",
    "    \n",
    "print(pd.Series(y_3).value_counts())\n",
    "\n",
    "\n",
    "from sklearn.svm import SVC\n",
    "\n",
    "\n",
    "\n",
    "from sklearn.feature_extraction.text import TfidfVectorizer,CountVectorizer\n",
    "\n",
    "from sklearn.linear_model import LogisticRegression\n",
    "\n",
    "\n",
    "\n",
    "from sklearn.decomposition import TruncatedSVD\n",
    "\n",
    "\n",
    "from sklearn.preprocessing import LabelEncoder\n",
    "\n",
    "\n",
    "\n",
    "from xgboost import XGBClassifier\n",
    "\n",
    "\n",
    "\n",
    "# clf_3 = XGBClassifier(max_depth=1, n_estimators=300, learning_rate=0.1,subsample=0.8,gamma = 2)\n",
    "\n",
    "\n",
    "\n",
    "clf2_3 = SVC(C = 200,probability=True,random_state = 3,gamma = 0.01)\n",
    "\n",
    "clf1  = LogisticRegression()\n",
    "\n",
    "\n",
    "# tf_idf_3  = TfidfVectorizer()\n",
    "t_svd_3 = TruncatedSVD(n_components=20)\n",
    "lb_3 = LabelEncoder()\n",
    "\n",
    "\n",
    "\n",
    "#Encoding Input\n",
    "# vocab_3  = tf_idf_3.fit(x_3)\n",
    "tf_Mat_3 = tf_global.transform(x_3)\n",
    "\n",
    "# dimensionlaity reduction\n",
    "\n",
    "t_Mat_3 = t_svd_3.fit_transform(tf_Mat_3)\n",
    "\n",
    "#Encoding The output\n",
    "lb_3.fit(y_3)\n",
    "labels_3 = lb_3.transform(y_3)    \n",
    "    \n",
    "X_train, X_test, y_train, y_test = train_test_split(\n",
    "    t_Mat_3,\n",
    "    labels_3,\n",
    "    test_size=0.3,\n",
    "    stratify= labels_3,\n",
    "    shuffle = True,\n",
    "    random_state=3)    \n",
    "    \n",
    "    \n",
    "\n",
    "clf2_3.fit(X_train,y_train)\n",
    "\n",
    "\n",
    "accuracy_score(clf2_3.predict(X_test),y_test)\n",
    "\n",
    "print(log_loss(y_train,clf2_3.predict_proba(X_train)))\n",
    "print(log_loss(y_test,clf2_3.predict_proba(X_test)))\n"
   ]
  },
  {
   "cell_type": "code",
   "execution_count": 253,
   "metadata": {},
   "outputs": [
    {
     "name": "stdout",
     "output_type": "stream",
     "text": [
      "predicting classes Int64Index([8, 14, 7, 2, 20, 13, 21, 12, 9, 3, 17, 18, 10], dtype='int64') length of 13\n",
      "20    18\n",
      "13    15\n",
      "21     9\n",
      "12     4\n",
      "9      3\n",
      "18     2\n",
      "17     2\n",
      "10     2\n",
      "3      2\n",
      "dtype: int64\n",
      "1.4301146368429867\n"
     ]
    }
   ],
   "source": [
    "print('predicting classes {} length of {}'.format(class_model_3,len(class_model_3)))\n",
    "class_model_tmp = [20, 13, 21, 12, 9, 3, 17, 18, 10]\n",
    "x_4 = []\n",
    "y_4 = []\n",
    "for i in class_model_tmp:\n",
    "    \n",
    "    x_4.extend(train_data[train_data.Labels == i]['post_processed_script'])\n",
    "    y_4.extend(train_data[train_data.Labels == i]['Labels'])\n",
    "\n",
    "    \n",
    "print(pd.Series(y_4).value_counts())\n",
    "\n",
    "\n",
    "from sklearn.svm import SVC\n",
    "\n",
    "\n",
    "\n",
    "from sklearn.feature_extraction.text import TfidfVectorizer,CountVectorizer\n",
    "\n",
    "from sklearn.linear_model import LogisticRegression\n",
    "\n",
    "\n",
    "\n",
    "from sklearn.decomposition import TruncatedSVD\n",
    "\n",
    "\n",
    "from sklearn.preprocessing import LabelEncoder\n",
    "\n",
    "\n",
    "\n",
    "from xgboost import XGBClassifier\n",
    "\n",
    "\n",
    "\n",
    "# clf_3 = XGBClassifier(max_depth=1, n_estimators=300, learning_rate=0.1,subsample=0.8,gamma = 2)\n",
    "\n",
    "\n",
    "\n",
    "clf2_4 = SVC(C = 200,probability=True,random_state = 3,gamma = 0.01)\n",
    "\n",
    "clf1  = LogisticRegression()\n",
    "\n",
    "\n",
    "# tf_idf_3  = TfidfVectorizer()\n",
    "t_svd_4 = TruncatedSVD(n_components=20)\n",
    "lb_4 = LabelEncoder()\n",
    "\n",
    "\n",
    "\n",
    "#Encoding Input\n",
    "# vocab_3  = tf_idf_3.fit(x_3)\n",
    "tf_Mat_4 = tf_global.transform(x_4)\n",
    "\n",
    "# dimensionlaity reduction\n",
    "\n",
    "t_Mat_4 = t_svd_4.fit_transform(tf_Mat_4)\n",
    "\n",
    "#Encoding The output\n",
    "lb_4.fit(y_4)\n",
    "labels_4 = lb_4.transform(y_4)    \n",
    "    \n",
    "# X_train, X_test, y_train, y_test = train_test_split(\n",
    "#     t_Mat_4,\n",
    "#     labels_4,\n",
    "#     test_size=0.2,\n",
    "#     stratify= labels_4,\n",
    "#     shuffle = True,\n",
    "#     random_state=3)    \n",
    "    \n",
    "    \n",
    "\n",
    "clf2_4.fit(t_Mat_4,labels_4)\n",
    "\n",
    "\n",
    "# accuracy_score(clf2_4.predict(X_test),y_test)\n",
    "\n",
    "print(log_loss(labels_4,clf2_4.predict_proba(X_train)))\n",
    "# print(log_loss(y_test,clf2_4.predict_proba(X_test)))\n"
   ]
  },
  {
   "cell_type": "code",
   "execution_count": 244,
   "metadata": {},
   "outputs": [
    {
     "data": {
      "text/plain": [
       "array([ 2,  7,  8, 14])"
      ]
     },
     "execution_count": 244,
     "metadata": {},
     "output_type": "execute_result"
    }
   ],
   "source": [
    "lb_3.classes_"
   ]
  },
  {
   "cell_type": "markdown",
   "metadata": {},
   "source": [
    "# Predicting Test"
   ]
  },
  {
   "cell_type": "code",
   "execution_count": 40,
   "metadata": {},
   "outputs": [
    {
     "data": {
      "text/plain": [
       "1.3843333333333332"
      ]
     },
     "execution_count": 40,
     "metadata": {},
     "output_type": "execute_result"
    }
   ],
   "source": [
    "(1.17 + 1.268 + 1.715 )/ 3"
   ]
  },
  {
   "cell_type": "code",
   "execution_count": null,
   "metadata": {},
   "outputs": [],
   "source": [
    "\n"
   ]
  },
  {
   "cell_type": "code",
   "execution_count": 245,
   "metadata": {},
   "outputs": [
    {
     "name": "stdout",
     "output_type": "stream",
     "text": [
      "(1979, 4)\n",
      "(1979, 4)\n",
      "[ 0  4  6 19]\n",
      "[ 1  5 11 15 16]\n",
      "[ 2  7  8 14]\n",
      "[ 3  9 10 12 13 17 18 20 21]\n",
      "(array([0], dtype=int64),) 0 0 [[0.17691243 0.11616426 0.54430632 0.16261698]\n",
      " [0.02303156 0.25972237 0.58029827 0.1369478 ]\n",
      " [0.10904387 0.00722144 0.44334848 0.44038621]\n",
      " ...\n",
      " [0.03589067 0.1333495  0.65322386 0.17753596]\n",
      " [0.24085114 0.08174546 0.30462671 0.37277669]\n",
      " [0.31919757 0.16741356 0.22560061 0.28778825]]\n",
      "(array([1], dtype=int64),) 4 0 [[0.17691243 0.11616426 0.54430632 0.16261698]\n",
      " [0.02303156 0.25972237 0.58029827 0.1369478 ]\n",
      " [0.10904387 0.00722144 0.44334848 0.44038621]\n",
      " ...\n",
      " [0.03589067 0.1333495  0.65322386 0.17753596]\n",
      " [0.24085114 0.08174546 0.30462671 0.37277669]\n",
      " [0.31919757 0.16741356 0.22560061 0.28778825]]\n",
      "(array([2], dtype=int64),) 6 0 [[0.17691243 0.11616426 0.54430632 0.16261698]\n",
      " [0.02303156 0.25972237 0.58029827 0.1369478 ]\n",
      " [0.10904387 0.00722144 0.44334848 0.44038621]\n",
      " ...\n",
      " [0.03589067 0.1333495  0.65322386 0.17753596]\n",
      " [0.24085114 0.08174546 0.30462671 0.37277669]\n",
      " [0.31919757 0.16741356 0.22560061 0.28778825]]\n",
      "(array([3], dtype=int64),) 19 0 [[0.17691243 0.11616426 0.54430632 0.16261698]\n",
      " [0.02303156 0.25972237 0.58029827 0.1369478 ]\n",
      " [0.10904387 0.00722144 0.44334848 0.44038621]\n",
      " ...\n",
      " [0.03589067 0.1333495  0.65322386 0.17753596]\n",
      " [0.24085114 0.08174546 0.30462671 0.37277669]\n",
      " [0.31919757 0.16741356 0.22560061 0.28778825]]\n",
      "(array([0], dtype=int64),) 1 0 [[0.46037446 0.06277508 0.09605505 0.25360824 0.12718717]\n",
      " [0.02887136 0.35626341 0.07257129 0.47688662 0.06540733]\n",
      " [0.12496618 0.13794775 0.40713055 0.03034136 0.29961416]\n",
      " ...\n",
      " [0.0628511  0.21146053 0.28774565 0.33159513 0.10634759]\n",
      " [0.14370183 0.05816505 0.47218081 0.02703431 0.29891801]\n",
      " [0.28953073 0.16331716 0.15294063 0.12807647 0.266135  ]]\n",
      "(array([1], dtype=int64),) 5 0 [[0.46037446 0.06277508 0.09605505 0.25360824 0.12718717]\n",
      " [0.02887136 0.35626341 0.07257129 0.47688662 0.06540733]\n",
      " [0.12496618 0.13794775 0.40713055 0.03034136 0.29961416]\n",
      " ...\n",
      " [0.0628511  0.21146053 0.28774565 0.33159513 0.10634759]\n",
      " [0.14370183 0.05816505 0.47218081 0.02703431 0.29891801]\n",
      " [0.28953073 0.16331716 0.15294063 0.12807647 0.266135  ]]\n",
      "(array([2], dtype=int64),) 11 0 [[0.46037446 0.06277508 0.09605505 0.25360824 0.12718717]\n",
      " [0.02887136 0.35626341 0.07257129 0.47688662 0.06540733]\n",
      " [0.12496618 0.13794775 0.40713055 0.03034136 0.29961416]\n",
      " ...\n",
      " [0.0628511  0.21146053 0.28774565 0.33159513 0.10634759]\n",
      " [0.14370183 0.05816505 0.47218081 0.02703431 0.29891801]\n",
      " [0.28953073 0.16331716 0.15294063 0.12807647 0.266135  ]]\n",
      "(array([3], dtype=int64),) 15 0 [[0.46037446 0.06277508 0.09605505 0.25360824 0.12718717]\n",
      " [0.02887136 0.35626341 0.07257129 0.47688662 0.06540733]\n",
      " [0.12496618 0.13794775 0.40713055 0.03034136 0.29961416]\n",
      " ...\n",
      " [0.0628511  0.21146053 0.28774565 0.33159513 0.10634759]\n",
      " [0.14370183 0.05816505 0.47218081 0.02703431 0.29891801]\n",
      " [0.28953073 0.16331716 0.15294063 0.12807647 0.266135  ]]\n",
      "(array([4], dtype=int64),) 16 0 [[0.46037446 0.06277508 0.09605505 0.25360824 0.12718717]\n",
      " [0.02887136 0.35626341 0.07257129 0.47688662 0.06540733]\n",
      " [0.12496618 0.13794775 0.40713055 0.03034136 0.29961416]\n",
      " ...\n",
      " [0.0628511  0.21146053 0.28774565 0.33159513 0.10634759]\n",
      " [0.14370183 0.05816505 0.47218081 0.02703431 0.29891801]\n",
      " [0.28953073 0.16331716 0.15294063 0.12807647 0.266135  ]]\n",
      "(array([0], dtype=int64),) 2 0 [[0.18082767 0.17947928 0.56882437 0.07086868]\n",
      " [0.063111   0.072576   0.25379504 0.61051796]\n",
      " [0.07705566 0.07016871 0.38012079 0.47265485]\n",
      " ...\n",
      " [0.10676084 0.13639802 0.37592602 0.38091512]\n",
      " [0.13585905 0.14477526 0.49826889 0.2210968 ]\n",
      " [0.16931933 0.19275151 0.51371057 0.12421859]]\n",
      "(array([1], dtype=int64),) 7 0 [[0.18082767 0.17947928 0.56882437 0.07086868]\n",
      " [0.063111   0.072576   0.25379504 0.61051796]\n",
      " [0.07705566 0.07016871 0.38012079 0.47265485]\n",
      " ...\n",
      " [0.10676084 0.13639802 0.37592602 0.38091512]\n",
      " [0.13585905 0.14477526 0.49826889 0.2210968 ]\n",
      " [0.16931933 0.19275151 0.51371057 0.12421859]]\n",
      "(array([2], dtype=int64),) 8 0 [[0.18082767 0.17947928 0.56882437 0.07086868]\n",
      " [0.063111   0.072576   0.25379504 0.61051796]\n",
      " [0.07705566 0.07016871 0.38012079 0.47265485]\n",
      " ...\n",
      " [0.10676084 0.13639802 0.37592602 0.38091512]\n",
      " [0.13585905 0.14477526 0.49826889 0.2210968 ]\n",
      " [0.16931933 0.19275151 0.51371057 0.12421859]]\n",
      "(array([3], dtype=int64),) 14 0 [[0.18082767 0.17947928 0.56882437 0.07086868]\n",
      " [0.063111   0.072576   0.25379504 0.61051796]\n",
      " [0.07705566 0.07016871 0.38012079 0.47265485]\n",
      " ...\n",
      " [0.10676084 0.13639802 0.37592602 0.38091512]\n",
      " [0.13585905 0.14477526 0.49826889 0.2210968 ]\n",
      " [0.16931933 0.19275151 0.51371057 0.12421859]]\n",
      "(array([0], dtype=int64),) 3 0 [[0.14486167 0.16150969 0.47801729 0.21561135]\n",
      " [0.17432358 0.18370196 0.51425049 0.12772397]\n",
      " [0.14441169 0.15201596 0.49639329 0.20717906]\n",
      " ...\n",
      " [0.16702983 0.1774128  0.50693259 0.14862478]\n",
      " [0.14579557 0.15273386 0.49264571 0.20882486]\n",
      " [0.13933544 0.127024   0.7083405  0.02530006]]\n",
      "(array([1], dtype=int64),) 9 0 [[0.14486167 0.16150969 0.47801729 0.21561135]\n",
      " [0.17432358 0.18370196 0.51425049 0.12772397]\n",
      " [0.14441169 0.15201596 0.49639329 0.20717906]\n",
      " ...\n",
      " [0.16702983 0.1774128  0.50693259 0.14862478]\n",
      " [0.14579557 0.15273386 0.49264571 0.20882486]\n",
      " [0.13933544 0.127024   0.7083405  0.02530006]]\n",
      "(array([2], dtype=int64),) 10 0 [[0.14486167 0.16150969 0.47801729 0.21561135]\n",
      " [0.17432358 0.18370196 0.51425049 0.12772397]\n",
      " [0.14441169 0.15201596 0.49639329 0.20717906]\n",
      " ...\n",
      " [0.16702983 0.1774128  0.50693259 0.14862478]\n",
      " [0.14579557 0.15273386 0.49264571 0.20882486]\n",
      " [0.13933544 0.127024   0.7083405  0.02530006]]\n",
      "(array([3], dtype=int64),) 12 0 [[0.14486167 0.16150969 0.47801729 0.21561135]\n",
      " [0.17432358 0.18370196 0.51425049 0.12772397]\n",
      " [0.14441169 0.15201596 0.49639329 0.20717906]\n",
      " ...\n",
      " [0.16702983 0.1774128  0.50693259 0.14862478]\n",
      " [0.14579557 0.15273386 0.49264571 0.20882486]\n",
      " [0.13933544 0.127024   0.7083405  0.02530006]]\n",
      "(array([4], dtype=int64),) 13 0 [[0.14486167 0.16150969 0.47801729 0.21561135]\n",
      " [0.17432358 0.18370196 0.51425049 0.12772397]\n",
      " [0.14441169 0.15201596 0.49639329 0.20717906]\n",
      " ...\n",
      " [0.16702983 0.1774128  0.50693259 0.14862478]\n",
      " [0.14579557 0.15273386 0.49264571 0.20882486]\n",
      " [0.13933544 0.127024   0.7083405  0.02530006]]\n"
     ]
    },
    {
     "ename": "IndexError",
     "evalue": "index 4 is out of bounds for axis 0 with size 4",
     "output_type": "error",
     "traceback": [
      "\u001b[1;31m---------------------------------------------------------------------------\u001b[0m",
      "\u001b[1;31mIndexError\u001b[0m                                Traceback (most recent call last)",
      "\u001b[1;32m<ipython-input-245-595dddc1b025>\u001b[0m in \u001b[0;36m<module>\u001b[1;34m\u001b[0m\n\u001b[0;32m     71\u001b[0m                 \u001b[0mindex\u001b[0m \u001b[1;33m=\u001b[0m \u001b[0mnp\u001b[0m\u001b[1;33m.\u001b[0m\u001b[0mwhere\u001b[0m\u001b[1;33m(\u001b[0m\u001b[0mindex_list\u001b[0m \u001b[1;33m==\u001b[0m \u001b[0mi\u001b[0m\u001b[1;33m)\u001b[0m\u001b[1;33m\u001b[0m\u001b[1;33m\u001b[0m\u001b[0m\n\u001b[0;32m     72\u001b[0m                 \u001b[0mprint\u001b[0m\u001b[1;33m(\u001b[0m\u001b[0mindex\u001b[0m\u001b[1;33m,\u001b[0m\u001b[0mi\u001b[0m\u001b[1;33m,\u001b[0m\u001b[0mrow\u001b[0m\u001b[1;33m,\u001b[0m\u001b[0mpred_list\u001b[0m\u001b[1;33m)\u001b[0m\u001b[1;33m\u001b[0m\u001b[1;33m\u001b[0m\u001b[0m\n\u001b[1;32m---> 73\u001b[1;33m                 \u001b[0mfinal_pred\u001b[0m\u001b[1;33m[\u001b[0m\u001b[0mrow\u001b[0m\u001b[1;33m]\u001b[0m\u001b[1;33m[\u001b[0m\u001b[0mi\u001b[0m\u001b[1;33m]\u001b[0m \u001b[1;33m=\u001b[0m \u001b[0mpred_list\u001b[0m\u001b[1;33m[\u001b[0m\u001b[0mrow\u001b[0m\u001b[1;33m]\u001b[0m\u001b[1;33m[\u001b[0m\u001b[0mindex\u001b[0m\u001b[1;33m[\u001b[0m\u001b[1;36m0\u001b[0m\u001b[1;33m]\u001b[0m\u001b[1;33m[\u001b[0m\u001b[1;36m0\u001b[0m\u001b[1;33m]\u001b[0m\u001b[1;33m]\u001b[0m\u001b[1;33m\u001b[0m\u001b[1;33m\u001b[0m\u001b[0m\n\u001b[0m\u001b[0;32m     74\u001b[0m \u001b[1;33m\u001b[0m\u001b[0m\n\u001b[0;32m     75\u001b[0m \u001b[1;33m\u001b[0m\u001b[0m\n",
      "\u001b[1;31mIndexError\u001b[0m: index 4 is out of bounds for axis 0 with size 4"
     ]
    }
   ],
   "source": [
    "\n",
    "X = train_data['post_processed_script']\n",
    "Y = train_data['Labels']\n",
    "\n",
    "\n",
    "\n",
    "\n",
    "\n",
    "def get_prediction(svd,model,data_x,data_y):\n",
    "    \n",
    "    mat_x = tf_global.transform(data_x)\n",
    "    mat_x_svd = svd.transform(mat_x)\n",
    "    return model.predict_proba(mat_x_svd)\n",
    "\n",
    "\n",
    "\n",
    "\n",
    "\n",
    "# print(\"model 1\")\n",
    "# # for model 1 \n",
    "# pred1 = get_prediction(t_svd_1,clf2_1,X,Y)\n",
    "\n",
    "# print(\"model 2\")\n",
    "# #for model 2 \n",
    "# pred2 = get_prediction(t_svd_2,clf2_2,X,Y)\n",
    "\n",
    "# print(\"model 3\")\n",
    "# #for model 3 \n",
    "# pred3 = get_prediction(t_svd_3,clf2_3,X,Y)\n",
    "\n",
    "# print(\"model 4\")\n",
    "# #for model 4\n",
    "# pred4 = get_prediction(t_svd_4,clf2_4,X,Y)\n",
    "\n",
    "\n",
    "\n",
    "\n",
    "print(pred3.shape)\n",
    "print(pred4.shape)\n",
    "\n",
    "\n",
    "\n",
    "#label index order for model 1 \n",
    "index_model_1 = lb_1.classes_\n",
    "index_model_2 = lb_2.classes_\n",
    "index_model_3 = lb_3.classes_\n",
    "index_model_4 = lb_4.classes_\n",
    "\n",
    "\n",
    "print(index_model_1)\n",
    "print(index_model_2)\n",
    "print(index_model_3)\n",
    "print(index_model_4)\n",
    "\n",
    "\n",
    "\n",
    "\n",
    "size = X.shape[0]\n",
    "\n",
    "final_pred = np.zeros((size,22),dtype = 'float32')\n",
    "\n",
    "\n",
    "for row in range(size):\n",
    "    \n",
    "    for index_list,pred_list in zip([index_model_1,index_model_2,index_model_3,index_model_4],\\\n",
    "                                    [pred1,pred2,pred3,pred4]):\n",
    "\n",
    "        for i in range(22):\n",
    "\n",
    "            if i in index_list:\n",
    "\n",
    "                index = np.where(index_list == i)\n",
    "                print(index,i,row,pred_list)\n",
    "                final_pred[row][i] = pred_list[row][index[0][0]]\n",
    "\n",
    "\n",
    "log_loss(train_data['Labels'].values,final_pred)"
   ]
  },
  {
   "cell_type": "code",
   "execution_count": null,
   "metadata": {},
   "outputs": [],
   "source": []
  },
  {
   "cell_type": "code",
   "execution_count": 145,
   "metadata": {},
   "outputs": [
    {
     "name": "stdout",
     "output_type": "stream",
     "text": [
      "[ 0  4  6 19]\n",
      "[ 1  5 11 15 16]\n"
     ]
    }
   ],
   "source": [
    "\n",
    "X = test_data['post_processed_script']\n",
    "# Y = train_data['Labels']\n",
    "\n",
    "\n",
    "\n",
    "\n",
    "\n",
    "def get_prediction(svd,model,data_x,data_y):\n",
    "    \n",
    "    mat_x = tf_global.transform(data_x)\n",
    "#     mat_x_svd = svd.transform(mat_x)\n",
    "    return model.predict_proba(mat_x)\n",
    "\n",
    "\n",
    "\n",
    "\n",
    "\n",
    "\n",
    "# for model 1 \n",
    "pred1 = get_prediction(t_svd_1,clf2_1,X,Y)\n",
    "\n",
    "#for model 2 \n",
    "pred2 = get_prediction(t_svd_2,clf2_2,X,Y)\n",
    "\n",
    "#for model 3 \n",
    "pred3 = get_prediction(t_svd_3,clf2_3,X,Y)\n",
    "\n",
    "\n",
    "\n",
    "\n",
    "\n",
    "#label index order for model 1 \n",
    "index_model_1 = lb_1.classes_\n",
    "index_model_2 = lb_2.classes_\n",
    "index_model_3 = lb_3.classes_\n",
    "\n",
    "print(index_model_1)\n",
    "print(index_model_2)\n",
    "\n",
    "\n",
    "\n",
    "\n",
    "\n",
    "size = X.shape[0]\n",
    "\n",
    "final_pred = np.zeros((size,22),dtype = 'float32')\n",
    "\n",
    "\n",
    "for row in range(size):\n",
    "    \n",
    "    for index_list,pred_list in zip([index_model_1,index_model_2,index_model_3],[pred1,pred2,pred3]):\n",
    "\n",
    "        for i in range(22):\n",
    "\n",
    "            if i in index_list:\n",
    "\n",
    "                index = np.where(index_list == i)\n",
    "\n",
    "                final_pred[row][i] = pred_list[row][index[0][0]]\n",
    "\n",
    "\n",
    "# log_loss(train_data['Labels'].values,final_pred)"
   ]
  },
  {
   "cell_type": "code",
   "execution_count": 151,
   "metadata": {},
   "outputs": [
    {
     "data": {
      "text/plain": [
       "(849, 22)"
      ]
     },
     "execution_count": 151,
     "metadata": {},
     "output_type": "execute_result"
    }
   ],
   "source": [
    "final_pred.shape"
   ]
  },
  {
   "cell_type": "code",
   "execution_count": 146,
   "metadata": {},
   "outputs": [],
   "source": []
  },
  {
   "cell_type": "code",
   "execution_count": 150,
   "metadata": {},
   "outputs": [
    {
     "data": {
      "text/html": [
       "<div>\n",
       "<style scoped>\n",
       "    .dataframe tbody tr th:only-of-type {\n",
       "        vertical-align: middle;\n",
       "    }\n",
       "\n",
       "    .dataframe tbody tr th {\n",
       "        vertical-align: top;\n",
       "    }\n",
       "\n",
       "    .dataframe thead th {\n",
       "        text-align: right;\n",
       "    }\n",
       "</style>\n",
       "<table border=\"1\" class=\"dataframe\">\n",
       "  <thead>\n",
       "    <tr style=\"text-align: right;\">\n",
       "      <th></th>\n",
       "      <th>File_Name</th>\n",
       "      <th>0</th>\n",
       "      <th>1</th>\n",
       "      <th>2</th>\n",
       "      <th>3</th>\n",
       "      <th>4</th>\n",
       "      <th>5</th>\n",
       "      <th>6</th>\n",
       "      <th>7</th>\n",
       "      <th>8</th>\n",
       "      <th>...</th>\n",
       "      <th>12</th>\n",
       "      <th>13</th>\n",
       "      <th>14</th>\n",
       "      <th>15</th>\n",
       "      <th>16</th>\n",
       "      <th>17</th>\n",
       "      <th>18</th>\n",
       "      <th>19</th>\n",
       "      <th>20</th>\n",
       "      <th>21</th>\n",
       "    </tr>\n",
       "  </thead>\n",
       "  <tbody>\n",
       "    <tr>\n",
       "      <th>0</th>\n",
       "      <td>file_2300.txt</td>\n",
       "      <td>0.0590446</td>\n",
       "      <td>0.110904</td>\n",
       "      <td>0.123339</td>\n",
       "      <td>0.00779356</td>\n",
       "      <td>0.269485</td>\n",
       "      <td>0.190301</td>\n",
       "      <td>0.408658</td>\n",
       "      <td>0.0905355</td>\n",
       "      <td>0.266962</td>\n",
       "      <td>...</td>\n",
       "      <td>0.0278881</td>\n",
       "      <td>0.0536573</td>\n",
       "      <td>0.318561</td>\n",
       "      <td>0.293053</td>\n",
       "      <td>0.163751</td>\n",
       "      <td>0.00729391</td>\n",
       "      <td>0.00786818</td>\n",
       "      <td>0.262812</td>\n",
       "      <td>0.0469967</td>\n",
       "      <td>0.0283784</td>\n",
       "    </tr>\n",
       "    <tr>\n",
       "      <th>1</th>\n",
       "      <td>file_809.txt</td>\n",
       "      <td>0.0558275</td>\n",
       "      <td>0.069993</td>\n",
       "      <td>0.156681</td>\n",
       "      <td>0.0190342</td>\n",
       "      <td>0.358553</td>\n",
       "      <td>0.431873</td>\n",
       "      <td>0.394698</td>\n",
       "      <td>0.142071</td>\n",
       "      <td>0.178258</td>\n",
       "      <td>...</td>\n",
       "      <td>0.0370238</td>\n",
       "      <td>0.156779</td>\n",
       "      <td>0.0900571</td>\n",
       "      <td>0.347557</td>\n",
       "      <td>0.104849</td>\n",
       "      <td>0.0186037</td>\n",
       "      <td>0.0184544</td>\n",
       "      <td>0.190921</td>\n",
       "      <td>0.114629</td>\n",
       "      <td>0.024276</td>\n",
       "    </tr>\n",
       "    <tr>\n",
       "      <th>2</th>\n",
       "      <td>file_1383.txt</td>\n",
       "      <td>0.382035</td>\n",
       "      <td>0.382427</td>\n",
       "      <td>0.0778835</td>\n",
       "      <td>0.00725576</td>\n",
       "      <td>0.0992691</td>\n",
       "      <td>0.0212028</td>\n",
       "      <td>0.266773</td>\n",
       "      <td>0.0454838</td>\n",
       "      <td>0.257237</td>\n",
       "      <td>...</td>\n",
       "      <td>0.0243531</td>\n",
       "      <td>0.049127</td>\n",
       "      <td>0.3976</td>\n",
       "      <td>0.0933179</td>\n",
       "      <td>0.24236</td>\n",
       "      <td>0.00692002</td>\n",
       "      <td>0.00670784</td>\n",
       "      <td>0.251923</td>\n",
       "      <td>0.0898142</td>\n",
       "      <td>0.0203188</td>\n",
       "    </tr>\n",
       "    <tr>\n",
       "      <th>3</th>\n",
       "      <td>file_983.txt</td>\n",
       "      <td>0.117034</td>\n",
       "      <td>0.14571</td>\n",
       "      <td>0.126163</td>\n",
       "      <td>0.0132169</td>\n",
       "      <td>0.243777</td>\n",
       "      <td>0.293902</td>\n",
       "      <td>0.359119</td>\n",
       "      <td>0.122018</td>\n",
       "      <td>0.274157</td>\n",
       "      <td>...</td>\n",
       "      <td>0.0302118</td>\n",
       "      <td>0.124041</td>\n",
       "      <td>0.133482</td>\n",
       "      <td>0.270059</td>\n",
       "      <td>0.14759</td>\n",
       "      <td>0.0122129</td>\n",
       "      <td>0.012864</td>\n",
       "      <td>0.280071</td>\n",
       "      <td>0.080105</td>\n",
       "      <td>0.0349052</td>\n",
       "    </tr>\n",
       "    <tr>\n",
       "      <th>4</th>\n",
       "      <td>file_1713.txt</td>\n",
       "      <td>0.406302</td>\n",
       "      <td>0.379168</td>\n",
       "      <td>0.0426529</td>\n",
       "      <td>0.00799054</td>\n",
       "      <td>0.0726156</td>\n",
       "      <td>0.0148352</td>\n",
       "      <td>0.322734</td>\n",
       "      <td>0.02845</td>\n",
       "      <td>0.243344</td>\n",
       "      <td>...</td>\n",
       "      <td>0.0182559</td>\n",
       "      <td>0.0313115</td>\n",
       "      <td>0.489093</td>\n",
       "      <td>0.0726283</td>\n",
       "      <td>0.233985</td>\n",
       "      <td>0.00772974</td>\n",
       "      <td>0.00741196</td>\n",
       "      <td>0.198349</td>\n",
       "      <td>0.054791</td>\n",
       "      <td>0.0535518</td>\n",
       "    </tr>\n",
       "  </tbody>\n",
       "</table>\n",
       "<p>5 rows × 23 columns</p>\n",
       "</div>"
      ],
      "text/plain": [
       "       File_Name          0         1          2           3          4  \\\n",
       "0  file_2300.txt  0.0590446  0.110904   0.123339  0.00779356   0.269485   \n",
       "1   file_809.txt  0.0558275  0.069993   0.156681   0.0190342   0.358553   \n",
       "2  file_1383.txt   0.382035  0.382427  0.0778835  0.00725576  0.0992691   \n",
       "3   file_983.txt   0.117034   0.14571   0.126163   0.0132169   0.243777   \n",
       "4  file_1713.txt   0.406302  0.379168  0.0426529  0.00799054  0.0726156   \n",
       "\n",
       "           5         6          7         8  ...         12         13  \\\n",
       "0   0.190301  0.408658  0.0905355  0.266962  ...  0.0278881  0.0536573   \n",
       "1   0.431873  0.394698   0.142071  0.178258  ...  0.0370238   0.156779   \n",
       "2  0.0212028  0.266773  0.0454838  0.257237  ...  0.0243531   0.049127   \n",
       "3   0.293902  0.359119   0.122018  0.274157  ...  0.0302118   0.124041   \n",
       "4  0.0148352  0.322734    0.02845  0.243344  ...  0.0182559  0.0313115   \n",
       "\n",
       "          14         15        16          17          18        19  \\\n",
       "0   0.318561   0.293053  0.163751  0.00729391  0.00786818  0.262812   \n",
       "1  0.0900571   0.347557  0.104849   0.0186037   0.0184544  0.190921   \n",
       "2     0.3976  0.0933179   0.24236  0.00692002  0.00670784  0.251923   \n",
       "3   0.133482   0.270059   0.14759   0.0122129    0.012864  0.280071   \n",
       "4   0.489093  0.0726283  0.233985  0.00772974  0.00741196  0.198349   \n",
       "\n",
       "          20         21  \n",
       "0  0.0469967  0.0283784  \n",
       "1   0.114629   0.024276  \n",
       "2  0.0898142  0.0203188  \n",
       "3   0.080105  0.0349052  \n",
       "4   0.054791  0.0535518  \n",
       "\n",
       "[5 rows x 23 columns]"
      ]
     },
     "execution_count": 150,
     "metadata": {},
     "output_type": "execute_result"
    }
   ],
   "source": [
    "test_set_preds = pd.DataFrame(columns = train_data.Labels.unique().tolist())\n",
    "test_set_preds.insert(0, 'File_Name', test_data.File_Name)\n",
    "test_set_preds.iloc[:,1:] = final_pred\n",
    "#Reorder the columns to match the Sample_submission_file\n",
    "test_set_preds = test_set_preds[['File_Name',0,1,2,3,4,5,6,7,8,9,10,11,12,13,14,15,16,17,18,19,20,21]]\n",
    "#Write your submissions to an excel file\n",
    "test_set_preds.to_excel('ensemble_trick_.22.xlsx', index=False)\n",
    "test_set_preds.head()"
   ]
  },
  {
   "cell_type": "markdown",
   "metadata": {},
   "source": [
    "# Deep Learning Part"
   ]
  },
  {
   "cell_type": "markdown",
   "metadata": {},
   "source": [
    "# Approach 2 Global Tokenizer "
   ]
  },
  {
   "cell_type": "code",
   "execution_count": 113,
   "metadata": {},
   "outputs": [],
   "source": [
    "text.Tokenizer?"
   ]
  },
  {
   "cell_type": "code",
   "execution_count": 148,
   "metadata": {},
   "outputs": [],
   "source": [
    "global_tokenizer = text.Tokenizer()\n",
    "\n",
    "global_tokenizer.fit_on_texts(train_data.post_processed_script)\n",
    "\n",
    "\n",
    "\n",
    "#list(train_data['processed_script']) + list(test_data['processed_script'])"
   ]
  },
  {
   "cell_type": "code",
   "execution_count": 152,
   "metadata": {},
   "outputs": [],
   "source": [
    "#vocab size \n",
    "vocab_size = len(global_tokenizer.word_counts) + 1"
   ]
  },
  {
   "cell_type": "markdown",
   "metadata": {},
   "source": [
    "# Model for class_model_1"
   ]
  },
  {
   "cell_type": "code",
   "execution_count": null,
   "metadata": {},
   "outputs": [],
   "source": []
  },
  {
   "cell_type": "code",
   "execution_count": 161,
   "metadata": {},
   "outputs": [
    {
     "name": "stdout",
     "output_type": "stream",
     "text": [
      "predicting classes Int64Index([6, 19, 4, 0], dtype='int64')\n",
      "19    261\n",
      "4     243\n",
      "6     230\n",
      "0     203\n",
      "dtype: int64\n",
      "Model: \"sequential_8\"\n",
      "_________________________________________________________________\n",
      "Layer (type)                 Output Shape              Param #   \n",
      "=================================================================\n",
      "lstm_4 (LSTM)                (None, 128)               66560     \n",
      "_________________________________________________________________\n",
      "dense_9 (Dense)              (None, 4)                 516       \n",
      "=================================================================\n",
      "Total params: 67,076\n",
      "Trainable params: 67,076\n",
      "Non-trainable params: 0\n",
      "_________________________________________________________________\n",
      "Train on 655 samples, validate on 282 samples\n",
      "Epoch 1/20\n",
      " 64/655 [=>............................] - ETA: 7:02 - loss: 0.5624 - accuracy: 0.7500"
     ]
    },
    {
     "ename": "KeyboardInterrupt",
     "evalue": "",
     "output_type": "error",
     "traceback": [
      "\u001b[1;31m---------------------------------------------------------------------------\u001b[0m",
      "\u001b[1;31mKeyboardInterrupt\u001b[0m                         Traceback (most recent call last)",
      "\u001b[1;32m<ipython-input-161-84251f898b74>\u001b[0m in \u001b[0;36m<module>\u001b[1;34m\u001b[0m\n\u001b[0;32m     74\u001b[0m     \u001b[0mvalidation_data\u001b[0m\u001b[1;33m=\u001b[0m\u001b[1;33m(\u001b[0m\u001b[0mX_test\u001b[0m\u001b[1;33m,\u001b[0m \u001b[0my_test\u001b[0m\u001b[1;33m)\u001b[0m\u001b[1;33m,\u001b[0m\u001b[1;33m\u001b[0m\u001b[1;33m\u001b[0m\u001b[0m\n\u001b[0;32m     75\u001b[0m     \u001b[0mbatch_size\u001b[0m\u001b[1;33m=\u001b[0m\u001b[1;36m32\u001b[0m\u001b[1;33m,\u001b[0m\u001b[1;33m\u001b[0m\u001b[1;33m\u001b[0m\u001b[0m\n\u001b[1;32m---> 76\u001b[1;33m     epochs=20)\n\u001b[0m\u001b[0;32m     77\u001b[0m \u001b[1;33m\u001b[0m\u001b[0m\n\u001b[0;32m     78\u001b[0m \u001b[0mprint\u001b[0m\u001b[1;33m(\u001b[0m\u001b[0mlog_loss\u001b[0m\u001b[1;33m(\u001b[0m\u001b[0my_train\u001b[0m\u001b[1;33m,\u001b[0m\u001b[0mmodel\u001b[0m\u001b[1;33m.\u001b[0m\u001b[0mpredict\u001b[0m\u001b[1;33m(\u001b[0m\u001b[0mX_train\u001b[0m\u001b[1;33m)\u001b[0m\u001b[1;33m)\u001b[0m\u001b[1;33m)\u001b[0m\u001b[1;33m\u001b[0m\u001b[1;33m\u001b[0m\u001b[0m\n",
      "\u001b[1;32mc:\\users\\clive\\appdata\\local\\programs\\python\\python37\\lib\\site-packages\\keras\\engine\\training.py\u001b[0m in \u001b[0;36mfit\u001b[1;34m(self, x, y, batch_size, epochs, verbose, callbacks, validation_split, validation_data, shuffle, class_weight, sample_weight, initial_epoch, steps_per_epoch, validation_steps, validation_freq, max_queue_size, workers, use_multiprocessing, **kwargs)\u001b[0m\n\u001b[0;32m   1237\u001b[0m                                         \u001b[0msteps_per_epoch\u001b[0m\u001b[1;33m=\u001b[0m\u001b[0msteps_per_epoch\u001b[0m\u001b[1;33m,\u001b[0m\u001b[1;33m\u001b[0m\u001b[1;33m\u001b[0m\u001b[0m\n\u001b[0;32m   1238\u001b[0m                                         \u001b[0mvalidation_steps\u001b[0m\u001b[1;33m=\u001b[0m\u001b[0mvalidation_steps\u001b[0m\u001b[1;33m,\u001b[0m\u001b[1;33m\u001b[0m\u001b[1;33m\u001b[0m\u001b[0m\n\u001b[1;32m-> 1239\u001b[1;33m                                         validation_freq=validation_freq)\n\u001b[0m\u001b[0;32m   1240\u001b[0m \u001b[1;33m\u001b[0m\u001b[0m\n\u001b[0;32m   1241\u001b[0m     def evaluate(self,\n",
      "\u001b[1;32mc:\\users\\clive\\appdata\\local\\programs\\python\\python37\\lib\\site-packages\\keras\\engine\\training_arrays.py\u001b[0m in \u001b[0;36mfit_loop\u001b[1;34m(model, fit_function, fit_inputs, out_labels, batch_size, epochs, verbose, callbacks, val_function, val_inputs, shuffle, initial_epoch, steps_per_epoch, validation_steps, validation_freq)\u001b[0m\n\u001b[0;32m    194\u001b[0m                     \u001b[0mins_batch\u001b[0m\u001b[1;33m[\u001b[0m\u001b[0mi\u001b[0m\u001b[1;33m]\u001b[0m \u001b[1;33m=\u001b[0m \u001b[0mins_batch\u001b[0m\u001b[1;33m[\u001b[0m\u001b[0mi\u001b[0m\u001b[1;33m]\u001b[0m\u001b[1;33m.\u001b[0m\u001b[0mtoarray\u001b[0m\u001b[1;33m(\u001b[0m\u001b[1;33m)\u001b[0m\u001b[1;33m\u001b[0m\u001b[1;33m\u001b[0m\u001b[0m\n\u001b[0;32m    195\u001b[0m \u001b[1;33m\u001b[0m\u001b[0m\n\u001b[1;32m--> 196\u001b[1;33m                 \u001b[0mouts\u001b[0m \u001b[1;33m=\u001b[0m \u001b[0mfit_function\u001b[0m\u001b[1;33m(\u001b[0m\u001b[0mins_batch\u001b[0m\u001b[1;33m)\u001b[0m\u001b[1;33m\u001b[0m\u001b[1;33m\u001b[0m\u001b[0m\n\u001b[0m\u001b[0;32m    197\u001b[0m                 \u001b[0mouts\u001b[0m \u001b[1;33m=\u001b[0m \u001b[0mto_list\u001b[0m\u001b[1;33m(\u001b[0m\u001b[0mouts\u001b[0m\u001b[1;33m)\u001b[0m\u001b[1;33m\u001b[0m\u001b[1;33m\u001b[0m\u001b[0m\n\u001b[0;32m    198\u001b[0m                 \u001b[1;32mfor\u001b[0m \u001b[0ml\u001b[0m\u001b[1;33m,\u001b[0m \u001b[0mo\u001b[0m \u001b[1;32min\u001b[0m \u001b[0mzip\u001b[0m\u001b[1;33m(\u001b[0m\u001b[0mout_labels\u001b[0m\u001b[1;33m,\u001b[0m \u001b[0mouts\u001b[0m\u001b[1;33m)\u001b[0m\u001b[1;33m:\u001b[0m\u001b[1;33m\u001b[0m\u001b[1;33m\u001b[0m\u001b[0m\n",
      "\u001b[1;32mc:\\users\\clive\\appdata\\local\\programs\\python\\python37\\lib\\site-packages\\tensorflow_core\\python\\keras\\backend.py\u001b[0m in \u001b[0;36m__call__\u001b[1;34m(self, inputs)\u001b[0m\n\u001b[0;32m   3738\u001b[0m         \u001b[0mvalue\u001b[0m \u001b[1;33m=\u001b[0m \u001b[0mmath_ops\u001b[0m\u001b[1;33m.\u001b[0m\u001b[0mcast\u001b[0m\u001b[1;33m(\u001b[0m\u001b[0mvalue\u001b[0m\u001b[1;33m,\u001b[0m \u001b[0mtensor\u001b[0m\u001b[1;33m.\u001b[0m\u001b[0mdtype\u001b[0m\u001b[1;33m)\u001b[0m\u001b[1;33m\u001b[0m\u001b[1;33m\u001b[0m\u001b[0m\n\u001b[0;32m   3739\u001b[0m       \u001b[0mconverted_inputs\u001b[0m\u001b[1;33m.\u001b[0m\u001b[0mappend\u001b[0m\u001b[1;33m(\u001b[0m\u001b[0mvalue\u001b[0m\u001b[1;33m)\u001b[0m\u001b[1;33m\u001b[0m\u001b[1;33m\u001b[0m\u001b[0m\n\u001b[1;32m-> 3740\u001b[1;33m     \u001b[0moutputs\u001b[0m \u001b[1;33m=\u001b[0m \u001b[0mself\u001b[0m\u001b[1;33m.\u001b[0m\u001b[0m_graph_fn\u001b[0m\u001b[1;33m(\u001b[0m\u001b[1;33m*\u001b[0m\u001b[0mconverted_inputs\u001b[0m\u001b[1;33m)\u001b[0m\u001b[1;33m\u001b[0m\u001b[1;33m\u001b[0m\u001b[0m\n\u001b[0m\u001b[0;32m   3741\u001b[0m \u001b[1;33m\u001b[0m\u001b[0m\n\u001b[0;32m   3742\u001b[0m     \u001b[1;31m# EagerTensor.numpy() will often make a copy to ensure memory safety.\u001b[0m\u001b[1;33m\u001b[0m\u001b[1;33m\u001b[0m\u001b[1;33m\u001b[0m\u001b[0m\n",
      "\u001b[1;32mc:\\users\\clive\\appdata\\local\\programs\\python\\python37\\lib\\site-packages\\tensorflow_core\\python\\eager\\function.py\u001b[0m in \u001b[0;36m__call__\u001b[1;34m(self, *args, **kwargs)\u001b[0m\n\u001b[0;32m   1079\u001b[0m       \u001b[0mTypeError\u001b[0m\u001b[1;33m:\u001b[0m \u001b[0mFor\u001b[0m \u001b[0minvalid\u001b[0m \u001b[0mpositional\u001b[0m\u001b[1;33m/\u001b[0m\u001b[0mkeyword\u001b[0m \u001b[0margument\u001b[0m \u001b[0mcombinations\u001b[0m\u001b[1;33m.\u001b[0m\u001b[1;33m\u001b[0m\u001b[1;33m\u001b[0m\u001b[0m\n\u001b[0;32m   1080\u001b[0m     \"\"\"\n\u001b[1;32m-> 1081\u001b[1;33m     \u001b[1;32mreturn\u001b[0m \u001b[0mself\u001b[0m\u001b[1;33m.\u001b[0m\u001b[0m_call_impl\u001b[0m\u001b[1;33m(\u001b[0m\u001b[0margs\u001b[0m\u001b[1;33m,\u001b[0m \u001b[0mkwargs\u001b[0m\u001b[1;33m)\u001b[0m\u001b[1;33m\u001b[0m\u001b[1;33m\u001b[0m\u001b[0m\n\u001b[0m\u001b[0;32m   1082\u001b[0m \u001b[1;33m\u001b[0m\u001b[0m\n\u001b[0;32m   1083\u001b[0m   \u001b[1;32mdef\u001b[0m \u001b[0m_call_impl\u001b[0m\u001b[1;33m(\u001b[0m\u001b[0mself\u001b[0m\u001b[1;33m,\u001b[0m \u001b[0margs\u001b[0m\u001b[1;33m,\u001b[0m \u001b[0mkwargs\u001b[0m\u001b[1;33m,\u001b[0m \u001b[0mcancellation_manager\u001b[0m\u001b[1;33m=\u001b[0m\u001b[1;32mNone\u001b[0m\u001b[1;33m)\u001b[0m\u001b[1;33m:\u001b[0m\u001b[1;33m\u001b[0m\u001b[1;33m\u001b[0m\u001b[0m\n",
      "\u001b[1;32mc:\\users\\clive\\appdata\\local\\programs\\python\\python37\\lib\\site-packages\\tensorflow_core\\python\\eager\\function.py\u001b[0m in \u001b[0;36m_call_impl\u001b[1;34m(self, args, kwargs, cancellation_manager)\u001b[0m\n\u001b[0;32m   1119\u001b[0m       raise TypeError(\"Keyword arguments {} unknown. Expected {}.\".format(\n\u001b[0;32m   1120\u001b[0m           list(kwargs.keys()), list(self._arg_keywords)))\n\u001b[1;32m-> 1121\u001b[1;33m     \u001b[1;32mreturn\u001b[0m \u001b[0mself\u001b[0m\u001b[1;33m.\u001b[0m\u001b[0m_call_flat\u001b[0m\u001b[1;33m(\u001b[0m\u001b[0margs\u001b[0m\u001b[1;33m,\u001b[0m \u001b[0mself\u001b[0m\u001b[1;33m.\u001b[0m\u001b[0mcaptured_inputs\u001b[0m\u001b[1;33m,\u001b[0m \u001b[0mcancellation_manager\u001b[0m\u001b[1;33m)\u001b[0m\u001b[1;33m\u001b[0m\u001b[1;33m\u001b[0m\u001b[0m\n\u001b[0m\u001b[0;32m   1122\u001b[0m \u001b[1;33m\u001b[0m\u001b[0m\n\u001b[0;32m   1123\u001b[0m   \u001b[1;32mdef\u001b[0m \u001b[0m_filtered_call\u001b[0m\u001b[1;33m(\u001b[0m\u001b[0mself\u001b[0m\u001b[1;33m,\u001b[0m \u001b[0margs\u001b[0m\u001b[1;33m,\u001b[0m \u001b[0mkwargs\u001b[0m\u001b[1;33m)\u001b[0m\u001b[1;33m:\u001b[0m\u001b[1;33m\u001b[0m\u001b[1;33m\u001b[0m\u001b[0m\n",
      "\u001b[1;32mc:\\users\\clive\\appdata\\local\\programs\\python\\python37\\lib\\site-packages\\tensorflow_core\\python\\eager\\function.py\u001b[0m in \u001b[0;36m_call_flat\u001b[1;34m(self, args, captured_inputs, cancellation_manager)\u001b[0m\n\u001b[0;32m   1222\u001b[0m     \u001b[1;32mif\u001b[0m \u001b[0mexecuting_eagerly\u001b[0m\u001b[1;33m:\u001b[0m\u001b[1;33m\u001b[0m\u001b[1;33m\u001b[0m\u001b[0m\n\u001b[0;32m   1223\u001b[0m       flat_outputs = forward_function.call(\n\u001b[1;32m-> 1224\u001b[1;33m           ctx, args, cancellation_manager=cancellation_manager)\n\u001b[0m\u001b[0;32m   1225\u001b[0m     \u001b[1;32melse\u001b[0m\u001b[1;33m:\u001b[0m\u001b[1;33m\u001b[0m\u001b[1;33m\u001b[0m\u001b[0m\n\u001b[0;32m   1226\u001b[0m       \u001b[0mgradient_name\u001b[0m \u001b[1;33m=\u001b[0m \u001b[0mself\u001b[0m\u001b[1;33m.\u001b[0m\u001b[0m_delayed_rewrite_functions\u001b[0m\u001b[1;33m.\u001b[0m\u001b[0mregister\u001b[0m\u001b[1;33m(\u001b[0m\u001b[1;33m)\u001b[0m\u001b[1;33m\u001b[0m\u001b[1;33m\u001b[0m\u001b[0m\n",
      "\u001b[1;32mc:\\users\\clive\\appdata\\local\\programs\\python\\python37\\lib\\site-packages\\tensorflow_core\\python\\eager\\function.py\u001b[0m in \u001b[0;36mcall\u001b[1;34m(self, ctx, args, cancellation_manager)\u001b[0m\n\u001b[0;32m    509\u001b[0m               \u001b[0minputs\u001b[0m\u001b[1;33m=\u001b[0m\u001b[0margs\u001b[0m\u001b[1;33m,\u001b[0m\u001b[1;33m\u001b[0m\u001b[1;33m\u001b[0m\u001b[0m\n\u001b[0;32m    510\u001b[0m               \u001b[0mattrs\u001b[0m\u001b[1;33m=\u001b[0m\u001b[1;33m(\u001b[0m\u001b[1;34m\"executor_type\"\u001b[0m\u001b[1;33m,\u001b[0m \u001b[0mexecutor_type\u001b[0m\u001b[1;33m,\u001b[0m \u001b[1;34m\"config_proto\"\u001b[0m\u001b[1;33m,\u001b[0m \u001b[0mconfig\u001b[0m\u001b[1;33m)\u001b[0m\u001b[1;33m,\u001b[0m\u001b[1;33m\u001b[0m\u001b[1;33m\u001b[0m\u001b[0m\n\u001b[1;32m--> 511\u001b[1;33m               ctx=ctx)\n\u001b[0m\u001b[0;32m    512\u001b[0m         \u001b[1;32melse\u001b[0m\u001b[1;33m:\u001b[0m\u001b[1;33m\u001b[0m\u001b[1;33m\u001b[0m\u001b[0m\n\u001b[0;32m    513\u001b[0m           outputs = execute.execute_with_cancellation(\n",
      "\u001b[1;32mc:\\users\\clive\\appdata\\local\\programs\\python\\python37\\lib\\site-packages\\tensorflow_core\\python\\eager\\execute.py\u001b[0m in \u001b[0;36mquick_execute\u001b[1;34m(op_name, num_outputs, inputs, attrs, ctx, name)\u001b[0m\n\u001b[0;32m     59\u001b[0m     tensors = pywrap_tensorflow.TFE_Py_Execute(ctx._handle, device_name,\n\u001b[0;32m     60\u001b[0m                                                \u001b[0mop_name\u001b[0m\u001b[1;33m,\u001b[0m \u001b[0minputs\u001b[0m\u001b[1;33m,\u001b[0m \u001b[0mattrs\u001b[0m\u001b[1;33m,\u001b[0m\u001b[1;33m\u001b[0m\u001b[1;33m\u001b[0m\u001b[0m\n\u001b[1;32m---> 61\u001b[1;33m                                                num_outputs)\n\u001b[0m\u001b[0;32m     62\u001b[0m   \u001b[1;32mexcept\u001b[0m \u001b[0mcore\u001b[0m\u001b[1;33m.\u001b[0m\u001b[0m_NotOkStatusException\u001b[0m \u001b[1;32mas\u001b[0m \u001b[0me\u001b[0m\u001b[1;33m:\u001b[0m\u001b[1;33m\u001b[0m\u001b[1;33m\u001b[0m\u001b[0m\n\u001b[0;32m     63\u001b[0m     \u001b[1;32mif\u001b[0m \u001b[0mname\u001b[0m \u001b[1;32mis\u001b[0m \u001b[1;32mnot\u001b[0m \u001b[1;32mNone\u001b[0m\u001b[1;33m:\u001b[0m\u001b[1;33m\u001b[0m\u001b[1;33m\u001b[0m\u001b[0m\n",
      "\u001b[1;31mKeyboardInterrupt\u001b[0m: "
     ]
    }
   ],
   "source": [
    "\n",
    "print('predicting classes {}'.format(class_model_1))\n",
    "\n",
    "x_1 = []\n",
    "y_1 = []\n",
    "\n",
    "\n",
    "\n",
    "for i in class_model_1:\n",
    "    \n",
    "    if i == 6:\n",
    "        x_1.extend(train_data[train_data.Labels == i]['post_processed_script'][0:230])\n",
    "        y_1.extend(train_data[train_data.Labels == i]['Labels'][0:230])\n",
    "    else:\n",
    "        x_1.extend(train_data[train_data.Labels == i]['post_processed_script'])\n",
    "        y_1.extend(train_data[train_data.Labels == i]['Labels'])\n",
    "        \n",
    "\n",
    "        \n",
    "        \n",
    "print(pd.Series(y_1).value_counts())        \n",
    "        \n",
    "\n",
    "\n",
    "sequences = global_tokenizer.texts_to_matrix(x_1,mode = 'tfidf')\n",
    "\n",
    "\n",
    "X_pad = pad_sequences(sequences,maxlen=5000,padding = 'post')\n",
    "\n",
    "from sklearn.preprocessing import LabelBinarizer\n",
    "\n",
    "\n",
    "br = LabelBinarizer()\n",
    "\n",
    "br.fit(y_1)\n",
    "\n",
    "Y = br.transform(y_1)\n",
    "\n",
    "\n",
    "X_pad = X_pad.reshape(-1,5000,1)\n",
    "\n",
    "    \n",
    "X_train, X_test, y_train, y_test = train_test_split(\n",
    "    X_pad,\n",
    "    Y,\n",
    "    test_size=0.3,\n",
    "    shuffle = True,\n",
    "    random_state=3)    \n",
    "    \n",
    "\n",
    "    \n",
    "    \n",
    "model = Sequential()\n",
    "# model.add(Embedding(input_dim= vocab_size,output_dim=8,input_length=5000))\n",
    "model.add(LSTM(128, recurrent_dropout=0.1,input_shape = (5000,1)))\n",
    "# model.add(MaxPool1D(12))\n",
    "# model.add(Flatten())\n",
    "# model.add(Dense(16,activation = 'relu'))\n",
    "# model.add(Dense(128))\n",
    "# model.add(Dropout(0.5))\n",
    "# model.add(Dense(32))\n",
    "model.add(Dense(len(class_model_1), activation='softmax'))\n",
    "\n",
    "model.compile(\n",
    "    loss=\"binary_crossentropy\",\n",
    "    optimizer='adam',\n",
    "    metrics=['accuracy'])\n",
    "\n",
    "model.summary()\n",
    "\n",
    "\n",
    "history = model.fit(\n",
    "    x=X_train,\n",
    "    y=y_train,\n",
    "    validation_data=(X_test, y_test),\n",
    "    batch_size=32,\n",
    "    epochs=20)\n",
    "\n",
    "print(log_loss(y_train,model.predict(X_train)))\n",
    "print(log_loss(y_test,model.predict(X_test)))"
   ]
  },
  {
   "cell_type": "code",
   "execution_count": null,
   "metadata": {},
   "outputs": [],
   "source": []
  },
  {
   "cell_type": "markdown",
   "metadata": {},
   "source": [
    "#  Model for class_model_2"
   ]
  },
  {
   "cell_type": "code",
   "execution_count": 333,
   "metadata": {},
   "outputs": [
    {
     "name": "stdout",
     "output_type": "stream",
     "text": [
      "predicting classes Int64Index([5, 15, 1, 16, 11], dtype='int64')\n",
      "Model: \"sequential_53\"\n",
      "_________________________________________________________________\n",
      "Layer (type)                 Output Shape              Param #   \n",
      "=================================================================\n",
      "embedding_53 (Embedding)     (None, 15000, 8)          80000     \n",
      "_________________________________________________________________\n",
      "max_pooling1d_53 (MaxPooling (None, 1875, 8)           0         \n",
      "_________________________________________________________________\n",
      "flatten_53 (Flatten)         (None, 15000)             0         \n",
      "_________________________________________________________________\n",
      "dense_99 (Dense)             (None, 128)               1920128   \n",
      "_________________________________________________________________\n",
      "dropout_67 (Dropout)         (None, 128)               0         \n",
      "_________________________________________________________________\n",
      "dense_100 (Dense)            (None, 5)                 645       \n",
      "=================================================================\n",
      "Total params: 2,000,773\n",
      "Trainable params: 2,000,773\n",
      "Non-trainable params: 0\n",
      "_________________________________________________________________\n",
      "Train on 483 samples, validate on 121 samples\n",
      "Epoch 1/10\n",
      "483/483 [==============================] - 5s 11ms/step - loss: 0.7047 - accuracy: 0.7255 - val_loss: 0.6048 - val_accuracy: 0.8000\n",
      "Epoch 2/10\n",
      "483/483 [==============================] - 4s 9ms/step - loss: 0.6007 - accuracy: 0.7901 - val_loss: 0.5137 - val_accuracy: 0.8000\n",
      "Epoch 3/10\n",
      "483/483 [==============================] - 5s 9ms/step - loss: 0.5376 - accuracy: 0.7839 - val_loss: 0.5167 - val_accuracy: 0.8000\n",
      "Epoch 4/10\n",
      "483/483 [==============================] - 5s 10ms/step - loss: 0.5106 - accuracy: 0.8000 - val_loss: 0.5049 - val_accuracy: 0.8000\n",
      "Epoch 5/10\n",
      "483/483 [==============================] - 5s 10ms/step - loss: 0.5039 - accuracy: 0.8000 - val_loss: 0.5019 - val_accuracy: 0.8000\n",
      "Epoch 6/10\n",
      "483/483 [==============================] - 4s 9ms/step - loss: 0.4949 - accuracy: 0.8000 - val_loss: 0.4940 - val_accuracy: 0.8000\n",
      "Epoch 7/10\n",
      "483/483 [==============================] - 4s 9ms/step - loss: 0.4884 - accuracy: 0.8000 - val_loss: 0.4886 - val_accuracy: 0.8000\n",
      "Epoch 8/10\n",
      "483/483 [==============================] - 5s 10ms/step - loss: 0.4810 - accuracy: 0.8000 - val_loss: 0.4847 - val_accuracy: 0.8000\n",
      "Epoch 9/10\n",
      "483/483 [==============================] - 5s 10ms/step - loss: 0.4731 - accuracy: 0.8000 - val_loss: 0.4790 - val_accuracy: 0.8000\n",
      "Epoch 10/10\n",
      "483/483 [==============================] - 4s 9ms/step - loss: 0.4644 - accuracy: 0.8000 - val_loss: 0.4744 - val_accuracy: 0.8000\n",
      "1.440381850391688\n",
      "1.5071242880230107\n"
     ]
    }
   ],
   "source": [
    "\n",
    "print('predicting classes {}'.format(class_model_2))\n",
    "\n",
    "x_2 = []\n",
    "y_2 = []\n",
    "for i in class_model_2:\n",
    "    \n",
    "    x_2.extend(train_data[train_data.Labels == i]['processed_script'])\n",
    "    y_2.extend(train_data[train_data.Labels == i]['Labels'])\n",
    "\n",
    "    \n",
    "\n",
    "\n",
    "\n",
    "\n",
    "\n",
    "# tokenizer2 = text.Tokenizer(num_words = 6000)\n",
    "# tokenizer2.fit_on_texts(x_2)\n",
    "sequences = global_tokenizer.texts_to_matrix(x_2)\n",
    "\n",
    "X_pad = pad_sequences(sequences,maxlen=15000)\n",
    "\n",
    "from sklearn.preprocessing import LabelBinarizer\n",
    "\n",
    "\n",
    "br2 = LabelBinarizer()\n",
    "\n",
    "br2.fit(y_2)\n",
    "\n",
    "Y = br2.transform(y_2)\n",
    "\n",
    "\n",
    "\n",
    "    \n",
    "X_train, X_test, y_train, y_test = train_test_split(\n",
    "    X_pad,\n",
    "    Y,\n",
    "    stratify= Y,\n",
    "    test_size=0.2,\n",
    "    shuffle = True,\n",
    "    random_state=3)    \n",
    "    \n",
    "\n",
    "    \n",
    "    \n",
    "model_2 = Sequential()\n",
    "model_2.add(Embedding(input_dim= 10000,output_dim=8,input_length=15000))\n",
    "# model.add(LSTM(128, recurrent_dropout=0.1))\n",
    "model_2.add(MaxPool1D(8))\n",
    "model_2.add(Flatten())\n",
    "model_2.add(Dense(128))\n",
    "# model.add(Dense(128))\n",
    "model_2.add(Dropout(0.3))\n",
    "# model.add(Dense(32))\n",
    "model_2.add(Dense(len(class_model_2), activation='softmax'))\n",
    "\n",
    "model_2.compile(\n",
    "    loss=\"binary_crossentropy\",\n",
    "    optimizer='adam',\n",
    "    metrics=['accuracy'])\n",
    "\n",
    "model_2.summary()\n",
    "\n",
    "\n",
    "history = model_2.fit(\n",
    "    x=X_train,\n",
    "    y=y_train,\n",
    "    validation_data=(X_test, y_test),\n",
    "    batch_size=100,\n",
    "    epochs=10)\n",
    "\n",
    "\n",
    "print(log_loss(y_train,model_2.predict(X_train)))\n",
    "print(log_loss(y_test,model_2.predict(X_test)))"
   ]
  },
  {
   "cell_type": "markdown",
   "metadata": {},
   "source": []
  },
  {
   "cell_type": "code",
   "execution_count": null,
   "metadata": {},
   "outputs": [
    {
     "name": "stdout",
     "output_type": "stream",
     "text": [
      "predicting classes Int64Index([8, 14, 7, 2, 20, 13, 21, 12, 9, 3, 17, 18, 10], dtype='int64')\n",
      "Model: \"sequential_71\"\n",
      "_________________________________________________________________\n",
      "Layer (type)                 Output Shape              Param #   \n",
      "=================================================================\n",
      "embedding_71 (Embedding)     (None, 15000, 8)          80000     \n",
      "_________________________________________________________________\n",
      "lstm_3 (LSTM)                (None, 15000, 128)        70144     \n",
      "_________________________________________________________________\n",
      "global_max_pooling1d_6 (Glob (None, 128)               0         \n",
      "_________________________________________________________________\n",
      "dense_134 (Dense)            (None, 13)                1677      \n",
      "=================================================================\n",
      "Total params: 151,821\n",
      "Trainable params: 151,821\n",
      "Non-trainable params: 0\n",
      "_________________________________________________________________\n",
      "Train on 184 samples, validate on 79 samples\n",
      "Epoch 1/3\n"
     ]
    }
   ],
   "source": [
    "\n",
    "print('predicting classes {}'.format(class_model_3))\n",
    "\n",
    "x_3 = []\n",
    "y_3 = []\n",
    "for i in class_model_3:\n",
    "    \n",
    "    x_3.extend(train_data[train_data.Labels == i]['processed_script'])\n",
    "    y_3.extend(train_data[train_data.Labels == i]['Labels'])\n",
    "\n",
    "    \n",
    "\n",
    "\n",
    "\n",
    "\n",
    "\n",
    "# tokenizer3 = text.Tokenizer(num_words = 6000)\n",
    "# tokenizer3.fit_on_texts(x_3)\n",
    "\n",
    "\n",
    "\n",
    "sequences = global_tokenizer.texts_to_matrix(x_3)\n",
    "\n",
    "X_pad = pad_sequences(sequences,maxlen=15000)\n",
    "\n",
    "from sklearn.preprocessing import LabelBinarizer\n",
    "\n",
    "\n",
    "br3 = LabelBinarizer()\n",
    "\n",
    "br3.fit(y_3)\n",
    "\n",
    "Y = br3.transform(y_3)\n",
    "\n",
    "\n",
    "\n",
    "    \n",
    "X_train, X_test, y_train, y_test = train_test_split(\n",
    "    X_pad,\n",
    "    Y,\n",
    "    stratify= Y,\n",
    "    test_size=0.3,\n",
    "    shuffle = True,\n",
    "    random_state=3)    \n",
    "    \n",
    "\n",
    "    \n",
    "    \n",
    "model_3 = Sequential()\n",
    "model_3.add(Embedding(input_dim= 10000,output_dim=8,input_length=15000))\n",
    "model_3.add(LSTM(128, recurrent_dropout=0.3))\n",
    "# model_3.add(GlobalMaxPooling1D())\n",
    "# model_3.add(Flatten())\n",
    "# model_3.add(Dense(256))\n",
    "# model.add(Dense(128))\n",
    "# # model_3.add(Dropout(0.3))\n",
    "# model.add(Dense(32))\n",
    "model_3.add(Dense(len(class_model_3), activation='softmax'))\n",
    "\n",
    "model_3.compile(\n",
    "    loss=\"binary_crossentropy\",\n",
    "    optimizer='adam',\n",
    "    metrics=['accuracy'])\n",
    "\n",
    "model_3.summary()\n",
    "\n",
    "\n",
    "history = model_3.fit(\n",
    "    x=X_train,\n",
    "    y=y_train,\n",
    "    validation_data=(X_test, y_test),\n",
    "    batch_size=64,\n",
    "    epochs=3)\n",
    "\n",
    "print(log_loss(y_train,model_3.predict(X_train)))\n",
    "print(log_loss(y_test,model_3.predict(X_test)))\n"
   ]
  },
  {
   "cell_type": "markdown",
   "metadata": {},
   "source": [
    "# Checking if models are any good on validation data"
   ]
  },
  {
   "cell_type": "code",
   "execution_count": 336,
   "metadata": {},
   "outputs": [
    {
     "name": "stdout",
     "output_type": "stream",
     "text": [
      "(53, 4)\n"
     ]
    }
   ],
   "source": [
    "pred1 = model.predict(X_test)\n",
    "pred2 = model_2.predict(X_test)\n",
    "pred3 = model_3.predict(X_test)\n",
    "\n",
    "size = X_test.shape[0]\n",
    "\n",
    "\n",
    "final_pred = np.zeros(shape = (size,22),dtype = 'float32')\n",
    "\n",
    "print(pred1.shape)\n",
    "\n"
   ]
  },
  {
   "cell_type": "markdown",
   "metadata": {},
   "source": [
    "# Stiching : (combining the outputs of all 3 models)"
   ]
  },
  {
   "cell_type": "code",
   "execution_count": 319,
   "metadata": {},
   "outputs": [
    {
     "name": "stdout",
     "output_type": "stream",
     "text": [
      "[ 0  4  6 19]\n",
      "[ 1  5 11 15 16]\n",
      "[ 2  3  7  8  9 10 12 13 14 17 18 20 21]\n"
     ]
    },
    {
     "ename": "IndexError",
     "evalue": "index 273 is out of bounds for axis 0 with size 273",
     "output_type": "error",
     "traceback": [
      "\u001b[1;31m---------------------------------------------------------------------------\u001b[0m",
      "\u001b[1;31mIndexError\u001b[0m                                Traceback (most recent call last)",
      "\u001b[1;32m<ipython-input-319-23e742238aea>\u001b[0m in \u001b[0;36m<module>\u001b[1;34m\u001b[0m\n\u001b[0;32m     21\u001b[0m \u001b[1;31m#                 print(final_pred[row][i],pred_list[index[0][0]])\u001b[0m\u001b[1;33m\u001b[0m\u001b[1;33m\u001b[0m\u001b[1;33m\u001b[0m\u001b[0m\n\u001b[0;32m     22\u001b[0m \u001b[1;33m\u001b[0m\u001b[0m\n\u001b[1;32m---> 23\u001b[1;33m                 \u001b[0mfinal_pred\u001b[0m\u001b[1;33m[\u001b[0m\u001b[0mrow\u001b[0m\u001b[1;33m]\u001b[0m\u001b[1;33m[\u001b[0m\u001b[0mi\u001b[0m\u001b[1;33m]\u001b[0m \u001b[1;33m=\u001b[0m \u001b[0mpred_list\u001b[0m\u001b[1;33m[\u001b[0m\u001b[0mrow\u001b[0m\u001b[1;33m]\u001b[0m\u001b[1;33m[\u001b[0m\u001b[0mindex\u001b[0m\u001b[1;33m[\u001b[0m\u001b[1;36m0\u001b[0m\u001b[1;33m]\u001b[0m\u001b[1;33m[\u001b[0m\u001b[1;36m0\u001b[0m\u001b[1;33m]\u001b[0m\u001b[1;33m]\u001b[0m\u001b[1;33m\u001b[0m\u001b[1;33m\u001b[0m\u001b[0m\n\u001b[0m\u001b[0;32m     24\u001b[0m \u001b[1;33m\u001b[0m\u001b[0m\n",
      "\u001b[1;31mIndexError\u001b[0m: index 273 is out of bounds for axis 0 with size 273"
     ]
    }
   ],
   "source": [
    "\n",
    "# def get_preds(x):\n",
    "\n",
    "index_model_1 = br.classes_\n",
    "index_model_2 = br2.classes_\n",
    "index_model_3 = br3.classes_\n",
    "\n",
    "print(index_model_1)\n",
    "print(index_model_2)\n",
    "print(index_model_3)\n",
    "\n",
    "for row in range(size):\n",
    "    \n",
    "    for index_list,pred_list in zip([index_model_1,index_model_2,index_model_3],[pred1,pred2,pred3]):\n",
    "\n",
    "        for i in range(22):\n",
    "\n",
    "            if i in index_list:\n",
    "\n",
    "                index = np.where(index_list == i)\n",
    "#                 print(i,index[0][0])\n",
    "#                 print(final_pred[row][i],pred_list[index[0][0]])\n",
    "                \n",
    "                final_pred[row][i] = pred_list[row][index[0][0]]\n",
    "\n"
   ]
  },
  {
   "cell_type": "code",
   "execution_count": 298,
   "metadata": {},
   "outputs": [],
   "source": [
    "pred777 = np.argmax(final_pred,axis = 1)"
   ]
  },
  {
   "cell_type": "code",
   "execution_count": null,
   "metadata": {},
   "outputs": [],
   "source": []
  },
  {
   "cell_type": "code",
   "execution_count": 330,
   "metadata": {},
   "outputs": [],
   "source": [
    "# y_test[pred777 == 8]"
   ]
  },
  {
   "cell_type": "code",
   "execution_count": 302,
   "metadata": {},
   "outputs": [
    {
     "name": "stdout",
     "output_type": "stream",
     "text": [
      "[0 0 0 1]\n",
      "[[0.1998239  0.12551732 0.2954262  0.3792326 ]]\n",
      "[[0.18729632 0.29565173 0.07183705 0.2905894  0.15462548]]\n",
      "[[0.00786015 0.03780861 0.01138598 0.4925472  0.02531686 0.02005535\n",
      "  0.02738457 0.03504599 0.23855843 0.00733564 0.04922697 0.03013035\n",
      "  0.01734385]]\n"
     ]
    }
   ],
   "source": [
    "sample = X_test[2]\n",
    "\n",
    "print(y_test[2])\n",
    "\n",
    "print(model.predict(sample.reshape(1,-1)))\n",
    "print(model_2.predict(sample.reshape(1,-1)))\n",
    "print(model_3.predict(sample.reshape(1,-1)))\n",
    "                  \n"
   ]
  },
  {
   "cell_type": "code",
   "execution_count": 254,
   "metadata": {},
   "outputs": [
    {
     "data": {
      "text/plain": [
       "array([0.37874773, 0.18132798, 0.00723269, 0.03627384, 0.14956091,\n",
       "       0.28654882, 0.24669273, 0.01026894, 0.48427323, 0.02416245,\n",
       "       0.01876203, 0.07133985, 0.02613264, 0.03216102, 0.2603025 ,\n",
       "       0.30183902, 0.15894431, 0.00707526, 0.04958217, 0.22499858,\n",
       "       0.02749178, 0.01628139], dtype=float32)"
      ]
     },
     "execution_count": 254,
     "metadata": {},
     "output_type": "execute_result"
    }
   ],
   "source": [
    "final_pred[2]"
   ]
  },
  {
   "cell_type": "code",
   "execution_count": null,
   "metadata": {},
   "outputs": [],
   "source": []
  },
  {
   "cell_type": "markdown",
   "metadata": {},
   "source": [
    "# Calculating  log loss of entire dataset"
   ]
  },
  {
   "cell_type": "code",
   "execution_count": 352,
   "metadata": {},
   "outputs": [
    {
     "name": "stdout",
     "output_type": "stream",
     "text": [
      "[ 0  4  6 19]\n",
      "[ 1  5 11 15 16]\n",
      "[ 2  3  7  8  9 10 12 13 14 17 18 20 21]\n"
     ]
    },
    {
     "data": {
      "text/plain": [
       "2.6689509184087026"
      ]
     },
     "execution_count": 352,
     "metadata": {},
     "output_type": "execute_result"
    }
   ],
   "source": [
    "\n",
    "X = train_data['processed_script']\n",
    "Y = train_data['Labels']\n",
    "\n",
    "\n",
    "X_pad_full = pad_sequences(global_tokenizer.texts_to_sequences(X),15000)\n",
    "\n",
    "\n",
    "pred1 = model.predict(X_pad_full)\n",
    "pred2 = model_2.predict(X_pad_full)\n",
    "pred3 = model_3.predict(X_pad_full)\n",
    "\n",
    "size = X_pad_full.shape[0]\n",
    "\n",
    "\n",
    "final_pred = np.zeros(shape = (size,22),dtype = 'float32')\n",
    "\n",
    "\n",
    "index_model_1 = br.classes_\n",
    "index_model_2 = br2.classes_\n",
    "index_model_3 = br3.classes_\n",
    "\n",
    "print(index_model_1)\n",
    "print(index_model_2)\n",
    "print(index_model_3)\n",
    "\n",
    "for row in range(size):\n",
    "    \n",
    "    for index_list,pred_list in zip([index_model_1,index_model_2,index_model_3],[pred1,pred2,pred3]):\n",
    "\n",
    "        for i in range(22):\n",
    "\n",
    "            if i in index_list:\n",
    "\n",
    "                index = np.where(index_list == i)\n",
    "#                 print(i,index[0][0])\n",
    "#                 print(final_pred[row][i],pred_list[index[0][0]])\n",
    "                \n",
    "                final_pred[row][i] = pred_list[row][index[0][0]]\n",
    "\n",
    "\n",
    "log_loss(train_data['Labels'].values,final_pred)"
   ]
  },
  {
   "cell_type": "code",
   "execution_count": null,
   "metadata": {},
   "outputs": [],
   "source": []
  },
  {
   "cell_type": "code",
   "execution_count": null,
   "metadata": {},
   "outputs": [],
   "source": []
  },
  {
   "cell_type": "markdown",
   "metadata": {},
   "source": [
    "# Implementing stiching for test Data"
   ]
  },
  {
   "cell_type": "code",
   "execution_count": 339,
   "metadata": {},
   "outputs": [
    {
     "name": "stdout",
     "output_type": "stream",
     "text": [
      "[ 0  4  6 19]\n",
      "[ 1  5 11 15 16]\n",
      "[ 2  3  7  8  9 10 12 13 14 17 18 20 21]\n"
     ]
    }
   ],
   "source": [
    "\n",
    "X = test_data['processed_script']\n",
    "# Y = train_data['Labels']\n",
    "\n",
    "\n",
    "X_pad_full = pad_sequences(global_tokenizer.texts_to_sequences(X),15000)\n",
    "\n",
    "\n",
    "pred1 = model.predict(X_pad_full)\n",
    "pred2 = model_2.predict(X_pad_full)\n",
    "pred3 = model_3.predict(X_pad_full)\n",
    "\n",
    "size = X_pad_full.shape[0]\n",
    "\n",
    "\n",
    "final_pred = np.zeros(shape = (size,22),dtype = 'float32')\n",
    "\n",
    "\n",
    "index_model_1 = br.classes_\n",
    "index_model_2 = br2.classes_\n",
    "index_model_3 = br3.classes_\n",
    "\n",
    "print(index_model_1)\n",
    "print(index_model_2)\n",
    "print(index_model_3)\n",
    "\n",
    "for row in range(size):\n",
    "    \n",
    "    for index_list,pred_list in zip([index_model_1,index_model_2,index_model_3],[pred1,pred2,pred3]):\n",
    "\n",
    "        for i in range(22):\n",
    "\n",
    "            if i in index_list:\n",
    "\n",
    "                index = np.where(index_list == i)\n",
    "#                 print(i,index[0][0])\n",
    "#                 print(final_pred[row][i],pred_list[index[0][0]])\n",
    "                \n",
    "                final_pred[row][i] = pred_list[row][index[0][0]]\n",
    "\n",
    "\n",
    "# log_loss(train_data['Labels'].values,final_pred)"
   ]
  },
  {
   "cell_type": "code",
   "execution_count": 328,
   "metadata": {},
   "outputs": [
    {
     "data": {
      "text/html": [
       "<div>\n",
       "<style scoped>\n",
       "    .dataframe tbody tr th:only-of-type {\n",
       "        vertical-align: middle;\n",
       "    }\n",
       "\n",
       "    .dataframe tbody tr th {\n",
       "        vertical-align: top;\n",
       "    }\n",
       "\n",
       "    .dataframe thead th {\n",
       "        text-align: right;\n",
       "    }\n",
       "</style>\n",
       "<table border=\"1\" class=\"dataframe\">\n",
       "  <thead>\n",
       "    <tr style=\"text-align: right;\">\n",
       "      <th></th>\n",
       "      <th>File_Name</th>\n",
       "      <th>8</th>\n",
       "      <th>4</th>\n",
       "      <th>6</th>\n",
       "      <th>16</th>\n",
       "      <th>15</th>\n",
       "      <th>19</th>\n",
       "      <th>1</th>\n",
       "      <th>14</th>\n",
       "      <th>0</th>\n",
       "      <th>...</th>\n",
       "      <th>7</th>\n",
       "      <th>3</th>\n",
       "      <th>13</th>\n",
       "      <th>20</th>\n",
       "      <th>21</th>\n",
       "      <th>12</th>\n",
       "      <th>10</th>\n",
       "      <th>17</th>\n",
       "      <th>9</th>\n",
       "      <th>18</th>\n",
       "    </tr>\n",
       "  </thead>\n",
       "  <tbody>\n",
       "    <tr>\n",
       "      <th>0</th>\n",
       "      <td>file_2300.txt</td>\n",
       "      <td>NaN</td>\n",
       "      <td>NaN</td>\n",
       "      <td>NaN</td>\n",
       "      <td>NaN</td>\n",
       "      <td>NaN</td>\n",
       "      <td>NaN</td>\n",
       "      <td>NaN</td>\n",
       "      <td>NaN</td>\n",
       "      <td>NaN</td>\n",
       "      <td>...</td>\n",
       "      <td>NaN</td>\n",
       "      <td>NaN</td>\n",
       "      <td>NaN</td>\n",
       "      <td>NaN</td>\n",
       "      <td>NaN</td>\n",
       "      <td>NaN</td>\n",
       "      <td>NaN</td>\n",
       "      <td>NaN</td>\n",
       "      <td>NaN</td>\n",
       "      <td>NaN</td>\n",
       "    </tr>\n",
       "    <tr>\n",
       "      <th>1</th>\n",
       "      <td>file_809.txt</td>\n",
       "      <td>NaN</td>\n",
       "      <td>NaN</td>\n",
       "      <td>NaN</td>\n",
       "      <td>NaN</td>\n",
       "      <td>NaN</td>\n",
       "      <td>NaN</td>\n",
       "      <td>NaN</td>\n",
       "      <td>NaN</td>\n",
       "      <td>NaN</td>\n",
       "      <td>...</td>\n",
       "      <td>NaN</td>\n",
       "      <td>NaN</td>\n",
       "      <td>NaN</td>\n",
       "      <td>NaN</td>\n",
       "      <td>NaN</td>\n",
       "      <td>NaN</td>\n",
       "      <td>NaN</td>\n",
       "      <td>NaN</td>\n",
       "      <td>NaN</td>\n",
       "      <td>NaN</td>\n",
       "    </tr>\n",
       "    <tr>\n",
       "      <th>2</th>\n",
       "      <td>file_1383.txt</td>\n",
       "      <td>NaN</td>\n",
       "      <td>NaN</td>\n",
       "      <td>NaN</td>\n",
       "      <td>NaN</td>\n",
       "      <td>NaN</td>\n",
       "      <td>NaN</td>\n",
       "      <td>NaN</td>\n",
       "      <td>NaN</td>\n",
       "      <td>NaN</td>\n",
       "      <td>...</td>\n",
       "      <td>NaN</td>\n",
       "      <td>NaN</td>\n",
       "      <td>NaN</td>\n",
       "      <td>NaN</td>\n",
       "      <td>NaN</td>\n",
       "      <td>NaN</td>\n",
       "      <td>NaN</td>\n",
       "      <td>NaN</td>\n",
       "      <td>NaN</td>\n",
       "      <td>NaN</td>\n",
       "    </tr>\n",
       "    <tr>\n",
       "      <th>3</th>\n",
       "      <td>file_983.txt</td>\n",
       "      <td>NaN</td>\n",
       "      <td>NaN</td>\n",
       "      <td>NaN</td>\n",
       "      <td>NaN</td>\n",
       "      <td>NaN</td>\n",
       "      <td>NaN</td>\n",
       "      <td>NaN</td>\n",
       "      <td>NaN</td>\n",
       "      <td>NaN</td>\n",
       "      <td>...</td>\n",
       "      <td>NaN</td>\n",
       "      <td>NaN</td>\n",
       "      <td>NaN</td>\n",
       "      <td>NaN</td>\n",
       "      <td>NaN</td>\n",
       "      <td>NaN</td>\n",
       "      <td>NaN</td>\n",
       "      <td>NaN</td>\n",
       "      <td>NaN</td>\n",
       "      <td>NaN</td>\n",
       "    </tr>\n",
       "    <tr>\n",
       "      <th>4</th>\n",
       "      <td>file_1713.txt</td>\n",
       "      <td>NaN</td>\n",
       "      <td>NaN</td>\n",
       "      <td>NaN</td>\n",
       "      <td>NaN</td>\n",
       "      <td>NaN</td>\n",
       "      <td>NaN</td>\n",
       "      <td>NaN</td>\n",
       "      <td>NaN</td>\n",
       "      <td>NaN</td>\n",
       "      <td>...</td>\n",
       "      <td>NaN</td>\n",
       "      <td>NaN</td>\n",
       "      <td>NaN</td>\n",
       "      <td>NaN</td>\n",
       "      <td>NaN</td>\n",
       "      <td>NaN</td>\n",
       "      <td>NaN</td>\n",
       "      <td>NaN</td>\n",
       "      <td>NaN</td>\n",
       "      <td>NaN</td>\n",
       "    </tr>\n",
       "  </tbody>\n",
       "</table>\n",
       "<p>5 rows × 23 columns</p>\n",
       "</div>"
      ],
      "text/plain": [
       "       File_Name    8    4    6   16   15   19    1   14    0  ...    7    3  \\\n",
       "0  file_2300.txt  NaN  NaN  NaN  NaN  NaN  NaN  NaN  NaN  NaN  ...  NaN  NaN   \n",
       "1   file_809.txt  NaN  NaN  NaN  NaN  NaN  NaN  NaN  NaN  NaN  ...  NaN  NaN   \n",
       "2  file_1383.txt  NaN  NaN  NaN  NaN  NaN  NaN  NaN  NaN  NaN  ...  NaN  NaN   \n",
       "3   file_983.txt  NaN  NaN  NaN  NaN  NaN  NaN  NaN  NaN  NaN  ...  NaN  NaN   \n",
       "4  file_1713.txt  NaN  NaN  NaN  NaN  NaN  NaN  NaN  NaN  NaN  ...  NaN  NaN   \n",
       "\n",
       "    13   20   21   12   10   17    9   18  \n",
       "0  NaN  NaN  NaN  NaN  NaN  NaN  NaN  NaN  \n",
       "1  NaN  NaN  NaN  NaN  NaN  NaN  NaN  NaN  \n",
       "2  NaN  NaN  NaN  NaN  NaN  NaN  NaN  NaN  \n",
       "3  NaN  NaN  NaN  NaN  NaN  NaN  NaN  NaN  \n",
       "4  NaN  NaN  NaN  NaN  NaN  NaN  NaN  NaN  \n",
       "\n",
       "[5 rows x 23 columns]"
      ]
     },
     "execution_count": 328,
     "metadata": {},
     "output_type": "execute_result"
    }
   ],
   "source": [
    "test_set_preds = pd.DataFrame(columns = train_data.Labels.unique().tolist())\n",
    "test_set_preds.insert(0, 'File_Name', test_data.File_Name)\n",
    "\n",
    "test_set_preds.head()"
   ]
  },
  {
   "cell_type": "code",
   "execution_count": 329,
   "metadata": {},
   "outputs": [
    {
     "data": {
      "text/html": [
       "<div>\n",
       "<style scoped>\n",
       "    .dataframe tbody tr th:only-of-type {\n",
       "        vertical-align: middle;\n",
       "    }\n",
       "\n",
       "    .dataframe tbody tr th {\n",
       "        vertical-align: top;\n",
       "    }\n",
       "\n",
       "    .dataframe thead th {\n",
       "        text-align: right;\n",
       "    }\n",
       "</style>\n",
       "<table border=\"1\" class=\"dataframe\">\n",
       "  <thead>\n",
       "    <tr style=\"text-align: right;\">\n",
       "      <th></th>\n",
       "      <th>File_Name</th>\n",
       "      <th>8</th>\n",
       "      <th>4</th>\n",
       "      <th>6</th>\n",
       "      <th>16</th>\n",
       "      <th>15</th>\n",
       "      <th>19</th>\n",
       "      <th>1</th>\n",
       "      <th>14</th>\n",
       "      <th>0</th>\n",
       "      <th>...</th>\n",
       "      <th>7</th>\n",
       "      <th>3</th>\n",
       "      <th>13</th>\n",
       "      <th>20</th>\n",
       "      <th>21</th>\n",
       "      <th>12</th>\n",
       "      <th>10</th>\n",
       "      <th>17</th>\n",
       "      <th>9</th>\n",
       "      <th>18</th>\n",
       "    </tr>\n",
       "  </thead>\n",
       "  <tbody>\n",
       "    <tr>\n",
       "      <th>0</th>\n",
       "      <td>file_2300.txt</td>\n",
       "      <td>0.179997</td>\n",
       "      <td>0.165534</td>\n",
       "      <td>0.104334</td>\n",
       "      <td>0.0139271</td>\n",
       "      <td>0.337738</td>\n",
       "      <td>0.102053</td>\n",
       "      <td>0.243308</td>\n",
       "      <td>0.212032</td>\n",
       "      <td>0.29192</td>\n",
       "      <td>...</td>\n",
       "      <td>0.0433663</td>\n",
       "      <td>0.10396</td>\n",
       "      <td>0.098329</td>\n",
       "      <td>0.378092</td>\n",
       "      <td>0.163825</td>\n",
       "      <td>0.0273076</td>\n",
       "      <td>0.0330796</td>\n",
       "      <td>0.238958</td>\n",
       "      <td>0.0207412</td>\n",
       "      <td>0.00813573</td>\n",
       "    </tr>\n",
       "    <tr>\n",
       "      <th>1</th>\n",
       "      <td>file_809.txt</td>\n",
       "      <td>0.224785</td>\n",
       "      <td>0.112996</td>\n",
       "      <td>0.0479852</td>\n",
       "      <td>0.0265388</td>\n",
       "      <td>0.296745</td>\n",
       "      <td>0.191697</td>\n",
       "      <td>0.167473</td>\n",
       "      <td>0.022619</td>\n",
       "      <td>0.358768</td>\n",
       "      <td>...</td>\n",
       "      <td>0.0391936</td>\n",
       "      <td>0.0660432</td>\n",
       "      <td>0.299585</td>\n",
       "      <td>0.284031</td>\n",
       "      <td>0.135385</td>\n",
       "      <td>0.011945</td>\n",
       "      <td>0.0348955</td>\n",
       "      <td>0.310997</td>\n",
       "      <td>0.0319124</td>\n",
       "      <td>0.0091878</td>\n",
       "    </tr>\n",
       "    <tr>\n",
       "      <th>2</th>\n",
       "      <td>file_1383.txt</td>\n",
       "      <td>0.186323</td>\n",
       "      <td>0.134444</td>\n",
       "      <td>0.0677134</td>\n",
       "      <td>0.0182299</td>\n",
       "      <td>0.353126</td>\n",
       "      <td>0.137415</td>\n",
       "      <td>0.192924</td>\n",
       "      <td>0.0852254</td>\n",
       "      <td>0.34689</td>\n",
       "      <td>...</td>\n",
       "      <td>0.0424515</td>\n",
       "      <td>0.152717</td>\n",
       "      <td>0.157133</td>\n",
       "      <td>0.365475</td>\n",
       "      <td>0.188888</td>\n",
       "      <td>0.0170025</td>\n",
       "      <td>0.0343105</td>\n",
       "      <td>0.267627</td>\n",
       "      <td>0.0235579</td>\n",
       "      <td>0.00649431</td>\n",
       "    </tr>\n",
       "    <tr>\n",
       "      <th>3</th>\n",
       "      <td>file_983.txt</td>\n",
       "      <td>0.190752</td>\n",
       "      <td>0.208206</td>\n",
       "      <td>0.178399</td>\n",
       "      <td>0.0159887</td>\n",
       "      <td>0.365073</td>\n",
       "      <td>0.111734</td>\n",
       "      <td>0.246223</td>\n",
       "      <td>0.251481</td>\n",
       "      <td>0.103202</td>\n",
       "      <td>...</td>\n",
       "      <td>0.0420709</td>\n",
       "      <td>0.089523</td>\n",
       "      <td>0.0378164</td>\n",
       "      <td>0.253548</td>\n",
       "      <td>0.203901</td>\n",
       "      <td>0.121253</td>\n",
       "      <td>0.042692</td>\n",
       "      <td>0.197952</td>\n",
       "      <td>0.0262414</td>\n",
       "      <td>0.0214281</td>\n",
       "    </tr>\n",
       "    <tr>\n",
       "      <th>4</th>\n",
       "      <td>file_1713.txt</td>\n",
       "      <td>0.349447</td>\n",
       "      <td>0.244317</td>\n",
       "      <td>0.0082905</td>\n",
       "      <td>0.0389071</td>\n",
       "      <td>0.124269</td>\n",
       "      <td>0.238044</td>\n",
       "      <td>0.182983</td>\n",
       "      <td>0.0111615</td>\n",
       "      <td>0.474891</td>\n",
       "      <td>...</td>\n",
       "      <td>0.0284956</td>\n",
       "      <td>0.0351755</td>\n",
       "      <td>0.245159</td>\n",
       "      <td>0.280089</td>\n",
       "      <td>0.0727647</td>\n",
       "      <td>0.00791956</td>\n",
       "      <td>0.0520025</td>\n",
       "      <td>0.343302</td>\n",
       "      <td>0.0317073</td>\n",
       "      <td>0.0182776</td>\n",
       "    </tr>\n",
       "  </tbody>\n",
       "</table>\n",
       "<p>5 rows × 23 columns</p>\n",
       "</div>"
      ],
      "text/plain": [
       "       File_Name         8         4          6         16        15  \\\n",
       "0  file_2300.txt  0.179997  0.165534   0.104334  0.0139271  0.337738   \n",
       "1   file_809.txt  0.224785  0.112996  0.0479852  0.0265388  0.296745   \n",
       "2  file_1383.txt  0.186323  0.134444  0.0677134  0.0182299  0.353126   \n",
       "3   file_983.txt  0.190752  0.208206   0.178399  0.0159887  0.365073   \n",
       "4  file_1713.txt  0.349447  0.244317  0.0082905  0.0389071  0.124269   \n",
       "\n",
       "         19         1         14         0  ...          7          3  \\\n",
       "0  0.102053  0.243308   0.212032   0.29192  ...  0.0433663    0.10396   \n",
       "1  0.191697  0.167473   0.022619  0.358768  ...  0.0391936  0.0660432   \n",
       "2  0.137415  0.192924  0.0852254   0.34689  ...  0.0424515   0.152717   \n",
       "3  0.111734  0.246223   0.251481  0.103202  ...  0.0420709   0.089523   \n",
       "4  0.238044  0.182983  0.0111615  0.474891  ...  0.0284956  0.0351755   \n",
       "\n",
       "          13        20         21          12         10        17          9  \\\n",
       "0   0.098329  0.378092   0.163825   0.0273076  0.0330796  0.238958  0.0207412   \n",
       "1   0.299585  0.284031   0.135385    0.011945  0.0348955  0.310997  0.0319124   \n",
       "2   0.157133  0.365475   0.188888   0.0170025  0.0343105  0.267627  0.0235579   \n",
       "3  0.0378164  0.253548   0.203901    0.121253   0.042692  0.197952  0.0262414   \n",
       "4   0.245159  0.280089  0.0727647  0.00791956  0.0520025  0.343302  0.0317073   \n",
       "\n",
       "           18  \n",
       "0  0.00813573  \n",
       "1   0.0091878  \n",
       "2  0.00649431  \n",
       "3   0.0214281  \n",
       "4   0.0182776  \n",
       "\n",
       "[5 rows x 23 columns]"
      ]
     },
     "execution_count": 329,
     "metadata": {},
     "output_type": "execute_result"
    }
   ],
   "source": [
    "test_set_preds.iloc[:,1:] = final_pred\n",
    "#Reorder the columns to match the Sample_submission_file\n",
    "test_set_preds = test_set_preds[['File_Name',0,1,2,3,4,5,6,7,8,9,10,11,12,13,14,15,16,17,18,19,20,21]]\n",
    "#Write your submissions to an excel file\n",
    "# test_set_preds.to_excel('ensemble_trick_1.xlsx', index=False)\n",
    "test_set_preds.head()"
   ]
  }
 ],
 "metadata": {
  "kernelspec": {
   "display_name": "Python 3",
   "language": "python",
   "name": "python3"
  },
  "language_info": {
   "codemirror_mode": {
    "name": "ipython",
    "version": 3
   },
   "file_extension": ".py",
   "mimetype": "text/x-python",
   "name": "python",
   "nbconvert_exporter": "python",
   "pygments_lexer": "ipython3",
   "version": "3.7.3"
  }
 },
 "nbformat": 4,
 "nbformat_minor": 2
}
